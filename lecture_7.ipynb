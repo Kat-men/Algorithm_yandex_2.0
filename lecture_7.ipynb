{
 "cells": [
  {
   "cell_type": "markdown",
   "id": "912864b0",
   "metadata": {},
   "source": [
    "Сортировка событий "
   ]
  },
  {
   "cell_type": "markdown",
   "id": "4adb754f",
   "metadata": {},
   "source": [
    "существуют нектороый отрезки во времени. важно знать время захода в отрезок или выхода. И далее расчет\n"
   ]
  },
  {
   "cell_type": "markdown",
   "id": "7e97949a",
   "metadata": {},
   "source": [
    "Задача 1\n",
    "\n",
    "сайт посетило N человек, для каждого известно время входа In, и  время выхода с сайта Out. Считается, что человек был на сайте с момента In по Out, включительно. \n",
    "\n",
    "какое макс кол-во человек было на сайте одновременно."
   ]
  },
  {
   "cell_type": "code",
   "execution_count": null,
   "id": "ad509036",
   "metadata": {},
   "outputs": [],
   "source": [
    "Решение\n",
    "создать пары вход выход . вход < выход."
   ]
  },
  {
   "cell_type": "code",
   "execution_count": 1,
   "id": "28a86d23",
   "metadata": {},
   "outputs": [],
   "source": [
    "def max_visit_online(n, tin, tout):\n",
    "    events = []\n",
    "    for i in range(n):\n",
    "        events.append((tin[i], -1))\n",
    "        events.append((tout[i], 1))\n",
    "        \n",
    "    events.sort()\n",
    "    online = 0\n",
    "    maxonline = 0\n",
    "    for event in events:\n",
    "        if event[1] == -1:\n",
    "            online += 1\n",
    "        else:\n",
    "            online -= 1\n",
    "        maxonline = max(online, maxonline)\n",
    "    return maxonline"
   ]
  },
  {
   "cell_type": "markdown",
   "id": "ec7b6bc1",
   "metadata": {},
   "source": [
    "Задача 2\n",
    "\n",
    "те же условия , что и в задаче 1.\n",
    "\n",
    "Суммарное время на сайте для одного человека"
   ]
  },
  {
   "cell_type": "code",
   "execution_count": 2,
   "id": "f2e85923",
   "metadata": {},
   "outputs": [],
   "source": [
    "def time_vissit(n, tin, tout):\n",
    "    events = []\n",
    "    for i in range(n):\n",
    "        events.append((tin[i], -1))\n",
    "        events.append((tout[i], 1))\n",
    "        \n",
    "    events.sort()\n",
    "    online = 0\n",
    "    empty_time = 0\n",
    "    for i in range(len(events)):\n",
    "        if online > 0:\n",
    "            empty_time += events[i][0] - events[i - 1][0]\n",
    "        if events[i][1] == -1:\n",
    "            online += 1\n",
    "        else:\n",
    "            online -= 1\n",
    "    return empty_time"
   ]
  },
  {
   "cell_type": "markdown",
   "id": "c31d4abc",
   "metadata": {},
   "source": [
    "Задаяа 3\n",
    "\n",
    "те же условия что и в задаче 1 + \n",
    "Начальник заходил на сайт M раз в моменты времеени Boss. проверял сколько людей онлайн.\n",
    "посещения начальником упоряд по времени.\n",
    "\n",
    "какие показания счетчика людей онлайн увидел начальник"
   ]
  },
  {
   "cell_type": "markdown",
   "id": "91e00c93",
   "metadata": {},
   "source": [
    "решение - третий тип событий - начальник зашел на сайт. при наступлении сохраняем текущее значение счетчика посетителей."
   ]
  },
  {
   "cell_type": "code",
   "execution_count": 4,
   "id": "11ab3c71",
   "metadata": {},
   "outputs": [],
   "source": [
    "def boss_counter(n, tin, tout, m, tboss):\n",
    "    events = []\n",
    "    for i in range(n):\n",
    "        events.append((tin[i], -1))\n",
    "        events.append((tout[i], 1))\n",
    "    for i in range(m):\n",
    "        events.append((tboss[i], 0))\n",
    "    events.sort()\n",
    "    online = 0\n",
    "    boss_cnt = []\n",
    "    for i in range(len(events)):\n",
    "\n",
    "        if events[i][1] == -1:\n",
    "            online += 1\n",
    "        elif events[i][1] == 1:\n",
    "            online -= 1\n",
    "        else:\n",
    "             boss_cnt.append(online)\n",
    "    return boss_cnt"
   ]
  },
  {
   "cell_type": "markdown",
   "id": "22f97e36",
   "metadata": {},
   "source": [
    "События на круге\n",
    "(часы)"
   ]
  },
  {
   "cell_type": "markdown",
   "id": "95aaffb5",
   "metadata": {},
   "source": [
    "Задача 4\n",
    "\n",
    "N мест. За день M автомобилей(могли занимать несколько мест). есть время заезда и отъезда и кол-во занятых парковочных мест. отъезд должен происходить раньше\n",
    "\n",
    "был ли момент когда заняты все места."
   ]
  },
  {
   "cell_type": "code",
   "execution_count": 5,
   "id": "4f914b09",
   "metadata": {},
   "outputs": [],
   "source": [
    "def parking_full(cars, n):\n",
    "    events = []\n",
    "    for car in cars:\n",
    "        timein, timeout, placeform, placeto = car\n",
    "        events.append((timein, 1, placeto - placeform + 1))\n",
    "        events.append((timeout, -1, placeto - placeform + 1))\n",
    "    events.sort()\n",
    "    occupied = 0\n",
    "    \n",
    "    \n",
    "    for i in range(len(events)):\n",
    "\n",
    "        if events[i][1] == -1:\n",
    "            occupied -= events[i][2]\n",
    "        elif events[i][1] == 1:\n",
    "            occupied += events[i][2]\n",
    "        if occupied == n:\n",
    "            return True\n",
    "    return False"
   ]
  },
  {
   "cell_type": "markdown",
   "id": "58f894bc",
   "metadata": {},
   "source": [
    "ЗАдача 5\n",
    "те же условия что и в задаче 4\n",
    "\n",
    "минимальное кол-во автомобилей заняло мест. иначе M + 1."
   ]
  },
  {
   "cell_type": "code",
   "execution_count": 6,
   "id": "3eefa617",
   "metadata": {},
   "outputs": [],
   "source": [
    "def parking_full_min(cars, n):\n",
    "    events = []\n",
    "    for car in cars:\n",
    "        timein, timeout, placeform, placeto = car\n",
    "        events.append((timein, 1, placeto - placeform + 1))\n",
    "        events.append((timeout, -1, placeto - placeform + 1))\n",
    "    events.sort()\n",
    "    occupied = 0\n",
    "    nowcars  = 0\n",
    "    mincars = len(cars) + 1\n",
    "    for i in range(len(events)):\n",
    "\n",
    "        if events[i][1] == -1:\n",
    "            occupied -= events[i][2]\n",
    "            nowcars -= 1\n",
    "        elif events[i][1] == 1:\n",
    "            occupied += events[i][2]\n",
    "            nowcars += 1\n",
    "        if occupied == n:\n",
    "            mincars = min(mincars, nowcars)\n",
    "    return mincars"
   ]
  },
  {
   "cell_type": "markdown",
   "id": "b6a40052",
   "metadata": {},
   "source": [
    "Задача 6\n",
    "те же условия что и в задаче 5. \n",
    "\n",
    "номера автомобилей. если не была занята парковка то вернуть пустой список."
   ]
  },
  {
   "cell_type": "code",
   "execution_count": 8,
   "id": "e27268a6",
   "metadata": {},
   "outputs": [],
   "source": [
    "# неэффективное решение\n",
    "def parking_full_min_names(cars, n):\n",
    "    events = []\n",
    "    for i in range(len(cars)):\n",
    "        timein, timeout, placeform, placeto = cars[i]\n",
    "        events.append((timein, 1, placeto - placeform + 1, i))\n",
    "        events.append((timeout, -1, placeto - placeform + 1, i))\n",
    "    events.sort()\n",
    "    occupied = 0\n",
    "    nowcars  = 0\n",
    "    mincars = len(cars) + 1\n",
    "    names = set()\n",
    "    best_names = set()\n",
    "    for i in range(len(events)):\n",
    "\n",
    "        if events[i][1] == -1:\n",
    "            occupied -= events[i][2]\n",
    "            nowcars -= 1\n",
    "            names.remove(events[i][3])\n",
    "        elif events[i][1] == 1:\n",
    "            occupied += events[i][2]\n",
    "            nowcars += 1\n",
    "            names.add(events[i][3])\n",
    "        if occupied == n and nowcars < mincars:\n",
    "            best_names = names.coopy()\n",
    "            mincars = nowcars\n",
    "    return best_names"
   ]
  },
  {
   "cell_type": "code",
   "execution_count": 9,
   "id": "c0b7eeb7",
   "metadata": {},
   "outputs": [],
   "source": [
    "def parking_full_min_names(cars, n):\n",
    "    events = []\n",
    "    for i in range(len(cars)):\n",
    "        timein, timeout, placeform, placeto = cars[i]\n",
    "        events.append((timein, 1, placeto - placeform + 1, i))\n",
    "        events.append((timeout, -1, placeto - placeform + 1, i))\n",
    "    events.sort()\n",
    "    occupied = 0\n",
    "    nowcars  = 0\n",
    "    mincars = len(cars) + 1\n",
    "    for i in range(len(events)):\n",
    "\n",
    "        if events[i][1] == -1:\n",
    "            occupied -= events[i][2]\n",
    "            nowcars -= 1\n",
    "        elif events[i][1] == 1:\n",
    "            occupied += events[i][2]\n",
    "            nowcars += 1\n",
    "        if occupied == n and nowcars < mincars:\n",
    "            mincars = nowcars\n",
    "    \n",
    "    names = set()\n",
    "    nowcars = 0\n",
    "    for i in range(len(events)):\n",
    "\n",
    "        if events[i][1] == -1:\n",
    "            occupied -= events[i][2]\n",
    "            nowcars -= 1\n",
    "            names.remove(events[i][3])\n",
    "        elif events[i][1] == 1:\n",
    "            occupied += events[i][2]\n",
    "            nowcars += 1\n",
    "            names.add(events[i][3])\n",
    "        if occupied == n and nowcars == mincars:\n",
    "            return names\n",
    "    return set()"
   ]
  }
 ],
 "metadata": {
  "kernelspec": {
   "display_name": "Python 3",
   "language": "python",
   "name": "python3"
  },
  "language_info": {
   "codemirror_mode": {
    "name": "ipython",
    "version": 3
   },
   "file_extension": ".py",
   "mimetype": "text/x-python",
   "name": "python",
   "nbconvert_exporter": "python",
   "pygments_lexer": "ipython3",
   "version": "3.8.8"
  }
 },
 "nbformat": 4,
 "nbformat_minor": 5
}
