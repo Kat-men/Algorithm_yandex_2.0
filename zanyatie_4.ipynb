{
 "cells": [
  {
   "cell_type": "markdown",
   "id": "8377abdb",
   "metadata": {},
   "source": [
    "Толя-Карп запросил для себя n посылок с «Аллигатор-экспресс».\n",
    "\n",
    "Посылка представляет из себя ящик. Внутри ящика лежит целое число ai. Номер на ящике di указывает на цвет числа, лежащего внутри.\n",
    "\n",
    "Толю-Карпа интересует, чему будут равны значения чисел, если сложить между собой все те, что имеют одинаковый цвет. Напишите, пожалуйста, программу, которая выводит результат.\n",
    "\n",
    "Формат ввода\n",
    "В первой строке одно число n (0 ≤ n ≤ 2*105).\n",
    "\n",
    "В следующих n строках заданы по два числа: цвет числа в ящике di и значение числа ai (-1018 ≤ di, ai ≤ 1018).\n",
    "\n",
    "Гарантируется, что сумма чисел одного цвета не превышает 1018.\n",
    "\n",
    "Формат вывода\n",
    "Выведите в порядке возрастания номера цвета пары чисел, каждая в новой строке: номер цвета и сумму всех чисел данного цвета."
   ]
  },
  {
   "cell_type": "markdown",
   "id": "926d61aa",
   "metadata": {},
   "source": [
    "Vvod:\n",
    "7\n",
    "\n",
    "1 5\n",
    "10 -5\n",
    "1 10\n",
    "4 -2\n",
    "4 3\n",
    "4 1\n",
    "4 0\n",
    "Vivod:\n",
    "1 15\n",
    "4 2\n",
    "10 -5"
   ]
  },
  {
   "cell_type": "code",
   "execution_count": 5,
   "id": "423ec504",
   "metadata": {},
   "outputs": [
    {
     "name": "stdout",
     "output_type": "stream",
     "text": [
      "7\n"
     ]
    }
   ],
   "source": [
    "n = int(input())"
   ]
  },
  {
   "cell_type": "code",
   "execution_count": 25,
   "id": "689beb0e",
   "metadata": {},
   "outputs": [
    {
     "name": "stdout",
     "output_type": "stream",
     "text": [
      "1 5\n",
      "10 -5\n",
      "1 10\n",
      "4 -2\n",
      "4 3\n",
      "4 1\n",
      "4 0\n",
      "{1: 30, 10: -10, 4: 4}\n"
     ]
    }
   ],
   "source": [
    "mass = {}\n",
    "for key in range(n):\n",
    "    d,a = map(int,input().split())\n",
    "    if d not in mass:\n",
    "        mass[d] = 0\n",
    "    mass[d] += a\n",
    "print(mass)"
   ]
  },
  {
   "cell_type": "code",
   "execution_count": 32,
   "id": "3000b776",
   "metadata": {},
   "outputs": [],
   "source": [
    "import pandas as pd"
   ]
  },
  {
   "cell_type": "code",
   "execution_count": 44,
   "id": "e2950ba5",
   "metadata": {},
   "outputs": [
    {
     "name": "stdout",
     "output_type": "stream",
     "text": [
      "1 30\n",
      "4 4\n",
      "10 -10\n"
     ]
    }
   ],
   "source": [
    "for k in sorted(mass.keys()):\n",
    "    print (k, mass[k])"
   ]
  },
  {
   "cell_type": "code",
   "execution_count": 46,
   "id": "bbaa2458",
   "metadata": {},
   "outputs": [
    {
     "name": "stdout",
     "output_type": "stream",
     "text": [
      "5\n",
      "5 -10000\n",
      "-5 100000000000\n",
      "10 2000000000000\n",
      "-5 -300000000000\n",
      "0 10000000000000\n",
      "-5 -200000000000\n",
      "0 10000000000000\n",
      "5 -10000\n",
      "10 2000000000000\n"
     ]
    }
   ],
   "source": [
    "n = int(input())\n",
    "mass = {}\n",
    "for key in range(n):\n",
    "    d,a = map(int,input().split())\n",
    "    if d not in mass:\n",
    "        mass[d] = 0\n",
    "    mass[d] += a\n",
    "for k in sorted(mass.keys()):\n",
    "    print (k, mass[k])"
   ]
  },
  {
   "cell_type": "markdown",
   "id": "614277bb",
   "metadata": {},
   "source": [
    "задача 2\n",
    "\n",
    "Каждая строка входного файла содержит фамилию кандидата, за которого отдают голоса выборщики этого штата, затем через пробел идет количество выборщиков, отдавших голоса за этого кандидата.\n",
    "\n",
    "Формат вывода\n",
    "Выведите фамилии всех кандидатов в лексикографическом порядке, затем, через пробел, количество отданных за них голосов.\n",
    "\n",
    "McCain 10\n",
    "McCain 5\n",
    "Obama 9\n",
    "Obama 8\n",
    "McCain 1\n",
    "\n",
    "McCain 16\n",
    "Obama 17"
   ]
  },
  {
   "cell_type": "code",
   "execution_count": 67,
   "id": "bfb303d2",
   "metadata": {},
   "outputs": [
    {
     "name": "stdout",
     "output_type": "stream",
     "text": [
      "McCain 10\n",
      "McCain\n",
      "McCain 5\n",
      "McCain\n",
      "Obama 9\n",
      "Obama\n",
      "Obama 8\n",
      "Obama\n",
      "McCain 1\n",
      "McCain\n"
     ]
    },
    {
     "ename": "KeyboardInterrupt",
     "evalue": "Interrupted by user",
     "output_type": "error",
     "traceback": [
      "\u001b[1;31m---------------------------------------------------------------------------\u001b[0m",
      "\u001b[1;31mKeyboardInterrupt\u001b[0m                         Traceback (most recent call last)",
      "\u001b[1;32m<ipython-input-67-b657d1876251>\u001b[0m in \u001b[0;36m<module>\u001b[1;34m\u001b[0m\n\u001b[0;32m      9\u001b[0m         \u001b[0mmass\u001b[0m\u001b[1;33m[\u001b[0m\u001b[0mname\u001b[0m\u001b[1;33m]\u001b[0m \u001b[1;33m=\u001b[0m \u001b[1;36m0\u001b[0m\u001b[1;33m\u001b[0m\u001b[1;33m\u001b[0m\u001b[0m\n\u001b[0;32m     10\u001b[0m     \u001b[0mmass\u001b[0m\u001b[1;33m[\u001b[0m\u001b[0mname\u001b[0m\u001b[1;33m]\u001b[0m \u001b[1;33m+=\u001b[0m \u001b[0mint\u001b[0m\u001b[1;33m(\u001b[0m\u001b[0mgol\u001b[0m\u001b[1;33m)\u001b[0m\u001b[1;33m\u001b[0m\u001b[1;33m\u001b[0m\u001b[0m\n\u001b[1;32m---> 11\u001b[1;33m     \u001b[0mrow\u001b[0m \u001b[1;33m=\u001b[0m \u001b[0minput\u001b[0m\u001b[1;33m(\u001b[0m\u001b[1;33m)\u001b[0m\u001b[1;33m\u001b[0m\u001b[1;33m\u001b[0m\u001b[0m\n\u001b[0m\u001b[0;32m     12\u001b[0m \u001b[1;33m\u001b[0m\u001b[0m\n\u001b[0;32m     13\u001b[0m \u001b[1;33m\u001b[0m\u001b[0m\n",
      "\u001b[1;32m~\\anaconda3\\lib\\site-packages\\ipykernel\\kernelbase.py\u001b[0m in \u001b[0;36mraw_input\u001b[1;34m(self, prompt)\u001b[0m\n\u001b[0;32m    858\u001b[0m                 \u001b[1;34m\"raw_input was called, but this frontend does not support input requests.\"\u001b[0m\u001b[1;33m\u001b[0m\u001b[1;33m\u001b[0m\u001b[0m\n\u001b[0;32m    859\u001b[0m             )\n\u001b[1;32m--> 860\u001b[1;33m         return self._input_request(str(prompt),\n\u001b[0m\u001b[0;32m    861\u001b[0m             \u001b[0mself\u001b[0m\u001b[1;33m.\u001b[0m\u001b[0m_parent_ident\u001b[0m\u001b[1;33m,\u001b[0m\u001b[1;33m\u001b[0m\u001b[1;33m\u001b[0m\u001b[0m\n\u001b[0;32m    862\u001b[0m             \u001b[0mself\u001b[0m\u001b[1;33m.\u001b[0m\u001b[0m_parent_header\u001b[0m\u001b[1;33m,\u001b[0m\u001b[1;33m\u001b[0m\u001b[1;33m\u001b[0m\u001b[0m\n",
      "\u001b[1;32m~\\anaconda3\\lib\\site-packages\\ipykernel\\kernelbase.py\u001b[0m in \u001b[0;36m_input_request\u001b[1;34m(self, prompt, ident, parent, password)\u001b[0m\n\u001b[0;32m    902\u001b[0m             \u001b[1;32mexcept\u001b[0m \u001b[0mKeyboardInterrupt\u001b[0m\u001b[1;33m:\u001b[0m\u001b[1;33m\u001b[0m\u001b[1;33m\u001b[0m\u001b[0m\n\u001b[0;32m    903\u001b[0m                 \u001b[1;31m# re-raise KeyboardInterrupt, to truncate traceback\u001b[0m\u001b[1;33m\u001b[0m\u001b[1;33m\u001b[0m\u001b[1;33m\u001b[0m\u001b[0m\n\u001b[1;32m--> 904\u001b[1;33m                 \u001b[1;32mraise\u001b[0m \u001b[0mKeyboardInterrupt\u001b[0m\u001b[1;33m(\u001b[0m\u001b[1;34m\"Interrupted by user\"\u001b[0m\u001b[1;33m)\u001b[0m \u001b[1;32mfrom\u001b[0m \u001b[1;32mNone\u001b[0m\u001b[1;33m\u001b[0m\u001b[1;33m\u001b[0m\u001b[0m\n\u001b[0m\u001b[0;32m    905\u001b[0m             \u001b[1;32mexcept\u001b[0m \u001b[0mException\u001b[0m \u001b[1;32mas\u001b[0m \u001b[0me\u001b[0m\u001b[1;33m:\u001b[0m\u001b[1;33m\u001b[0m\u001b[1;33m\u001b[0m\u001b[0m\n\u001b[0;32m    906\u001b[0m                 \u001b[0mself\u001b[0m\u001b[1;33m.\u001b[0m\u001b[0mlog\u001b[0m\u001b[1;33m.\u001b[0m\u001b[0mwarning\u001b[0m\u001b[1;33m(\u001b[0m\u001b[1;34m\"Invalid Message:\"\u001b[0m\u001b[1;33m,\u001b[0m \u001b[0mexc_info\u001b[0m\u001b[1;33m=\u001b[0m\u001b[1;32mTrue\u001b[0m\u001b[1;33m)\u001b[0m\u001b[1;33m\u001b[0m\u001b[1;33m\u001b[0m\u001b[0m\n",
      "\u001b[1;31mKeyboardInterrupt\u001b[0m: Interrupted by user"
     ]
    }
   ],
   "source": [
    "mass = {}\n",
    "\n",
    "row = input()\n",
    "while len(row) > 0:\n",
    "    print(row.split()[0])\n",
    "    \n",
    "    name, gol= row.split()\n",
    "    if name not in mass:\n",
    "        mass[name] = 0\n",
    "    mass[name] += int(gol)\n",
    "    row = input()\n",
    "\n",
    "    \n",
    "for k in sorted(mass.keys()):\n",
    "    print (k, mass[k])"
   ]
  },
  {
   "cell_type": "code",
   "execution_count": 113,
   "id": "4d8b6935",
   "metadata": {},
   "outputs": [
    {
     "name": "stdout",
     "output_type": "stream",
     "text": [
      "McCain 10\n"
     ]
    }
   ],
   "source": [
    "f = open(\"input.txt\", \"r\")\n",
    "name, gol = f.readlines()[0].split()\n",
    "print(name, gol)"
   ]
  },
  {
   "cell_type": "code",
   "execution_count": 129,
   "id": "5d7ae724",
   "metadata": {},
   "outputs": [
    {
     "name": "stdout",
     "output_type": "stream",
     "text": [
      "McCain 16\n",
      "Obama 17\n"
     ]
    }
   ],
   "source": [
    "mass = {}\n",
    "with open('input.txt','r') as f:\n",
    "    for line in f:\n",
    "        name,gol = line.split()\n",
    "        if name not in mass:\n",
    "            mass[name] = 0\n",
    "        mass[name] += int(gol)\n",
    "for k in sorted(mass.keys()):\n",
    "    print (k, mass[k])        "
   ]
  },
  {
   "cell_type": "code",
   "execution_count": 127,
   "id": "2ad6afc1",
   "metadata": {},
   "outputs": [
    {
     "data": {
      "text/plain": [
       "{'McCain': 18, 'Obama': 17}"
      ]
     },
     "execution_count": 127,
     "metadata": {},
     "output_type": "execute_result"
    }
   ],
   "source": [
    "mass"
   ]
  },
  {
   "cell_type": "code",
   "execution_count": 1,
   "id": "3d6b5de3",
   "metadata": {},
   "outputs": [
    {
     "name": "stdout",
     "output_type": "stream",
     "text": [
      "McCain 16\n",
      "Obama 17\n"
     ]
    }
   ],
   "source": [
    "mass = {}\n",
    "with open('input.txt','r') as f:\n",
    "    for line in f:\n",
    "        name,gol = line.split()\n",
    "        if name not in mass:\n",
    "            mass[name] = 0\n",
    "        mass[name] += int(gol)\n",
    "for k in sorted(mass.keys()):\n",
    "    print (k, mass[k]) "
   ]
  },
  {
   "cell_type": "code",
   "execution_count": null,
   "id": "419b51af",
   "metadata": {},
   "outputs": [],
   "source": [
    "a 100\n",
    "c 500\n",
    "a 300\n",
    "b 70\n",
    "b 1\n",
    "c 2"
   ]
  },
  {
   "cell_type": "markdown",
   "id": "85c536f8",
   "metadata": {},
   "source": [
    "Задача 3\n",
    "Дан текст. Выведите все слова, встречающиеся в тексте, по одному на каждую строку. Слова должны быть отсортированы по убыванию их количества появления в тексте, а при одинаковой частоте появления — в лексикографическом порядке. Указание. После того, как вы создадите словарь всех слов, вам захочется отсортировать его по частоте встречаемости слова. Желаемого можно добиться, если создать список, элементами которого будут кортежи из двух элементов: частота встречаемости слова и само слово. Например, [(2, 'hi'), (1, 'what'), (3, 'is')]. Тогда стандартная сортировка будет сортировать список кортежей, при этом кортежи сравниваются по первому элементу, а если они равны — то по второму. Это почти то, что требуется в задаче."
   ]
  },
  {
   "cell_type": "code",
   "execution_count": 8,
   "id": "1100c194",
   "metadata": {},
   "outputs": [
    {
     "name": "stdout",
     "output_type": "stream",
     "text": [
      "['hi']\n",
      "1\n",
      "['hi']\n",
      "2\n",
      "['what', 'is', 'your', 'name']\n",
      "1\n",
      "1\n",
      "1\n",
      "1\n",
      "['my', 'name', 'is', 'bond']\n",
      "1\n",
      "2\n",
      "2\n",
      "1\n",
      "['james', 'bond']\n",
      "1\n",
      "2\n",
      "['my', 'name', 'is', 'damme']\n",
      "2\n",
      "3\n",
      "3\n",
      "1\n",
      "['van', 'damme']\n",
      "1\n",
      "2\n",
      "['claude', 'van', 'damme']\n",
      "1\n",
      "2\n",
      "3\n",
      "['jean', 'claude', 'van', 'damme']\n",
      "1\n",
      "2\n",
      "3\n",
      "4\n"
     ]
    }
   ],
   "source": [
    "vocab = {}\n",
    "\n",
    "with open('input.txt','r') as f:\n",
    "    for line in f:\n",
    "        long = 0\n",
    "        print(line.split())\n",
    "        while long < len(line.split()):\n",
    "            if line.split()[long] not in vocab:\n",
    "                vocab[line.split()[long]] = 0\n",
    "            vocab[line.split()[long]] += 1\n",
    "            print(vocab[line.split()[long]])\n",
    "            long +=1\n",
    "            \n",
    "        "
   ]
  },
  {
   "cell_type": "code",
   "execution_count": 44,
   "id": "0121e75d",
   "metadata": {},
   "outputs": [
    {
     "name": "stdout",
     "output_type": "stream",
     "text": [
      "[(4, 'damme'), (3, 'is'), (3, 'name'), (3, 'van'), (2, 'bond'), (2, 'claude'), (2, 'hi'), (2, 'my'), (1, 'james'), (1, 'jean'), (1, 'what'), (1, 'your')]\n"
     ]
    }
   ],
   "source": [
    "m = []\n",
    "for key, value in vocab.items():\n",
    "    m.append((value,key))\n",
    "m=sorted(m, key=lambda x: (-x[0], x[1]))\n",
    "print(m)"
   ]
  },
  {
   "cell_type": "code",
   "execution_count": 45,
   "id": "d6d3b80a",
   "metadata": {},
   "outputs": [
    {
     "name": "stdout",
     "output_type": "stream",
     "text": [
      "damme\n",
      "is\n",
      "name\n",
      "van\n",
      "bond\n",
      "claude\n",
      "hi\n",
      "my\n",
      "james\n",
      "jean\n",
      "what\n",
      "your\n"
     ]
    }
   ],
   "source": [
    "for i in range(len(vocab)):\n",
    "    print(m[i][1])"
   ]
  },
  {
   "cell_type": "code",
   "execution_count": 49,
   "id": "eb849108",
   "metadata": {},
   "outputs": [
    {
     "name": "stdout",
     "output_type": "stream",
     "text": [
      "ai\n"
     ]
    }
   ],
   "source": [
    "vocab = {}\n",
    "\n",
    "with open('input.txt','r') as f:\n",
    "    for line in f:\n",
    "        long = 0\n",
    "        \n",
    "        while long < len(line.split()):\n",
    "            if line.split()[long] not in vocab:\n",
    "                vocab[line.split()[long]] = 0\n",
    "            vocab[line.split()[long]] += 1\n",
    "            \n",
    "            long +=1\n",
    "m = []\n",
    "for key, value in vocab.items():\n",
    "    m.append((value,key))\n",
    "m=sorted(m, key=lambda x: (-x[0], x[1]))\n",
    "for i in range(len(vocab)):\n",
    "    print(m[i][1])"
   ]
  },
  {
   "cell_type": "markdown",
   "id": "aeab5fb6",
   "metadata": {},
   "source": [
    "Необходимо распределить 450 мест между партиями, участвовавших в выборах. Сначала подсчитывается сумма голосов избирателей, поданных за каждую партию и подсчитывается сумма голосов, поданных за все партии. Эта сумма делится на 450, получается величина, называемая “первое избирательное частное” (смысл первого избирательного частного - это количество голосов избирателей, которое необходимо набрать для получения одного места в парламенте).\n",
    "\n",
    "Далее каждая партия получает столько мест в парламенте, чему равна целая часть от деления числа голосов за данную партию на первое избирательное частное.\n",
    "\n",
    "Если после первого раунда распределения мест сумма количества мест, отданных партиям, меньше 450, то оставшиеся места передаются по одному партиям, в порядке убывания дробной части частного от деления числа голосов за данную партию на первое избирательное частное. Если же для двух партий эти дробные части равны, то преимущество отдается той партии, которая получила большее число голосов.\n",
    "\n",
    "Формат ввода\n",
    "На вход программе подается список партий, участвовавших в выборах. Каждая строка входного файла содержит название партии (строка, возможно, содержащая пробелы), затем, через пробел, количество голосов, полученных данной партией – число, не превосходящее 108.\n",
    "\n",
    "Формат вывода\n",
    "Программа должна вывести названия всех партий и количество голосов в парламенте, полученных данной партией. Названия необходимо выводить в том же порядке, в котором они шли во входных данных."
   ]
  },
  {
   "cell_type": "markdown",
   "id": "90f650cd",
   "metadata": {},
   "source": [
    "Party One 100000\n",
    "Party Two 200000\n",
    "Party Three 400000\n",
    "   Party One 64\n",
    "Party Two 129\n",
    "Party Three 257"
   ]
  },
  {
   "cell_type": "code",
   "execution_count": 103,
   "id": "f5039c67",
   "metadata": {},
   "outputs": [
    {
     "name": "stdout",
     "output_type": "stream",
     "text": [
      "257.1428571428571\n",
      "257\n"
     ]
    }
   ],
   "source": [
    "print(450*(400000/700000))\n",
    "print(round(450*(400000/700000)))"
   ]
  },
  {
   "cell_type": "code",
   "execution_count": 97,
   "id": "cec7850b",
   "metadata": {},
   "outputs": [
    {
     "name": "stdout",
     "output_type": "stream",
     "text": [
      "Party 1\n",
      "Party 2\n",
      "Party 3\n",
      "Party 4\n",
      "Party 5\n",
      "Party 6\n",
      "Party 7\n",
      "Party 8\n",
      "Party 9\n",
      "Party 10\n",
      "{'Party 1': 34523, 'Party 2': 65434, 'Party 3': 453, 'Party 4': 65784, 'Party 5': 5253, 'Party 6': 3568, 'Party 7': 0, 'Party 8': 1, 'Party 9': 4592, 'Party 10': 90389}\n"
     ]
    }
   ],
   "source": [
    "vocab = {}\n",
    "with open('input.txt','r') as f:\n",
    "    for line in f:\n",
    "        print(line.rpartition(' ')[0])\n",
    "        if line.rpartition(' ')[0] not in vocab:\n",
    "            vocab[line.rpartition(' ')[0]] = 0\n",
    "        vocab[line.rpartition(' ')[0]] += int(line.rpartition(' ')[-1])\n",
    "print(vocab)"
   ]
  },
  {
   "cell_type": "code",
   "execution_count": 98,
   "id": "ed27922b",
   "metadata": {},
   "outputs": [
    {
     "data": {
      "text/plain": [
       "269997"
      ]
     },
     "execution_count": 98,
     "metadata": {},
     "output_type": "execute_result"
    }
   ],
   "source": [
    "s = sum(vocab.values())\n",
    "s"
   ]
  },
  {
   "cell_type": "code",
   "execution_count": 99,
   "id": "e6245e8f",
   "metadata": {},
   "outputs": [
    {
     "name": "stdout",
     "output_type": "stream",
     "text": [
      "Party 1 58\n",
      "Party 2 109\n",
      "Party 3 1\n",
      "Party 4 110\n",
      "Party 5 9\n",
      "Party 6 6\n",
      "Party 7 0\n",
      "Party 8 0\n",
      "Party 9 8\n",
      "Party 10 151\n"
     ]
    }
   ],
   "source": [
    "for key,value in vocab.items():\n",
    "    vocab[key] = round(450*(value/s))\n",
    "    print(key, vocab[key])"
   ]
  },
  {
   "cell_type": "markdown",
   "id": "a654a947",
   "metadata": {},
   "source": [
    "m"
   ]
  },
  {
   "cell_type": "code",
   "execution_count": 88,
   "id": "468a6ebf",
   "metadata": {},
   "outputs": [
    {
     "data": {
      "text/plain": [
       "{'Party One': 64, 'Party Two': 129, 'Party Three': 257}"
      ]
     },
     "execution_count": 88,
     "metadata": {},
     "output_type": "execute_result"
    }
   ],
   "source": [
    "vocab"
   ]
  },
  {
   "cell_type": "code",
   "execution_count": 156,
   "id": "92be59c8",
   "metadata": {},
   "outputs": [
    {
     "name": "stdout",
     "output_type": "stream",
     "text": [
      "57\n",
      "Party 1 57.538972655251726\n",
      "166\n",
      "Party 2 109.05787842087135\n",
      "166\n",
      "Party 3 0.7550083889820999\n",
      "275\n",
      "Party 4 109.64121823575817\n",
      "283\n",
      "Party 5 8.755097278858655\n",
      "288\n",
      "Party 6 5.946732741474905\n",
      "288\n",
      "Party 7 0.0\n",
      "288\n",
      "Party 8 0.001666685185390949\n",
      "295\n",
      "Party 9 7.653418371315237\n",
      "445\n",
      "Party 10 150.65000722230246\n",
      "445\n"
     ]
    }
   ],
   "source": [
    "vocab = {}\n",
    "with open('input.txt','r') as f:\n",
    "    for line in f:\n",
    "        \n",
    "        if line.rpartition(' ')[0] not in vocab:\n",
    "            vocab[line.rpartition(' ')[0]] = 0\n",
    "        vocab[line.rpartition(' ')[0]] += int(line.rpartition(' ')[-1])\n",
    "s = sum(vocab.values())\n",
    "m = 0\n",
    "for key,value in vocab.items():\n",
    "    vocab[key] = 450*(value/s)\n",
    "    m += int(vocab[key])\n",
    "    print(m)\n",
    "    print(key, vocab[key])\n",
    "print(m)"
   ]
  },
  {
   "cell_type": "code",
   "execution_count": 157,
   "id": "a813203b",
   "metadata": {},
   "outputs": [
    {
     "name": "stdout",
     "output_type": "stream",
     "text": [
      "445\n",
      "446\n",
      "447\n",
      "448\n",
      "449\n",
      "450\n",
      "Party 1 57\n",
      "Party 2 109\n",
      "Party 3 1\n",
      "Party 4 109\n",
      "Party 5 9\n",
      "Party 6 6\n",
      "Party 7 0\n",
      "Party 8 0\n",
      "Party 9 8\n",
      "Party 10 151\n"
     ]
    }
   ],
   "source": [
    "sor = []\n",
    "for key, value in vocab.items():\n",
    "    sor.append((value%1,int(value),key))\n",
    "    \n",
    "sor=sorted(sor, key=lambda x: (-x[0],-x[1]))\n",
    "maxi = 0\n",
    "while m < 450:\n",
    "    print(m)\n",
    "    if sor[0][2] in vocab:\n",
    "        vocab[sor[0][2]] +=1\n",
    "        sor.remove(sor[0])\n",
    "    m+=1\n",
    "print(m)  \n",
    "for key,value in vocab.items():\n",
    "\n",
    "    print(key, int(vocab[key]))"
   ]
  },
  {
   "cell_type": "code",
   "execution_count": 150,
   "id": "012c642b",
   "metadata": {},
   "outputs": [
    {
     "name": "stdout",
     "output_type": "stream",
     "text": [
      "[(0.9467327414749054, 5, 'Party 6'), (0.7550972788586545, 8, 'Party 5'), (0.7550083889820999, 0, 'Party 3'), (0.6534183713152366, 7, 'Party 9'), (0.6500072223024631, 150, 'Party 10'), (0.6412182357581742, 109, 'Party 4'), (0.538972655251726, 57, 'Party 1'), (0.0578784208713472, 109, 'Party 2'), (0.001666685185390949, 0, 'Party 8'), (0.0, 0, 'Party 7')]\n"
     ]
    }
   ],
   "source": [
    "sor = []\n",
    "for key, value in vocab.items():\n",
    "    sor.append((value%1,int(value),key))\n",
    "sor=sorted(sor, key=lambda x: (-x[0],-x[1]))\n",
    "print(sor[range()])\n",
    "\n"
   ]
  },
  {
   "cell_type": "code",
   "execution_count": 151,
   "id": "716e5dbc",
   "metadata": {},
   "outputs": [
    {
     "data": {
      "text/plain": [
       "'Party 6'"
      ]
     },
     "execution_count": 151,
     "metadata": {},
     "output_type": "execute_result"
    }
   ],
   "source": [
    "sor[0][2]"
   ]
  },
  {
   "cell_type": "code",
   "execution_count": 155,
   "id": "74f7ac71",
   "metadata": {},
   "outputs": [
    {
     "data": {
      "text/plain": [
       "{'Party 1': 57.538972655251726,\n",
       " 'Party 2': 109.05787842087135,\n",
       " 'Party 3': 1.7550083889821,\n",
       " 'Party 4': 109.64121823575817,\n",
       " 'Party 5': 9.755097278858655,\n",
       " 'Party 6': 6.946732741474905,\n",
       " 'Party 7': 0.0,\n",
       " 'Party 8': 0.001666685185390949,\n",
       " 'Party 9': 8.653418371315237,\n",
       " 'Party 10': 151.65000722230246}"
      ]
     },
     "execution_count": 155,
     "metadata": {},
     "output_type": "execute_result"
    }
   ],
   "source": [
    "vocab"
   ]
  },
  {
   "cell_type": "code",
   "execution_count": 163,
   "id": "33f1c280",
   "metadata": {},
   "outputs": [
    {
     "name": "stdout",
     "output_type": "stream",
     "text": [
      "Party One 64\n",
      "Party Two 129\n",
      "Party Three 257\n"
     ]
    }
   ],
   "source": [
    "vocab = {}\n",
    "with open('input.txt','r') as f:\n",
    "    for line in f:\n",
    "        \n",
    "        if line.rpartition(' ')[0] not in vocab:\n",
    "            vocab[line.rpartition(' ')[0]] = 0\n",
    "        vocab[line.rpartition(' ')[0]] += int(line.rpartition(' ')[-1])\n",
    "s = sum(vocab.values())\n",
    "\n",
    "m = 0\n",
    "for key,value in vocab.items():\n",
    "    vocab[key] = 450*(value/s)\n",
    "    m += int(vocab[key])\n",
    "\n",
    "sor = []\n",
    "for key, value in vocab.items():\n",
    "    sor.append((value%1,int(value),key))    \n",
    "sor=sorted(sor, key=lambda x: (-x[0],-x[1]))\n",
    "f.close()\n",
    "while m < 450:\n",
    "    \n",
    "    if sor[0][2] in vocab:\n",
    "        vocab[sor[0][2]] +=1\n",
    "        sor.remove(sor[0])\n",
    "    m+=1\n",
    "\n",
    "    \n",
    "for key,value in vocab.items():\n",
    "\n",
    "    print(key, int(vocab[key]))"
   ]
  },
  {
   "cell_type": "markdown",
   "id": "66f18521",
   "metadata": {},
   "source": [
    "задача 5\n",
    "Клуб Юных Хакеров организовал на своем сайте форум. Форум имеет следующую структуру: каждое сообщение либо начинает новую тему, либо является ответом на какое-либо предыдущее сообщение и принадлежит той же теме.\n",
    "\n",
    "После нескольких месяцев использования своего форума юных хакеров заинтересовал вопрос - какая тема на их форуме наиболее популярна. Помогите им выяснить это.\n",
    "\n",
    "Формат ввода\n",
    "В первой строке вводится целое число N - количество сообщений в форуме (1 <= N <= 1000). Следующие строки содержат описание сообщений в хронологическом порядке.\n",
    "\n",
    "Описание сообщения, которое представляет собой начало новой темы, состоит из трех строк. Первая строка содержит число 0. Вторая строка содержит название темы. Длина названия не превышает 30 символов. Третья строка содержит текст сообщения.\n",
    "\n",
    "Описание сообщения, которое является ответом на другое сообщение, состоит из двух строк. Первая строка содержит целое число - номер сообщения, ответом на которое оно является. Сообщения нумеруются, начиная с единицы. Ответ всегда появляется позже, чем сообщение, ответом на которое он является. Вторая строка содержит текст сообщения.\n",
    "\n",
    "Длина каждого из сообщений не превышает 100 символов.\n",
    "\n",
    "Формат вывода\n",
    "Выведите название темы, к которой относится наибольшее количество сообщений. Если таких тем несколько, то выведите первую в хронологическом порядке\n",
    "\n",
    "Пример 1\n",
    "Ввод\tВывод\n",
    "7\n",
    "0\n",
    "Олимпиада по информатике\n",
    "Скоро третья командная олимпиада?\n",
    "0\n",
    "Новая компьютерная игра\n",
    "Вышла новая крутая игра!\n",
    "1\n",
    "Она пройдет 24 ноября\n",
    "1\n",
    "В Санкт-Петербурге и Барнауле\n",
    "2\n",
    "Где найти?\n",
    "4\n",
    "Примет участие более 50 команд\n",
    "6\n",
    "Интересно, какие будут задачи"
   ]
  },
  {
   "cell_type": "code",
   "execution_count": 210,
   "id": "35388c69",
   "metadata": {},
   "outputs": [],
   "source": [
    "\n",
    "with open('input.txt','r',encoding ='utf8') as f:\n",
    "    x = int(f.readline()) # число из первой строки\n",
    "    lines = list(map(str.strip, f.readlines()))\n"
   ]
  },
  {
   "cell_type": "code",
   "execution_count": 226,
   "id": "8ee96910",
   "metadata": {},
   "outputs": [
    {
     "name": "stdout",
     "output_type": "stream",
     "text": [
      "@JECA)|.Ngdvh`};1mxf9-[Ja;dd$C\n"
     ]
    }
   ],
   "source": [
    "with open('input.txt','r',encoding ='utf8') as f:\n",
    "    x = int(f.readline()) # число из первой строки\n",
    "    lines = list(map(str.strip, f.readlines()))\n",
    "tema = {}\n",
    "count = {}\n",
    "i = 0\n",
    "j = 1\n",
    "for i in range(len(lines)):\n",
    "    \n",
    "    if lines[i] == \"0\":\n",
    "        i+=1\n",
    "        tema[str(j)] = [0,lines[i]]\n",
    "        j+=1\n",
    "        \n",
    "        \n",
    "    elif lines[i] in tema.keys():\n",
    "        tema[lines[i]][0] +=1\n",
    "        i+=2\n",
    "    else:\n",
    "        i+=2\n",
    "        \n",
    "print(sorted(tema.values(), key = lambda x: (-x[0],x[1]))[0][1])\n"
   ]
  },
  {
   "cell_type": "code",
   "execution_count": 224,
   "id": "4e2a05b5",
   "metadata": {},
   "outputs": [
    {
     "data": {
      "text/plain": [
       "[[0, '8iso[`-*K-_m>1E>@;cI8qmhwofNN{'],\n",
       " [0, 'Lo<l\"_C!CX&6$Q[dRI_~o;OVP,,[qv'],\n",
       " [0, 'T ={:HG^l3nX#ra}A^,m~j2pXFE!sj'],\n",
       " [0, \"]KGS+fnh,[yz'@7+hGY8rqg$i0xYJk\"],\n",
       " [1, \":P{H'.$3>.&yq$pA55OO$'%d$6S<y;\"],\n",
       " [1, 'Mp8NBl6rCWD.jpR93NXOCpuL6;YI+>'],\n",
       " [2, \"f|'\\\\%yx/*9L.m\\\\Gb`y]TKnc9a#2Yz\"],\n",
       " [2, \"n|=cYT;[!Vk6j{m|klS:_{'jttKgw{\"],\n",
       " [3, '@JECA)|.Ngdvh`};1mxf9-[Ja;dd$C']]"
      ]
     },
     "execution_count": 224,
     "metadata": {},
     "output_type": "execute_result"
    }
   ],
   "source": [
    "sorted(tema.values())"
   ]
  },
  {
   "cell_type": "code",
   "execution_count": 202,
   "id": "e629b205",
   "metadata": {},
   "outputs": [
    {
     "name": "stdout",
     "output_type": "stream",
     "text": [
      "{'1': [0, 'topic 11']}\n",
      "{'1': [0, 'topic 11'], '2': [0, 'topic 2']}\n",
      "t o p i c   1 1\n",
      "t o p i c   2\n"
     ]
    }
   ],
   "source": [
    "tema = {}\n",
    "count = {}\n",
    "i = 0\n",
    "j = 1\n",
    "for i in range(len(lines)):\n",
    "    \n",
    "    if lines[i] == \"0\":\n",
    "        i+=1\n",
    "        #print('строка:',i)\n",
    "        tema[str(j)] = [0,lines[i]]\n",
    "        #count[str(j)] = 0\n",
    "        j+=1\n",
    "        #print('тема:',j)\n",
    "        print(tema)\n",
    "        \n",
    "    elif lines[i] in tema.keys():\n",
    "        print('TRUETRUETRUETRUETRUE')\n",
    "        print('строка elif:',lines[i])\n",
    "        tema[lines[i]][0] +=1\n",
    "        \n",
    "        i+=2\n",
    "    else:\n",
    "        i+=2\n",
    "maxi = 0\n",
    "for key,value in tema.items():\n",
    "    if tema[key][0] > maxi:\n",
    "        maxi = tema[key][0]\n",
    "for key,value in tema.items():\n",
    "    if tema[key][0] == maxi:\n",
    "        print(*tema[key][1])"
   ]
  },
  {
   "cell_type": "code",
   "execution_count": 125,
   "id": "71a5dc34",
   "metadata": {},
   "outputs": [
    {
     "ename": "IndexError",
     "evalue": "list index out of range",
     "output_type": "error",
     "traceback": [
      "\u001b[1;31m---------------------------------------------------------------------------\u001b[0m",
      "\u001b[1;31mIndexError\u001b[0m                                Traceback (most recent call last)",
      "\u001b[1;32m<ipython-input-125-64be6d2f562a>\u001b[0m in \u001b[0;36m<module>\u001b[1;34m\u001b[0m\n\u001b[1;32m----> 1\u001b[1;33m \u001b[1;32mif\u001b[0m \u001b[0mlines\u001b[0m\u001b[1;33m[\u001b[0m\u001b[0mi\u001b[0m\u001b[1;33m]\u001b[0m \u001b[1;33m==\u001b[0m \u001b[1;34m\"0\"\u001b[0m\u001b[1;33m:\u001b[0m\u001b[1;33m\u001b[0m\u001b[1;33m\u001b[0m\u001b[0m\n\u001b[0m\u001b[0;32m      2\u001b[0m     \u001b[0mi\u001b[0m\u001b[1;33m+=\u001b[0m\u001b[1;36m1\u001b[0m\u001b[1;33m\u001b[0m\u001b[1;33m\u001b[0m\u001b[0m\n\u001b[0;32m      3\u001b[0m     \u001b[1;31m#print('строка:',i)\u001b[0m\u001b[1;33m\u001b[0m\u001b[1;33m\u001b[0m\u001b[1;33m\u001b[0m\u001b[0m\n\u001b[0;32m      4\u001b[0m     \u001b[0mtema\u001b[0m\u001b[1;33m[\u001b[0m\u001b[0mj\u001b[0m\u001b[1;33m]\u001b[0m \u001b[1;33m=\u001b[0m \u001b[0mlines\u001b[0m\u001b[1;33m[\u001b[0m\u001b[0mi\u001b[0m\u001b[1;33m]\u001b[0m\u001b[1;33m\u001b[0m\u001b[1;33m\u001b[0m\u001b[0m\n\u001b[0;32m      5\u001b[0m     \u001b[0mcount\u001b[0m\u001b[1;33m[\u001b[0m\u001b[0mj\u001b[0m\u001b[1;33m]\u001b[0m \u001b[1;33m=\u001b[0m \u001b[1;36m0\u001b[0m\u001b[1;33m\u001b[0m\u001b[1;33m\u001b[0m\u001b[0m\n",
      "\u001b[1;31mIndexError\u001b[0m: list index out of range"
     ]
    }
   ],
   "source": [
    "    if lines[i] == \"0\":\n",
    "        i+=1\n",
    "        #print('строка:',i)\n",
    "        tema[j] = lines[i]\n",
    "        count[j] = 0\n",
    "        j+=1\n",
    "        #print('тема:',j)\n",
    "        #print(tema)\n",
    "        i+=2\n",
    "        print(count)\n",
    "        print('строка:',i)\n",
    "    elif lines[i] in list(tema):\n",
    "        print('TRUETRUETRUETRUETRUE')\n",
    "        print('строка elif:',lines[i])\n",
    "        count[lines[i]] += 1 \n",
    "    #    \n",
    "        i+=2\n",
    "    else:\n",
    "        i+=2\n",
    "        #print('строка else:',i)"
   ]
  },
  {
   "cell_type": "code",
   "execution_count": 4,
   "id": "02e2f193",
   "metadata": {},
   "outputs": [
    {
     "name": "stdout",
     "output_type": "stream",
     "text": [
      "7\n",
      "0\n",
      "Олимпиада по информатике\n",
      "Скоро третья командная олимпиада?\n",
      "0\n",
      "Новая компьютерная игра\n",
      "Вышла новая крутая игра!\n",
      "1\n",
      "Она пройдет 24 ноября\n",
      "1\n",
      "В Санкт-Петербурге и Барнауле\n",
      "2\n",
      "Где найти?\n",
      "4\n",
      "Примет участие более 50 команд\n",
      "6\n",
      "Интересно, какие будут задачи\n",
      "[0, 1, 0, 0, 1, 0, 0]\n",
      "topic:  ['Олимпиада по информатике', 'Новая компьютерная игра', '', '', '', '', '']\n",
      "reply:  0\n",
      "answers :   {0: 1}\n",
      "reply:  1\n",
      "answers :   {0: 1, 1: 1}\n",
      "reply:  0\n",
      "answers :   {0: 2, 1: 1}\n",
      "reply:  0\n",
      "answers :   {0: 3, 1: 1}\n",
      "reply:  1\n",
      "answers :   {0: 3, 1: 2}\n",
      "reply:  0\n",
      "answers :   {0: 4, 1: 2}\n",
      "reply:  0\n",
      "answers :   {0: 5, 1: 2}\n",
      "answers all:   {0: 5, 1: 2}\n"
     ]
    },
    {
     "ename": "TypeError",
     "evalue": "list indices must be integers or slices, not tuple",
     "output_type": "error",
     "traceback": [
      "\u001b[1;31m---------------------------------------------------------------------------\u001b[0m",
      "\u001b[1;31mTypeError\u001b[0m                                 Traceback (most recent call last)",
      "\u001b[1;32m<ipython-input-4-76f27637ed8e>\u001b[0m in \u001b[0;36m<module>\u001b[1;34m\u001b[0m\n\u001b[0;32m     23\u001b[0m \u001b[1;32mfor\u001b[0m \u001b[0mtema\u001b[0m \u001b[1;32min\u001b[0m \u001b[0manswers\u001b[0m\u001b[1;33m:\u001b[0m\u001b[1;33m\u001b[0m\u001b[1;33m\u001b[0m\u001b[0m\n\u001b[0;32m     24\u001b[0m     \u001b[0ma\u001b[0m\u001b[1;33m.\u001b[0m\u001b[0mappend\u001b[0m\u001b[1;33m(\u001b[0m\u001b[1;33m(\u001b[0m\u001b[1;33m-\u001b[0m\u001b[0manswers\u001b[0m\u001b[1;33m[\u001b[0m\u001b[0mtema\u001b[0m\u001b[1;33m]\u001b[0m\u001b[1;33m,\u001b[0m\u001b[0mtema\u001b[0m\u001b[1;33m)\u001b[0m\u001b[1;33m)\u001b[0m\u001b[1;33m\u001b[0m\u001b[1;33m\u001b[0m\u001b[0m\n\u001b[1;32m---> 25\u001b[1;33m \u001b[0mprint\u001b[0m\u001b[1;33m(\u001b[0m\u001b[0mtemi\u001b[0m\u001b[1;33m[\u001b[0m\u001b[0mmin\u001b[0m\u001b[1;33m(\u001b[0m\u001b[0ma\u001b[0m\u001b[1;33m)\u001b[0m\u001b[1;33m]\u001b[0m\u001b[1;33m)\u001b[0m\u001b[1;33m\u001b[0m\u001b[1;33m\u001b[0m\u001b[0m\n\u001b[0m",
      "\u001b[1;31mTypeError\u001b[0m: list indices must be integers or slices, not tuple"
     ]
    }
   ],
   "source": [
    "n = int(input())\n",
    "answer = [0] * n\n",
    "temi = [''] * n\n",
    "for i in range(n):\n",
    "    num = int(input())\n",
    "    if num == 0:\n",
    "        answer[i] = i\n",
    "        temi[i] = input()\n",
    "        input()\n",
    "    else:\n",
    "        answer[i] = answer[num - 1]\n",
    "        input()\n",
    "print(answer)\n",
    "print('topic: ',temi)\n",
    "answers ={}\n",
    "for reply in answer:\n",
    "    print('reply: ',reply)\n",
    "    answers[reply] = answers.get(reply, 0) + 1\n",
    "    print('answers :  ',answers)\n",
    "print('answers all:  ',answers)\n",
    "    \n",
    "a = []\n",
    "for tema in answers:\n",
    "    a.append((-answers[tema],tema))\n",
    "print(temi[min(a)[1]])"
   ]
  },
  {
   "cell_type": "code",
   "execution_count": 5,
   "id": "7691287c",
   "metadata": {},
   "outputs": [
    {
     "data": {
      "text/plain": [
       "['Олимпиада по информатике', 'Новая компьютерная игра', '', '', '', '', '']"
      ]
     },
     "execution_count": 5,
     "metadata": {},
     "output_type": "execute_result"
    }
   ],
   "source": [
    "temi"
   ]
  },
  {
   "cell_type": "code",
   "execution_count": 7,
   "id": "630b75ba",
   "metadata": {},
   "outputs": [
    {
     "name": "stdout",
     "output_type": "stream",
     "text": [
      "7\n",
      "0\n",
      "answer [0, 0, 0, 0, 0, 0, 0]\n",
      "as\n",
      "ass\n",
      "0\n",
      "answer [0, 1, 0, 0, 0, 0, 0]\n",
      "d\n",
      "dd\n",
      "1\n",
      "i 2\n",
      "num - 1 0\n",
      "answer [0, 1, 0, 0, 0, 0, 0]\n",
      "1\n",
      "1\n",
      "i 3\n",
      "num - 1 0\n",
      "answer [0, 1, 0, 0, 0, 0, 0]\n",
      "pp\n",
      "2\n",
      "i 4\n",
      "num - 1 1\n",
      "answer [0, 1, 0, 0, 1, 0, 0]\n",
      "fr\n",
      "6\n",
      "i 5\n",
      "num - 1 5\n",
      "answer [0, 1, 0, 0, 1, 0, 0]\n",
      "mm\n",
      "\n"
     ]
    },
    {
     "ename": "ValueError",
     "evalue": "invalid literal for int() with base 10: ''",
     "output_type": "error",
     "traceback": [
      "\u001b[1;31m---------------------------------------------------------------------------\u001b[0m",
      "\u001b[1;31mValueError\u001b[0m                                Traceback (most recent call last)",
      "\u001b[1;32m<ipython-input-7-10c283644446>\u001b[0m in \u001b[0;36m<module>\u001b[1;34m\u001b[0m\n\u001b[0;32m      3\u001b[0m \u001b[0mtemi\u001b[0m \u001b[1;33m=\u001b[0m \u001b[1;33m[\u001b[0m\u001b[1;34m''\u001b[0m\u001b[1;33m]\u001b[0m \u001b[1;33m*\u001b[0m \u001b[0mn\u001b[0m\u001b[1;33m\u001b[0m\u001b[1;33m\u001b[0m\u001b[0m\n\u001b[0;32m      4\u001b[0m \u001b[1;32mfor\u001b[0m \u001b[0mi\u001b[0m \u001b[1;32min\u001b[0m \u001b[0mrange\u001b[0m\u001b[1;33m(\u001b[0m\u001b[0mn\u001b[0m\u001b[1;33m)\u001b[0m\u001b[1;33m:\u001b[0m\u001b[1;33m\u001b[0m\u001b[1;33m\u001b[0m\u001b[0m\n\u001b[1;32m----> 5\u001b[1;33m     \u001b[0mnum\u001b[0m \u001b[1;33m=\u001b[0m \u001b[0mint\u001b[0m\u001b[1;33m(\u001b[0m\u001b[0minput\u001b[0m\u001b[1;33m(\u001b[0m\u001b[1;33m)\u001b[0m\u001b[1;33m)\u001b[0m\u001b[1;33m\u001b[0m\u001b[1;33m\u001b[0m\u001b[0m\n\u001b[0m\u001b[0;32m      6\u001b[0m     \u001b[1;32mif\u001b[0m \u001b[0mnum\u001b[0m \u001b[1;33m==\u001b[0m \u001b[1;36m0\u001b[0m\u001b[1;33m:\u001b[0m\u001b[1;33m\u001b[0m\u001b[1;33m\u001b[0m\u001b[0m\n\u001b[0;32m      7\u001b[0m         \u001b[0manswer\u001b[0m\u001b[1;33m[\u001b[0m\u001b[0mi\u001b[0m\u001b[1;33m]\u001b[0m \u001b[1;33m=\u001b[0m \u001b[0mi\u001b[0m\u001b[1;33m\u001b[0m\u001b[1;33m\u001b[0m\u001b[0m\n",
      "\u001b[1;31mValueError\u001b[0m: invalid literal for int() with base 10: ''"
     ]
    }
   ],
   "source": [
    "n = int(input())\n",
    "answer = [0] * n\n",
    "temi = [''] * n\n",
    "for i in range(n):\n",
    "    num = int(input())\n",
    "    if num == 0:\n",
    "        answer[i] = i\n",
    "        print('answer',answer)\n",
    "        temi[i] = input()\n",
    "        input()\n",
    "    else:\n",
    "        answer[i] = answer[num - 1]\n",
    "        print('i',i)\n",
    "        print('num - 1',num - 1)\n",
    "        print('answer',answer)\n",
    "        input()\n",
    "print(answer)\n",
    "print('topic: ',temi)"
   ]
  },
  {
   "cell_type": "code",
   "execution_count": 8,
   "id": "f166da66",
   "metadata": {},
   "outputs": [
    {
     "name": "stdout",
     "output_type": "stream",
     "text": [
      "as\n"
     ]
    }
   ],
   "source": [
    "print(temi[min(a)[1]])"
   ]
  },
  {
   "cell_type": "code",
   "execution_count": null,
   "id": "b6371d33",
   "metadata": {},
   "outputs": [],
   "source": []
  }
 ],
 "metadata": {
  "kernelspec": {
   "display_name": "Python 3",
   "language": "python",
   "name": "python3"
  },
  "language_info": {
   "codemirror_mode": {
    "name": "ipython",
    "version": 3
   },
   "file_extension": ".py",
   "mimetype": "text/x-python",
   "name": "python",
   "nbconvert_exporter": "python",
   "pygments_lexer": "ipython3",
   "version": "3.8.8"
  }
 },
 "nbformat": 4,
 "nbformat_minor": 5
}
