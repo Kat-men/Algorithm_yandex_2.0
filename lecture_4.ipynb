{
 "cells": [
  {
   "cell_type": "markdown",
   "id": "073130db",
   "metadata": {},
   "source": [
    "Сортировка подсчетом\n"
   ]
  },
  {
   "cell_type": "code",
   "execution_count": 1,
   "id": "5f389ecb",
   "metadata": {},
   "outputs": [],
   "source": [
    "def countsort(seq):\n",
    "    minval = min(seq)\n",
    "    maxval = max(seq)\n",
    "    k = (maxval - minval + 1)\n",
    "    count = [0] * k \n",
    "    for now in seq:\n",
    "        count[now - minval] += 1\n",
    "    nowpos = 0\n",
    "    for val in range(0,k):\n",
    "        for i in range(count[val]):\n",
    "            seq[nowpos] = val + minval\n",
    "            nowpos += 1"
   ]
  },
  {
   "cell_type": "markdown",
   "id": "9db6193b",
   "metadata": {},
   "source": [
    "задача \n",
    "даны два числа Х и У без ведущих 0\n",
    "Необходимо проверить, можно ли получить первое из второго перестановкой чисел"
   ]
  },
  {
   "cell_type": "code",
   "execution_count": 2,
   "id": "012b3f70",
   "metadata": {},
   "outputs": [],
   "source": [
    "def is_digit_permutation(x,y):\n",
    "    def countdigits(num):\n",
    "        digitcount = [0]*10\n",
    "        while num > 0:\n",
    "            lastdigit = num % 10\n",
    "            digitcount[lastdigit] +=1\n",
    "            num //= 10\n",
    "        return digitcount\n",
    "    digitsx = countdigits(x)\n",
    "    digitsy = countdigits(y)\n",
    "    for digit in range(10):\n",
    "        if digitsx[digit] != digitsy[digit]:\n",
    "            return False\n",
    "    return True"
   ]
  },
  {
   "cell_type": "markdown",
   "id": "1ee3426c",
   "metadata": {},
   "source": [
    "задача \n",
    "на шахматной доске N N находятся М ладей(бьет по вертикали или по гризонтали)\n",
    "Определить сколько пар ладей бьют друг друга.\n",
    "Ладьи задаются I J-координаты клетки\n",
    "1<=N<=10**9, 0 <= M <= 2*10**5"
   ]
  },
  {
   "cell_type": "code",
   "execution_count": 3,
   "id": "44b379d5",
   "metadata": {},
   "outputs": [],
   "source": [
    "def count_beating_rooks(rookcoords):\n",
    "    def addrook(roworcol, key):\n",
    "        if key not in roworcol:\n",
    "            roworcol[key] = 0\n",
    "        roworcol[key] += 1\n",
    "    def countpairs(roworcol):\n",
    "        pairs = 0\n",
    "        for key in roworcol:\n",
    "            pairs += roworcol[key] - 1\n",
    "        return pairs\n",
    "    \n",
    "    rookinrow = {}\n",
    "    rookincol = {}\n",
    "    for row, col in rookcoords:\n",
    "        addrook(rookinrow, row)\n",
    "        addrook(rookincol, col)\n",
    "    return countpairs(rookinrow) + countpairs(rookincol)"
   ]
  },
  {
   "cell_type": "markdown",
   "id": "4322c897",
   "metadata": {},
   "source": [
    "Задача \n",
    "Дана строка S\n",
    "Выведите гистограмму "
   ]
  },
  {
   "cell_type": "code",
   "execution_count": 5,
   "id": "ac9dac7e",
   "metadata": {},
   "outputs": [],
   "source": [
    "def printchart(s):\n",
    "    symcount = {}\n",
    "    maxsymcount = 0\n",
    "    for sym in s:\n",
    "        if sym not in symcount:\n",
    "            symcount[sym] = 0\n",
    "        symcount[sym] += 1\n",
    "        maxsymcount = max(maxsymcount, symcount[sym])\n",
    "    sorteduniqsyms = sorted(symcount.key())\n",
    "    for row in range(maxsymcount , 0 , -1):\n",
    "        for sym in sorteduniqsyms:\n",
    "            if symcount[sym] >= row:\n",
    "                print('#', end = '')\n",
    "            else:\n",
    "                print(' ', end = '')\n",
    "        print()\n",
    "    print(''.json(sorteduniqsyms))"
   ]
  },
  {
   "cell_type": "markdown",
   "id": "cbd20704",
   "metadata": {},
   "source": [
    "Задача \n",
    "сгруппировать слова по общим буквам"
   ]
  },
  {
   "cell_type": "code",
   "execution_count": 18,
   "id": "4361682b",
   "metadata": {},
   "outputs": [
    {
     "name": "stdout",
     "output_type": "stream",
     "text": [
      "2 1 3 4\n"
     ]
    }
   ],
   "source": [
    "mylist = [2, 1, 3, 3, 4]\n",
    "mylist = list(dict.fromkeys(mylist))\n",
    "print(*mylist)\n"
   ]
  },
  {
   "cell_type": "code",
   "execution_count": 6,
   "id": "f20dadab",
   "metadata": {},
   "outputs": [
    {
     "data": {
      "text/plain": [
       "{2, 3}"
      ]
     },
     "execution_count": 6,
     "metadata": {},
     "output_type": "execute_result"
    }
   ],
   "source": [
    "set([2,2,3])"
   ]
  },
  {
   "cell_type": "code",
   "execution_count": 19,
   "id": "6ab54448",
   "metadata": {},
   "outputs": [
    {
     "data": {
      "text/plain": [
       "[]"
      ]
     },
     "execution_count": 19,
     "metadata": {},
     "output_type": "execute_result"
    }
   ],
   "source": [
    "[i for i, x in enumerate(mylist) if mylist.count(x) > 1]"
   ]
  },
  {
   "cell_type": "code",
   "execution_count": null,
   "id": "3c5348d4",
   "metadata": {},
   "outputs": [],
   "source": []
  }
 ],
 "metadata": {
  "kernelspec": {
   "display_name": "Python 3",
   "language": "python",
   "name": "python3"
  },
  "language_info": {
   "codemirror_mode": {
    "name": "ipython",
    "version": 3
   },
   "file_extension": ".py",
   "mimetype": "text/x-python",
   "name": "python",
   "nbconvert_exporter": "python",
   "pygments_lexer": "ipython3",
   "version": "3.8.8"
  }
 },
 "nbformat": 4,
 "nbformat_minor": 5
}
