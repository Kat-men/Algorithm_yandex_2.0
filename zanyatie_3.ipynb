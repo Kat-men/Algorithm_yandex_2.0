{
 "cells": [
  {
   "cell_type": "markdown",
   "id": "c1878584",
   "metadata": {},
   "source": [
    "Задача 1.\n",
    "Даны два списка чисел, которые могут содержать до 100000 чисел каждый. \n",
    "Посчитайте, сколько чисел содержится одновременно как в первом списке, так и во втором. \n",
    "Примечание. Эту задачу на Питоне можно решить в одну строчку.\n",
    "\n"
   ]
  },
  {
   "cell_type": "code",
   "execution_count": 65,
   "id": "61749b74",
   "metadata": {},
   "outputs": [
    {
     "name": "stdout",
     "output_type": "stream",
     "text": [
      "1 2 3\n",
      "1 4 2\n"
     ]
    }
   ],
   "source": [
    "str1  = list(map(int,input().split()))\n",
    "str2  = list(map(int,input().split()))"
   ]
  },
  {
   "cell_type": "code",
   "execution_count": 66,
   "id": "188ff9ed",
   "metadata": {},
   "outputs": [
    {
     "data": {
      "text/plain": [
       "{1, 2}"
      ]
     },
     "execution_count": 66,
     "metadata": {},
     "output_type": "execute_result"
    }
   ],
   "source": [
    "set(str1).intersection(str2)"
   ]
  },
  {
   "cell_type": "code",
   "execution_count": 10,
   "id": "7ef7a9f6",
   "metadata": {},
   "outputs": [
    {
     "name": "stdout",
     "output_type": "stream",
     "text": [
      "2\n"
     ]
    }
   ],
   "source": [
    "print(len(set(str1).intersection(str2)))"
   ]
  },
  {
   "cell_type": "markdown",
   "id": "25cc284c",
   "metadata": {},
   "source": [
    "Задача 2.\n",
    "Во входной строке записана последовательность чисел через пробел. \n",
    "Для каждого числа выведите слово YES (в отдельной строке), \n",
    "если это число ранее встречалось в последовательности или NO, если не встречалось."
   ]
  },
  {
   "cell_type": "code",
   "execution_count": 22,
   "id": "d1f78c62",
   "metadata": {},
   "outputs": [
    {
     "name": "stdout",
     "output_type": "stream",
     "text": [
      "1 2\n"
     ]
    }
   ],
   "source": [
    "str  = list(map(int,input().split()))"
   ]
  },
  {
   "cell_type": "code",
   "execution_count": 23,
   "id": "1b882d14",
   "metadata": {},
   "outputs": [
    {
     "name": "stdout",
     "output_type": "stream",
     "text": [
      "NO\n",
      "NO\n"
     ]
    }
   ],
   "source": [
    "dct = []\n",
    "for i in str:\n",
    "    if i not in dct:\n",
    "        print(\"NO\")\n",
    "        dct.append(i)\n",
    "    else:\n",
    "        print(\"YES\")\n",
    "    "
   ]
  },
  {
   "cell_type": "code",
   "execution_count": 31,
   "id": "1c0316e8",
   "metadata": {},
   "outputs": [
    {
     "name": "stdout",
     "output_type": "stream",
     "text": [
      "1 2 1 3\n",
      "NO\n",
      "NO\n",
      "YES\n",
      "NO\n",
      "{1, 2, 3}\n"
     ]
    }
   ],
   "source": [
    "str1  = map(int,input().split())\n",
    "dct = set()\n",
    "for i in str1:\n",
    "    if i not in dct:\n",
    "        print(\"NO\")\n",
    "        dct.add(i)\n",
    "    else:\n",
    "        print(\"YES\")\n",
    "print(dct)"
   ]
  },
  {
   "cell_type": "markdown",
   "id": "dc1ecbb2",
   "metadata": {},
   "source": [
    "Задача 3\n",
    "Дан список. Выведите те его элементы, которые встречаются в списке только один раз. Элементы нужно выводить в том порядке, в котором они встречаются в списке."
   ]
  },
  {
   "cell_type": "code",
   "execution_count": 32,
   "id": "3bea97fd",
   "metadata": {},
   "outputs": [
    {
     "name": "stdout",
     "output_type": "stream",
     "text": [
      "12 2 3 3 \n"
     ]
    }
   ],
   "source": [
    "str1  = list(map(int,input().split()))"
   ]
  },
  {
   "cell_type": "code",
   "execution_count": 33,
   "id": "8e3bf7af",
   "metadata": {},
   "outputs": [
    {
     "name": "stdout",
     "output_type": "stream",
     "text": [
      "{2, 3, 12}\n"
     ]
    }
   ],
   "source": [
    "print(set(str1))"
   ]
  },
  {
   "cell_type": "code",
   "execution_count": 41,
   "id": "8586d534",
   "metadata": {},
   "outputs": [
    {
     "ename": "AttributeError",
     "evalue": "'dict' object has no attribute 'add'",
     "output_type": "error",
     "traceback": [
      "\u001b[1;31m---------------------------------------------------------------------------\u001b[0m",
      "\u001b[1;31mAttributeError\u001b[0m                            Traceback (most recent call last)",
      "\u001b[1;32m<ipython-input-41-c2b26c680849>\u001b[0m in \u001b[0;36m<module>\u001b[1;34m\u001b[0m\n\u001b[0;32m      2\u001b[0m \u001b[1;32mfor\u001b[0m \u001b[0mword\u001b[0m \u001b[1;32min\u001b[0m \u001b[0mstr1\u001b[0m\u001b[1;33m:\u001b[0m\u001b[1;33m\u001b[0m\u001b[1;33m\u001b[0m\u001b[0m\n\u001b[0;32m      3\u001b[0m     \u001b[1;32mif\u001b[0m \u001b[0mword\u001b[0m \u001b[1;32mnot\u001b[0m \u001b[1;32min\u001b[0m \u001b[0mList\u001b[0m\u001b[1;33m:\u001b[0m\u001b[1;33m\u001b[0m\u001b[1;33m\u001b[0m\u001b[0m\n\u001b[1;32m----> 4\u001b[1;33m         \u001b[0mList\u001b[0m\u001b[1;33m.\u001b[0m\u001b[0madd\u001b[0m\u001b[1;33m(\u001b[0m\u001b[0mword\u001b[0m\u001b[1;33m)\u001b[0m\u001b[1;33m\u001b[0m\u001b[1;33m\u001b[0m\u001b[0m\n\u001b[0m\u001b[0;32m      5\u001b[0m \u001b[0mprint\u001b[0m\u001b[1;33m(\u001b[0m\u001b[0mList\u001b[0m\u001b[1;33m)\u001b[0m\u001b[1;33m\u001b[0m\u001b[1;33m\u001b[0m\u001b[0m\n",
      "\u001b[1;31mAttributeError\u001b[0m: 'dict' object has no attribute 'add'"
     ]
    }
   ],
   "source": [
    "List =[]\n",
    "for word in str1:\n",
    "    if word not in List:\n",
    "        List.append(word)\n",
    "print(List)"
   ]
  },
  {
   "cell_type": "code",
   "execution_count": 48,
   "id": "62af46d8",
   "metadata": {},
   "outputs": [
    {
     "name": "stdout",
     "output_type": "stream",
     "text": [
      "4 3 2 1 1\n"
     ]
    },
    {
     "ename": "AttributeError",
     "evalue": "'str' object has no attribute 'json'",
     "output_type": "error",
     "traceback": [
      "\u001b[1;31m---------------------------------------------------------------------------\u001b[0m",
      "\u001b[1;31mAttributeError\u001b[0m                            Traceback (most recent call last)",
      "\u001b[1;32m<ipython-input-48-675b5f964262>\u001b[0m in \u001b[0;36m<module>\u001b[1;34m\u001b[0m\n\u001b[0;32m      5\u001b[0m     \u001b[1;32mif\u001b[0m \u001b[0mnum\u001b[0m \u001b[1;32mnot\u001b[0m \u001b[1;32min\u001b[0m \u001b[0mList\u001b[0m\u001b[1;33m:\u001b[0m\u001b[1;33m\u001b[0m\u001b[1;33m\u001b[0m\u001b[0m\n\u001b[0;32m      6\u001b[0m         \u001b[0mList\u001b[0m\u001b[1;33m.\u001b[0m\u001b[0mappend\u001b[0m\u001b[1;33m(\u001b[0m\u001b[0mnum\u001b[0m\u001b[1;33m)\u001b[0m\u001b[1;33m\u001b[0m\u001b[1;33m\u001b[0m\u001b[0m\n\u001b[1;32m----> 7\u001b[1;33m \u001b[0mprint\u001b[0m \u001b[1;33m(\u001b[0m\u001b[1;34m' '\u001b[0m\u001b[1;33m.\u001b[0m\u001b[0mjson\u001b[0m\u001b[1;33m(\u001b[0m\u001b[0mList\u001b[0m\u001b[1;33m)\u001b[0m\u001b[1;33m)\u001b[0m\u001b[1;33m\u001b[0m\u001b[1;33m\u001b[0m\u001b[0m\n\u001b[0m",
      "\u001b[1;31mAttributeError\u001b[0m: 'str' object has no attribute 'json'"
     ]
    }
   ],
   "source": [
    "str1  = list(map(int,input().split()))\n",
    "List = {}\n",
    "for num in str1:\n",
    "    if num not in List:\n",
    "        List.append(num)\n",
    "print (' '.json(List))"
   ]
  },
  {
   "cell_type": "code",
   "execution_count": 75,
   "id": "2d57da6b",
   "metadata": {},
   "outputs": [
    {
     "ename": "ValueError",
     "evalue": "list.remove(x): x not in list",
     "output_type": "error",
     "traceback": [
      "\u001b[1;31m---------------------------------------------------------------------------\u001b[0m",
      "\u001b[1;31mValueError\u001b[0m                                Traceback (most recent call last)",
      "\u001b[1;32m<ipython-input-75-6bc89e2c08a3>\u001b[0m in \u001b[0;36m<module>\u001b[1;34m\u001b[0m\n\u001b[0;32m      1\u001b[0m \u001b[0mList\u001b[0m \u001b[1;33m=\u001b[0m \u001b[1;33m[\u001b[0m\u001b[1;36m3\u001b[0m\u001b[1;33m,\u001b[0m\u001b[1;36m4\u001b[0m\u001b[1;33m,\u001b[0m\u001b[1;36m1\u001b[0m\u001b[1;33m,\u001b[0m\u001b[1;36m3\u001b[0m\u001b[1;33m]\u001b[0m\u001b[1;33m\u001b[0m\u001b[1;33m\u001b[0m\u001b[0m\n\u001b[1;32m----> 2\u001b[1;33m \u001b[0mList\u001b[0m\u001b[1;33m.\u001b[0m\u001b[0mremove\u001b[0m\u001b[1;33m(\u001b[0m\u001b[1;33m[\u001b[0m\u001b[0mi\u001b[0m \u001b[1;32mfor\u001b[0m \u001b[0mi\u001b[0m\u001b[1;33m,\u001b[0m \u001b[0mx\u001b[0m \u001b[1;32min\u001b[0m \u001b[0menumerate\u001b[0m\u001b[1;33m(\u001b[0m\u001b[0mList\u001b[0m\u001b[1;33m)\u001b[0m \u001b[1;32mif\u001b[0m \u001b[0mList\u001b[0m\u001b[1;33m.\u001b[0m\u001b[0mcount\u001b[0m\u001b[1;33m(\u001b[0m\u001b[0mx\u001b[0m\u001b[1;33m)\u001b[0m \u001b[1;33m>\u001b[0m \u001b[1;36m1\u001b[0m\u001b[1;33m]\u001b[0m\u001b[1;33m)\u001b[0m\u001b[1;33m\u001b[0m\u001b[1;33m\u001b[0m\u001b[0m\n\u001b[0m",
      "\u001b[1;31mValueError\u001b[0m: list.remove(x): x not in list"
     ]
    }
   ],
   "source": [
    "List = [3,4,1,3]\n",
    "List.remove([i for i, x in enumerate(List) if List.count(x) > 1])"
   ]
  },
  {
   "cell_type": "code",
   "execution_count": 76,
   "id": "082e78db",
   "metadata": {},
   "outputs": [
    {
     "data": {
      "text/plain": [
       "[3, 4, 1]"
      ]
     },
     "execution_count": 76,
     "metadata": {},
     "output_type": "execute_result"
    }
   ],
   "source": [
    "list(dict.fromkeys(List))"
   ]
  },
  {
   "cell_type": "code",
   "execution_count": 87,
   "id": "bd33fc56",
   "metadata": {},
   "outputs": [
    {
     "name": "stdout",
     "output_type": "stream",
     "text": [
      "2 1 3 3 4\n"
     ]
    },
    {
     "ename": "TypeError",
     "evalue": "unhashable type: 'list'",
     "output_type": "error",
     "traceback": [
      "\u001b[1;31m---------------------------------------------------------------------------\u001b[0m",
      "\u001b[1;31mTypeError\u001b[0m                                 Traceback (most recent call last)",
      "\u001b[1;32m<ipython-input-87-dfeef5f3e6bb>\u001b[0m in \u001b[0;36m<module>\u001b[1;34m\u001b[0m\n\u001b[0;32m      1\u001b[0m \u001b[0mmylist\u001b[0m \u001b[1;33m=\u001b[0m \u001b[0mlist\u001b[0m\u001b[1;33m(\u001b[0m\u001b[0mmap\u001b[0m\u001b[1;33m(\u001b[0m\u001b[0mint\u001b[0m\u001b[1;33m,\u001b[0m\u001b[0minput\u001b[0m\u001b[1;33m(\u001b[0m\u001b[1;33m)\u001b[0m\u001b[1;33m.\u001b[0m\u001b[0msplit\u001b[0m\u001b[1;33m(\u001b[0m\u001b[1;33m)\u001b[0m\u001b[1;33m)\u001b[0m\u001b[1;33m)\u001b[0m\u001b[1;33m\u001b[0m\u001b[1;33m\u001b[0m\u001b[0m\n\u001b[1;32m----> 2\u001b[1;33m \u001b[0mmy\u001b[0m \u001b[1;33m=\u001b[0m \u001b[1;33m{\u001b[0m\u001b[0mmylist\u001b[0m\u001b[1;33m}\u001b[0m\u001b[1;33m\u001b[0m\u001b[1;33m\u001b[0m\u001b[0m\n\u001b[0m\u001b[0;32m      3\u001b[0m \u001b[1;33m(\u001b[0m\u001b[0mdict\u001b[0m\u001b[1;33m.\u001b[0m\u001b[0mfromkeys\u001b[0m\u001b[1;33m(\u001b[0m\u001b[0mmylist\u001b[0m\u001b[1;33m)\u001b[0m\u001b[1;33m)\u001b[0m\u001b[1;33m\u001b[0m\u001b[1;33m\u001b[0m\u001b[0m\n\u001b[0;32m      4\u001b[0m \u001b[1;32mfor\u001b[0m \u001b[0mi\u001b[0m \u001b[1;32min\u001b[0m \u001b[0mmylist\u001b[0m\u001b[1;33m:\u001b[0m\u001b[1;33m\u001b[0m\u001b[1;33m\u001b[0m\u001b[0m\n\u001b[0;32m      5\u001b[0m     \u001b[0mprint\u001b[0m\u001b[1;33m(\u001b[0m\u001b[0mi\u001b[0m\u001b[1;33m)\u001b[0m\u001b[1;33m\u001b[0m\u001b[1;33m\u001b[0m\u001b[0m\n",
      "\u001b[1;31mTypeError\u001b[0m: unhashable type: 'list'"
     ]
    }
   ],
   "source": [
    "mylist = list(map(int,input().split()))\n",
    "my = {mylist}\n",
    "(dict.fromkeys(mylist))\n",
    "for i in mylist:\n",
    "    print(i)\n",
    "print(*my)"
   ]
  },
  {
   "cell_type": "code",
   "execution_count": 100,
   "id": "0a84510f",
   "metadata": {},
   "outputs": [
    {
     "name": "stdout",
     "output_type": "stream",
     "text": [
      "2 1 3 3 4\n"
     ]
    }
   ],
   "source": [
    "mylist = list(map(int,input().split()))\n",
    "m = [i for i, x in enumerate(mylist) if mylist.count(x) > 1]"
   ]
  },
  {
   "cell_type": "code",
   "execution_count": 105,
   "id": "d2096ace",
   "metadata": {},
   "outputs": [
    {
     "ename": "IndexError",
     "evalue": "pop index out of range",
     "output_type": "error",
     "traceback": [
      "\u001b[1;31m---------------------------------------------------------------------------\u001b[0m",
      "\u001b[1;31mIndexError\u001b[0m                                Traceback (most recent call last)",
      "\u001b[1;32m<ipython-input-105-5b56917ec112>\u001b[0m in \u001b[0;36m<module>\u001b[1;34m\u001b[0m\n\u001b[0;32m      1\u001b[0m \u001b[1;32mfor\u001b[0m \u001b[0mi\u001b[0m \u001b[1;32min\u001b[0m \u001b[0mm\u001b[0m\u001b[1;33m:\u001b[0m\u001b[1;33m\u001b[0m\u001b[1;33m\u001b[0m\u001b[0m\n\u001b[0;32m      2\u001b[0m \u001b[1;33m\u001b[0m\u001b[0m\n\u001b[1;32m----> 3\u001b[1;33m     \u001b[0mmylist\u001b[0m\u001b[1;33m.\u001b[0m\u001b[0mpop\u001b[0m\u001b[1;33m(\u001b[0m\u001b[0mi\u001b[0m\u001b[1;33m)\u001b[0m\u001b[1;33m\u001b[0m\u001b[1;33m\u001b[0m\u001b[0m\n\u001b[0m",
      "\u001b[1;31mIndexError\u001b[0m: pop index out of range"
     ]
    }
   ],
   "source": [
    "for i in m:\n",
    "    mylist.pop(i)"
   ]
  },
  {
   "cell_type": "code",
   "execution_count": null,
   "id": "0615d895",
   "metadata": {},
   "outputs": [],
   "source": [
    "mylist = list(map(int,input().split()))\n",
    "ffff = {}\n",
    "for val in mylist:\n",
    "    [i for i, x in enumerate(mylist) if mylist.count(x) > 1]\n"
   ]
  },
  {
   "cell_type": "code",
   "execution_count": 156,
   "id": "f6162327",
   "metadata": {},
   "outputs": [
    {
     "name": "stdout",
     "output_type": "stream",
     "text": [
      "2 1 2 3 3 4\n",
      "{2}\n"
     ]
    },
    {
     "data": {
      "text/plain": [
       "{2: None, 1: None, 3: None, 4: None}"
      ]
     },
     "execution_count": 156,
     "metadata": {},
     "output_type": "execute_result"
    }
   ],
   "source": [
    "mylist = list(map(int,input().split()))\n",
    "m = {mylist[0]}\n",
    "print(m)\n",
    "dict.fromkeys(mylist)\n"
   ]
  },
  {
   "cell_type": "code",
   "execution_count": 127,
   "id": "7abe19ab",
   "metadata": {},
   "outputs": [
    {
     "name": "stdout",
     "output_type": "stream",
     "text": [
      "[2, 1, 3, 3, 4]\n"
     ]
    }
   ],
   "source": [
    "print(mylist)"
   ]
  },
  {
   "cell_type": "code",
   "execution_count": 130,
   "id": "ebd163b0",
   "metadata": {},
   "outputs": [
    {
     "name": "stdout",
     "output_type": "stream",
     "text": [
      "2\n",
      "ll\n",
      "2\n",
      "1\n",
      "3\n",
      "4\n",
      "[2, 1, 3, 4]\n"
     ]
    }
   ],
   "source": [
    "for i in mylist:\n",
    "    print(i)\n",
    "    if i in m:\n",
    "        print('ll')\n",
    "        print(i)\n",
    "        mylist.pop(i)\n",
    "print(mylist)"
   ]
  },
  {
   "cell_type": "code",
   "execution_count": 161,
   "id": "67c51358",
   "metadata": {},
   "outputs": [
    {
     "name": "stdout",
     "output_type": "stream",
     "text": [
      "4 3 3 1 2\n",
      "[4, 3, 1, 2]\n"
     ]
    },
    {
     "ename": "IndexError",
     "evalue": "pop index out of range",
     "output_type": "error",
     "traceback": [
      "\u001b[1;31m---------------------------------------------------------------------------\u001b[0m",
      "\u001b[1;31mIndexError\u001b[0m                                Traceback (most recent call last)",
      "\u001b[1;32m<ipython-input-161-1667943a70b5>\u001b[0m in \u001b[0;36m<module>\u001b[1;34m\u001b[0m\n\u001b[0;32m      5\u001b[0m \u001b[1;32mfor\u001b[0m \u001b[0mi\u001b[0m \u001b[1;32min\u001b[0m \u001b[0mkeys\u001b[0m\u001b[1;33m:\u001b[0m\u001b[1;33m\u001b[0m\u001b[1;33m\u001b[0m\u001b[0m\n\u001b[0;32m      6\u001b[0m     \u001b[1;32mif\u001b[0m \u001b[0mi\u001b[0m \u001b[1;32min\u001b[0m \u001b[0mkeys\u001b[0m\u001b[1;33m:\u001b[0m\u001b[1;33m\u001b[0m\u001b[1;33m\u001b[0m\u001b[0m\n\u001b[1;32m----> 7\u001b[1;33m         \u001b[0mkeys\u001b[0m\u001b[1;33m.\u001b[0m\u001b[0mpop\u001b[0m\u001b[1;33m(\u001b[0m\u001b[0mi\u001b[0m\u001b[1;33m)\u001b[0m\u001b[1;33m\u001b[0m\u001b[1;33m\u001b[0m\u001b[0m\n\u001b[0m\u001b[0;32m      8\u001b[0m \u001b[0mprint\u001b[0m\u001b[1;33m(\u001b[0m\u001b[0mkeys\u001b[0m\u001b[1;33m)\u001b[0m\u001b[1;33m\u001b[0m\u001b[1;33m\u001b[0m\u001b[0m\n\u001b[0;32m      9\u001b[0m \u001b[0mprint\u001b[0m\u001b[1;33m(\u001b[0m\u001b[0mmylist\u001b[0m\u001b[1;33m)\u001b[0m\u001b[1;33m\u001b[0m\u001b[1;33m\u001b[0m\u001b[0m\n",
      "\u001b[1;31mIndexError\u001b[0m: pop index out of range"
     ]
    }
   ],
   "source": [
    "mylist = list(map(int,input().split()))\n",
    "keys = sorted(set(mylist), key=mylist.index)\n",
    "print(keys)\n",
    "for i in keys:\n",
    "    if i in keys:\n",
    "        keys.pop(i)\n",
    "print(keys)\n",
    "print(mylist)\n",
    "\n",
    "d = dict.fromkeys(keys , 0)\n",
    "for i in mylist:\n",
    "    if i in d:\n",
    "        print(i)\n",
    "        \n",
    "\n",
    "#   if key in \n",
    "#print(*d.keys()) \n",
    "\n",
    "\n",
    "#temp_dict = {}\n",
    "#for key, values in mylist:\n",
    "#    if values[1] in temp_dict:\n",
    "#        temp_dict[values[1]] = temp_dict[values[1]] + 1\n",
    "#    else:\n",
    "#        temp_dict[values[1]] = 1"
   ]
  },
  {
   "cell_type": "code",
   "execution_count": 147,
   "id": "cddadf92",
   "metadata": {},
   "outputs": [
    {
     "name": "stdout",
     "output_type": "stream",
     "text": [
      "{'name1': [1, 2, 3, 1, 2, 3], 'name2': [1, 2, 3, 1, 2, 3]}\n"
     ]
    }
   ],
   "source": [
    "keys = ['name1', 'name2', 'name2', 'name1']\n",
    "somelist = [1, 2, 3]\n",
    "d = {}\n",
    "for k in keys:\n",
    "    d.setdefault(k, []).extend(somelist)\n",
    "print(d)"
   ]
  },
  {
   "cell_type": "code",
   "execution_count": 175,
   "id": "f565c29a",
   "metadata": {},
   "outputs": [
    {
     "name": "stdout",
     "output_type": "stream",
     "text": [
      "4 3 3 1 2\n",
      "[4, 3, 1, 2]\n"
     ]
    }
   ],
   "source": [
    "mylist = list(map(int,input().split()))\n",
    "keys = sorted(set(mylist), key=mylist.index)\n",
    "print(keys)"
   ]
  },
  {
   "cell_type": "code",
   "execution_count": 176,
   "id": "d597e124",
   "metadata": {},
   "outputs": [
    {
     "name": "stdout",
     "output_type": "stream",
     "text": [
      "4\n",
      "3\n",
      "3\n",
      "1\n",
      "2\n"
     ]
    }
   ],
   "source": [
    "d = dict.fromkeys(keys , 0)\n",
    "for i in mylist:\n",
    "    if i in d:\n",
    "        print(i)\n",
    "        d[i] += 1\n"
   ]
  },
  {
   "cell_type": "code",
   "execution_count": 171,
   "id": "aad459ce",
   "metadata": {},
   "outputs": [
    {
     "name": "stdout",
     "output_type": "stream",
     "text": [
      "1\n",
      "2\n"
     ]
    },
    {
     "ename": "RuntimeError",
     "evalue": "dictionary changed size during iteration",
     "output_type": "error",
     "traceback": [
      "\u001b[1;31m---------------------------------------------------------------------------\u001b[0m",
      "\u001b[1;31mRuntimeError\u001b[0m                              Traceback (most recent call last)",
      "\u001b[1;32m<ipython-input-171-c47728005929>\u001b[0m in \u001b[0;36m<module>\u001b[1;34m\u001b[0m\n\u001b[1;32m----> 1\u001b[1;33m \u001b[1;32mfor\u001b[0m  \u001b[0mkey\u001b[0m\u001b[1;33m,\u001b[0m \u001b[0mvalues\u001b[0m \u001b[1;32min\u001b[0m \u001b[0md\u001b[0m\u001b[1;33m.\u001b[0m\u001b[0mitems\u001b[0m\u001b[1;33m(\u001b[0m\u001b[1;33m)\u001b[0m\u001b[1;33m:\u001b[0m\u001b[1;33m\u001b[0m\u001b[1;33m\u001b[0m\u001b[0m\n\u001b[0m\u001b[0;32m      2\u001b[0m     \u001b[0mprint\u001b[0m\u001b[1;33m(\u001b[0m\u001b[0mvalues\u001b[0m\u001b[1;33m)\u001b[0m\u001b[1;33m\u001b[0m\u001b[1;33m\u001b[0m\u001b[0m\n\u001b[0;32m      3\u001b[0m     \u001b[1;32mif\u001b[0m \u001b[0mvalues\u001b[0m \u001b[1;33m>\u001b[0m \u001b[1;36m1\u001b[0m\u001b[1;33m:\u001b[0m\u001b[1;33m\u001b[0m\u001b[1;33m\u001b[0m\u001b[0m\n\u001b[0;32m      4\u001b[0m         \u001b[0md\u001b[0m\u001b[1;33m.\u001b[0m\u001b[0mpop\u001b[0m\u001b[1;33m(\u001b[0m\u001b[0mkey\u001b[0m\u001b[1;33m)\u001b[0m\u001b[1;33m\u001b[0m\u001b[1;33m\u001b[0m\u001b[0m\n\u001b[0;32m      5\u001b[0m \u001b[0mprint\u001b[0m\u001b[1;33m(\u001b[0m\u001b[0md\u001b[0m\u001b[1;33m)\u001b[0m\u001b[1;33m\u001b[0m\u001b[1;33m\u001b[0m\u001b[0m\n",
      "\u001b[1;31mRuntimeError\u001b[0m: dictionary changed size during iteration"
     ]
    }
   ],
   "source": [
    "for  key, values in d.items():\n",
    "    print(values)\n",
    "    if values > 1:\n",
    "        d.pop(key)\n",
    "print(d)"
   ]
  },
  {
   "cell_type": "code",
   "execution_count": 178,
   "id": "8f20899b",
   "metadata": {},
   "outputs": [
    {
     "name": "stdout",
     "output_type": "stream",
     "text": [
      "{4: 1, 1: 1, 2: 1}\n"
     ]
    }
   ],
   "source": [
    "mydict = { k:v for k,v in d.items() if v == 1 }\n",
    "print(mydict)"
   ]
  },
  {
   "cell_type": "code",
   "execution_count": 179,
   "id": "d10ed06e",
   "metadata": {},
   "outputs": [
    {
     "name": "stdout",
     "output_type": "stream",
     "text": [
      "4 1 2\n"
     ]
    }
   ],
   "source": [
    "print(*mydict.keys()) "
   ]
  },
  {
   "cell_type": "code",
   "execution_count": 182,
   "id": "d19695aa",
   "metadata": {},
   "outputs": [
    {
     "name": "stdout",
     "output_type": "stream",
     "text": [
      "4 3 5 2 5 1 3 5\n",
      "4 2 1\n"
     ]
    }
   ],
   "source": [
    "mylist = list(map(int,input().split()))\n",
    "keys = sorted(set(mylist), key=mylist.index)\n",
    "\n",
    "d = dict.fromkeys(keys , 0)\n",
    "for i in mylist:\n",
    "    if i in d:       \n",
    "        d[i] += 1\n",
    "        \n",
    "mydict = { k:v for k,v in d.items() if v == 1 }\n",
    "print(*mydict.keys()) "
   ]
  },
  {
   "cell_type": "markdown",
   "id": "ed7d3307",
   "metadata": {},
   "source": [
    "Задача 4\n",
    "натуральное число от 1 до n. Беатриса пытается угадать это число, для этого она называет множества натуральных чисел.  YES, если среди названных ей чисел есть задуманное, NO в противном случае.  помочь ей определить, какие числа мог задуманы.\n",
    "Первая строка входных данных содержит число n — наибольшее число, которое мог загадать Август. Далее идут строки, содержащие вопросы Беатрисы. Каждая строка представляет собой набор чисел, разделенных пробелами. После каждой строки с вопросом идет ответ Августа: YES или NO. Наконец, последняя строка входных данных содержит одно слово HELP.\n"
   ]
  },
  {
   "cell_type": "code",
   "execution_count": 190,
   "id": "66ed7c78",
   "metadata": {},
   "outputs": [
    {
     "name": "stdout",
     "output_type": "stream",
     "text": [
      "Yes\n"
     ]
    }
   ],
   "source": [
    "l = [[1,2,3],['Yes']]\n",
    "print(l[1][0])"
   ]
  },
  {
   "cell_type": "code",
   "execution_count": 199,
   "id": "a576e0af",
   "metadata": {},
   "outputs": [
    {
     "name": "stdout",
     "output_type": "stream",
     "text": [
      "HELP\n",
      "a\n"
     ]
    },
    {
     "ename": "TypeError",
     "evalue": "map() must have at least two arguments.",
     "output_type": "error",
     "traceback": [
      "\u001b[1;31m---------------------------------------------------------------------------\u001b[0m",
      "\u001b[1;31mTypeError\u001b[0m                                 Traceback (most recent call last)",
      "\u001b[1;32m<ipython-input-199-eb334fcc9246>\u001b[0m in \u001b[0;36m<module>\u001b[1;34m\u001b[0m\n\u001b[0;32m      1\u001b[0m \u001b[0mquestion\u001b[0m \u001b[1;33m=\u001b[0m \u001b[0mlist\u001b[0m\u001b[1;33m(\u001b[0m\u001b[0minput\u001b[0m\u001b[1;33m(\u001b[0m\u001b[1;33m)\u001b[0m\u001b[1;33m.\u001b[0m\u001b[0msplit\u001b[0m\u001b[1;33m(\u001b[0m\u001b[1;33m)\u001b[0m\u001b[1;33m)\u001b[0m\u001b[1;33m\u001b[0m\u001b[1;33m\u001b[0m\u001b[0m\n\u001b[0;32m      2\u001b[0m \u001b[1;32mif\u001b[0m \u001b[0mquestion\u001b[0m \u001b[1;33m!=\u001b[0m \u001b[1;34m\"HELP\"\u001b[0m\u001b[1;33m:\u001b[0m\u001b[1;33m\u001b[0m\u001b[1;33m\u001b[0m\u001b[0m\n\u001b[1;32m----> 3\u001b[1;33m     \u001b[0manswer\u001b[0m  \u001b[1;33m=\u001b[0m \u001b[0mlist\u001b[0m\u001b[1;33m(\u001b[0m\u001b[0mmap\u001b[0m\u001b[1;33m(\u001b[0m\u001b[0minput\u001b[0m\u001b[1;33m(\u001b[0m\u001b[1;33m)\u001b[0m\u001b[1;33m.\u001b[0m\u001b[0msplit\u001b[0m\u001b[1;33m(\u001b[0m\u001b[1;33m)\u001b[0m\u001b[1;33m)\u001b[0m\u001b[1;33m)\u001b[0m\u001b[1;33m\u001b[0m\u001b[1;33m\u001b[0m\u001b[0m\n\u001b[0m",
      "\u001b[1;31mTypeError\u001b[0m: map() must have at least two arguments."
     ]
    }
   ],
   "source": [
    "question = list(input().split())\n",
    "if question != \"HELP\":\n",
    "    answer  = list(map(input().split()))"
   ]
  },
  {
   "cell_type": "code",
   "execution_count": 249,
   "id": "22e80dbd",
   "metadata": {},
   "outputs": [
    {
     "name": "stdout",
     "output_type": "stream",
     "text": [
      "10\n",
      "3 4\n"
     ]
    }
   ],
   "source": [
    "n = int(input())\n",
    "m = [i for i in range(1,n+1)]\n",
    "answer = [['Yes'],['No'],['Yes']]\n",
    "def count(l):\n",
    "    return sum(1+count(i) for i in l if isinstance(i,list))\n",
    "question = [[10,3],[2,4],[3,4]]\n",
    "for pos in range(count(answer)):\n",
    "\n",
    "    if answer[pos][0] == 'No':\n",
    "        for i in range(len(question[pos])):\n",
    "            if question[pos][i] in m:\n",
    "                m.pop(question[pos][i])\n",
    "    elif answer[pos][0] == 'Yes':\n",
    "        m = question[pos][:]\n",
    "print(*m)"
   ]
  },
  {
   "cell_type": "code",
   "execution_count": 239,
   "id": "6748f877",
   "metadata": {},
   "outputs": [
    {
     "data": {
      "text/plain": [
       "3"
      ]
     },
     "execution_count": 239,
     "metadata": {},
     "output_type": "execute_result"
    }
   ],
   "source": [
    "def count(l):\n",
    "    return sum(1+count(i) for i in l if isinstance(i,list))\n",
    "count(answer)"
   ]
  },
  {
   "cell_type": "code",
   "execution_count": 248,
   "id": "7fb10b7d",
   "metadata": {},
   "outputs": [
    {
     "data": {
      "text/plain": [
       "1"
      ]
     },
     "execution_count": 248,
     "metadata": {},
     "output_type": "execute_result"
    }
   ],
   "source": [
    "len(answer[0])"
   ]
  },
  {
   "cell_type": "code",
   "execution_count": 229,
   "id": "75334ff8",
   "metadata": {},
   "outputs": [
    {
     "name": "stdout",
     "output_type": "stream",
     "text": [
      "1 2 3 4 5 6 7 8 9 10\n"
     ]
    }
   ],
   "source": [
    "print(*m)"
   ]
  },
  {
   "cell_type": "code",
   "execution_count": 211,
   "id": "22f04593",
   "metadata": {},
   "outputs": [
    {
     "ename": "IndexError",
     "evalue": "list index out of range",
     "output_type": "error",
     "traceback": [
      "\u001b[1;31m---------------------------------------------------------------------------\u001b[0m",
      "\u001b[1;31mIndexError\u001b[0m                                Traceback (most recent call last)",
      "\u001b[1;32m<ipython-input-211-7d8ffb8b3c40>\u001b[0m in \u001b[0;36m<module>\u001b[1;34m\u001b[0m\n\u001b[0;32m      2\u001b[0m \u001b[0manswer\u001b[0m \u001b[1;33m=\u001b[0m \u001b[1;33m[\u001b[0m\u001b[1;33m]\u001b[0m\u001b[1;33m\u001b[0m\u001b[1;33m\u001b[0m\u001b[0m\n\u001b[0;32m      3\u001b[0m \u001b[0mi\u001b[0m \u001b[1;33m=\u001b[0m \u001b[1;36m0\u001b[0m\u001b[1;33m\u001b[0m\u001b[1;33m\u001b[0m\u001b[0m\n\u001b[1;32m----> 4\u001b[1;33m \u001b[1;32mwhile\u001b[0m \u001b[0mquestion\u001b[0m\u001b[1;33m[\u001b[0m\u001b[0mi\u001b[0m\u001b[1;33m]\u001b[0m \u001b[1;33m!=\u001b[0m \u001b[1;34m'HELP'\u001b[0m\u001b[1;33m:\u001b[0m\u001b[1;33m\u001b[0m\u001b[1;33m\u001b[0m\u001b[0m\n\u001b[0m\u001b[0;32m      5\u001b[0m     \u001b[0mquestion\u001b[0m \u001b[1;33m=\u001b[0m \u001b[0mlist\u001b[0m\u001b[1;33m(\u001b[0m\u001b[0minput\u001b[0m\u001b[1;33m(\u001b[0m\u001b[1;33m)\u001b[0m\u001b[1;33m.\u001b[0m\u001b[0msplit\u001b[0m\u001b[1;33m(\u001b[0m\u001b[1;33m)\u001b[0m\u001b[1;33m)\u001b[0m\u001b[1;33m\u001b[0m\u001b[1;33m\u001b[0m\u001b[0m\n\u001b[0;32m      6\u001b[0m     \u001b[0mi\u001b[0m \u001b[1;33m+=\u001b[0m \u001b[1;36m1\u001b[0m\u001b[1;33m\u001b[0m\u001b[1;33m\u001b[0m\u001b[0m\n",
      "\u001b[1;31mIndexError\u001b[0m: list index out of range"
     ]
    }
   ],
   "source": [
    "question = []\n",
    "answer = []\n",
    "i = 0\n",
    "while question[i] != 'HELP':\n",
    "    question = list(input().split())\n",
    "    i += 1\n",
    "    "
   ]
  },
  {
   "cell_type": "code",
   "execution_count": 208,
   "id": "52734626",
   "metadata": {},
   "outputs": [
    {
     "name": "stdout",
     "output_type": "stream",
     "text": [
      "1 \n",
      "12\n",
      "12\n",
      "\n"
     ]
    },
    {
     "ename": "KeyboardInterrupt",
     "evalue": "Interrupted by user",
     "output_type": "error",
     "traceback": [
      "\u001b[1;31m---------------------------------------------------------------------------\u001b[0m",
      "\u001b[1;31mKeyboardInterrupt\u001b[0m                         Traceback (most recent call last)",
      "\u001b[1;32m<ipython-input-208-6291f8cdfa5f>\u001b[0m in \u001b[0;36m<module>\u001b[1;34m\u001b[0m\n\u001b[0;32m      1\u001b[0m \u001b[0ma\u001b[0m \u001b[1;33m=\u001b[0m \u001b[1;33m[\u001b[0m\u001b[1;33m]\u001b[0m\u001b[1;33m\u001b[0m\u001b[1;33m\u001b[0m\u001b[0m\n\u001b[1;32m----> 2\u001b[1;33m \u001b[1;32mwhile\u001b[0m \u001b[0minput\u001b[0m\u001b[1;33m(\u001b[0m\u001b[1;33m)\u001b[0m\u001b[1;33m:\u001b[0m\u001b[1;33m\u001b[0m\u001b[1;33m\u001b[0m\u001b[0m\n\u001b[0m\u001b[0;32m      3\u001b[0m     \u001b[0ma\u001b[0m\u001b[1;33m.\u001b[0m\u001b[0mappend\u001b[0m\u001b[1;33m(\u001b[0m\u001b[0minput\u001b[0m\u001b[1;33m(\u001b[0m\u001b[1;33m)\u001b[0m\u001b[1;33m)\u001b[0m\u001b[1;33m\u001b[0m\u001b[1;33m\u001b[0m\u001b[0m\n",
      "\u001b[1;32m~\\anaconda3\\lib\\site-packages\\ipykernel\\kernelbase.py\u001b[0m in \u001b[0;36mraw_input\u001b[1;34m(self, prompt)\u001b[0m\n\u001b[0;32m    858\u001b[0m                 \u001b[1;34m\"raw_input was called, but this frontend does not support input requests.\"\u001b[0m\u001b[1;33m\u001b[0m\u001b[1;33m\u001b[0m\u001b[0m\n\u001b[0;32m    859\u001b[0m             )\n\u001b[1;32m--> 860\u001b[1;33m         return self._input_request(str(prompt),\n\u001b[0m\u001b[0;32m    861\u001b[0m             \u001b[0mself\u001b[0m\u001b[1;33m.\u001b[0m\u001b[0m_parent_ident\u001b[0m\u001b[1;33m,\u001b[0m\u001b[1;33m\u001b[0m\u001b[1;33m\u001b[0m\u001b[0m\n\u001b[0;32m    862\u001b[0m             \u001b[0mself\u001b[0m\u001b[1;33m.\u001b[0m\u001b[0m_parent_header\u001b[0m\u001b[1;33m,\u001b[0m\u001b[1;33m\u001b[0m\u001b[1;33m\u001b[0m\u001b[0m\n",
      "\u001b[1;32m~\\anaconda3\\lib\\site-packages\\ipykernel\\kernelbase.py\u001b[0m in \u001b[0;36m_input_request\u001b[1;34m(self, prompt, ident, parent, password)\u001b[0m\n\u001b[0;32m    902\u001b[0m             \u001b[1;32mexcept\u001b[0m \u001b[0mKeyboardInterrupt\u001b[0m\u001b[1;33m:\u001b[0m\u001b[1;33m\u001b[0m\u001b[1;33m\u001b[0m\u001b[0m\n\u001b[0;32m    903\u001b[0m                 \u001b[1;31m# re-raise KeyboardInterrupt, to truncate traceback\u001b[0m\u001b[1;33m\u001b[0m\u001b[1;33m\u001b[0m\u001b[1;33m\u001b[0m\u001b[0m\n\u001b[1;32m--> 904\u001b[1;33m                 \u001b[1;32mraise\u001b[0m \u001b[0mKeyboardInterrupt\u001b[0m\u001b[1;33m(\u001b[0m\u001b[1;34m\"Interrupted by user\"\u001b[0m\u001b[1;33m)\u001b[0m \u001b[1;32mfrom\u001b[0m \u001b[1;32mNone\u001b[0m\u001b[1;33m\u001b[0m\u001b[1;33m\u001b[0m\u001b[0m\n\u001b[0m\u001b[0;32m    905\u001b[0m             \u001b[1;32mexcept\u001b[0m \u001b[0mException\u001b[0m \u001b[1;32mas\u001b[0m \u001b[0me\u001b[0m\u001b[1;33m:\u001b[0m\u001b[1;33m\u001b[0m\u001b[1;33m\u001b[0m\u001b[0m\n\u001b[0;32m    906\u001b[0m                 \u001b[0mself\u001b[0m\u001b[1;33m.\u001b[0m\u001b[0mlog\u001b[0m\u001b[1;33m.\u001b[0m\u001b[0mwarning\u001b[0m\u001b[1;33m(\u001b[0m\u001b[1;34m\"Invalid Message:\"\u001b[0m\u001b[1;33m,\u001b[0m \u001b[0mexc_info\u001b[0m\u001b[1;33m=\u001b[0m\u001b[1;32mTrue\u001b[0m\u001b[1;33m)\u001b[0m\u001b[1;33m\u001b[0m\u001b[1;33m\u001b[0m\u001b[0m\n",
      "\u001b[1;31mKeyboardInterrupt\u001b[0m: Interrupted by user"
     ]
    }
   ],
   "source": [
    "a = []\n",
    "while input():\n",
    "    a.append(input())"
   ]
  },
  {
   "cell_type": "code",
   "execution_count": 283,
   "id": "fde387a4",
   "metadata": {},
   "outputs": [
    {
     "name": "stdout",
     "output_type": "stream",
     "text": [
      "10\n"
     ]
    },
    {
     "ename": "TypeError",
     "evalue": "unhashable type: 'set'",
     "output_type": "error",
     "traceback": [
      "\u001b[1;31m---------------------------------------------------------------------------\u001b[0m",
      "\u001b[1;31mTypeError\u001b[0m                                 Traceback (most recent call last)",
      "\u001b[1;32m<ipython-input-283-a8860171f4a5>\u001b[0m in \u001b[0;36m<module>\u001b[1;34m\u001b[0m\n\u001b[0;32m     14\u001b[0m         \u001b[0myes_mass\u001b[0m\u001b[1;33m.\u001b[0m\u001b[0mextend\u001b[0m\u001b[1;33m(\u001b[0m\u001b[0mquestion\u001b[0m\u001b[1;33m[\u001b[0m\u001b[0mpos\u001b[0m\u001b[1;33m]\u001b[0m\u001b[1;33m[\u001b[0m\u001b[1;33m:\u001b[0m\u001b[1;33m]\u001b[0m\u001b[1;33m)\u001b[0m\u001b[1;33m\u001b[0m\u001b[1;33m\u001b[0m\u001b[0m\n\u001b[0;32m     15\u001b[0m \u001b[1;33m\u001b[0m\u001b[0m\n\u001b[1;32m---> 16\u001b[1;33m \u001b[0mc\u001b[0m \u001b[1;33m=\u001b[0m \u001b[0mset\u001b[0m\u001b[1;33m(\u001b[0m\u001b[1;33m[\u001b[0m\u001b[0mset\u001b[0m\u001b[1;33m(\u001b[0m\u001b[0myes_mass\u001b[0m\u001b[1;33m)\u001b[0m \u001b[1;33m-\u001b[0m \u001b[0mset\u001b[0m\u001b[1;33m(\u001b[0m\u001b[0mno_mass\u001b[0m\u001b[1;33m)\u001b[0m\u001b[1;33m]\u001b[0m\u001b[1;33m)\u001b[0m\u001b[1;33m\u001b[0m\u001b[1;33m\u001b[0m\u001b[0m\n\u001b[0m\u001b[0;32m     17\u001b[0m \u001b[1;33m\u001b[0m\u001b[0m\n\u001b[0;32m     18\u001b[0m \u001b[0mprint\u001b[0m\u001b[1;33m(\u001b[0m\u001b[0msorted\u001b[0m\u001b[1;33m(\u001b[0m\u001b[0mc\u001b[0m\u001b[1;33m)\u001b[0m\u001b[1;33m)\u001b[0m\u001b[1;33m\u001b[0m\u001b[1;33m\u001b[0m\u001b[0m\n",
      "\u001b[1;31mTypeError\u001b[0m: unhashable type: 'set'"
     ]
    }
   ],
   "source": [
    "n = int(input())\n",
    "m = [i for i in range(1,n+1)]\n",
    "no_mass = []\n",
    "yes_mass = []\n",
    "\n",
    "answer = [['Yes'],['No'],['Yes']]\n",
    "question = [[10,3],[2,4],[3,4]]\n",
    "def count(l):\n",
    "    return sum(1+count(i) for i in l if isinstance(i,list))\n",
    "for pos in range(count(answer)):\n",
    "    if answer[pos][0] == 'No':\n",
    "        no_mass.extend(question[pos][:])\n",
    "    else:\n",
    "        yes_mass.extend(question[pos][:])\n",
    "\n",
    "c = [set(yes_mass) - set(no_mass)]\n",
    "        \n",
    "print(sorted(c))"
   ]
  },
  {
   "cell_type": "code",
   "execution_count": 266,
   "id": "006f3623",
   "metadata": {},
   "outputs": [
    {
     "name": "stdout",
     "output_type": "stream",
     "text": [
      "{2, 4}\n",
      "3\n"
     ]
    }
   ],
   "source": [
    "print(set(no_mass))\n",
    "yes_mass = sorted(set(yes_mass))\n",
    "print(len(yes_mass))"
   ]
  },
  {
   "cell_type": "code",
   "execution_count": 57,
   "id": "cc8df00f",
   "metadata": {},
   "outputs": [
    {
     "name": "stdout",
     "output_type": "stream",
     "text": [
      "10\n"
     ]
    }
   ],
   "source": [
    "n = int(input())\n",
    "m = [i for i in range(1,n+1)]"
   ]
  },
  {
   "cell_type": "code",
   "execution_count": null,
   "id": "37091964",
   "metadata": {},
   "outputs": [],
   "source": [
    "n = int(input())\n",
    "m = ['i' for i in range(1,n+1)]"
   ]
  },
  {
   "cell_type": "code",
   "execution_count": null,
   "id": "38207da9",
   "metadata": {},
   "outputs": [],
   "source": [
    "answer = list(input().split())"
   ]
  },
  {
   "cell_type": "code",
   "execution_count": null,
   "id": "1fc60ac6",
   "metadata": {},
   "outputs": [],
   "source": [
    "1 2 3 4 5\n",
    "2 4 6 8 10"
   ]
  },
  {
   "cell_type": "code",
   "execution_count": 27,
   "id": "ae4d47ae",
   "metadata": {},
   "outputs": [
    {
     "name": "stdout",
     "output_type": "stream",
     "text": [
      "1 2 3 4 5\n",
      "YES\n",
      "['YES']\n",
      "2 4 6 8 10\n",
      "NO\n",
      "['NO']\n",
      "HELP\n",
      "[['1', '2', '3', '4', '5'], ['2', '4', '6', '8', '10']]\n",
      "[['YES'], ['NO']]\n"
     ]
    }
   ],
   "source": [
    "\n",
    "question = []\n",
    "answer = []\n",
    "while True:\n",
    "    val = list(input().split())\n",
    "    \n",
    "    if val != ['HELP']:\n",
    "        question.append(val)\n",
    "        an = [input()]\n",
    "        print(an)\n",
    "        answer.append(an)\n",
    "    else:\n",
    "        break\n",
    "    \n",
    "print(question)\n",
    "print(answer)"
   ]
  },
  {
   "cell_type": "code",
   "execution_count": 23,
   "id": "d6645ddf",
   "metadata": {},
   "outputs": [],
   "source": [
    "def count(l):\n",
    "    return sum(1+count(i) for i in l if isinstance(i,list))"
   ]
  },
  {
   "cell_type": "code",
   "execution_count": 48,
   "id": "dc7cf471",
   "metadata": {},
   "outputs": [
    {
     "data": {
      "text/plain": [
       "range(0, 2)"
      ]
     },
     "execution_count": 48,
     "metadata": {},
     "output_type": "execute_result"
    }
   ],
   "source": [
    "range(count(answer))"
   ]
  },
  {
   "cell_type": "code",
   "execution_count": 64,
   "id": "307a3ab0",
   "metadata": {},
   "outputs": [
    {
     "name": "stdout",
     "output_type": "stream",
     "text": [
      "{1, 2, 3, 4, 5, 6, 7, 8, 9, 10}\n",
      "['1', '2', '3', '4', '5']\n",
      "[2, 1, 4, 3, 5]\n",
      "[1, 2, 3, 4, 5]\n"
     ]
    }
   ],
   "source": [
    "print(set(m))\n",
    "print(question[0][:])\n",
    "print(list(map(int, set(question[0][:]))))\n",
    "print(list(set(m) & set(v)))"
   ]
  },
  {
   "cell_type": "code",
   "execution_count": 62,
   "id": "4be640e7",
   "metadata": {},
   "outputs": [],
   "source": [
    "v = list(map(int, set(question[0][:])))"
   ]
  },
  {
   "cell_type": "code",
   "execution_count": 63,
   "id": "37a95520",
   "metadata": {},
   "outputs": [
    {
     "data": {
      "text/plain": [
       "[2, 1, 4, 3, 5]"
      ]
     },
     "execution_count": 63,
     "metadata": {},
     "output_type": "execute_result"
    }
   ],
   "source": [
    "v\n"
   ]
  },
  {
   "cell_type": "code",
   "execution_count": 67,
   "id": "9a3d53b8",
   "metadata": {},
   "outputs": [
    {
     "name": "stdout",
     "output_type": "stream",
     "text": [
      "YES\n",
      "NO\n",
      "1 3 5\n"
     ]
    }
   ],
   "source": [
    "for pos in range(count(answer)):\n",
    "    if answer[pos][0] == 'YES':\n",
    "        print('YES')\n",
    "        m = list(set(m) & set(list(map(int,question[pos][:]))))\n",
    "        \n",
    "    elif answer[pos][0] == 'NO':\n",
    "        print('NO')\n",
    "        m = list(set(m) - set(list(map(int,question[pos][:]))))\n",
    "print(*m)"
   ]
  },
  {
   "cell_type": "code",
   "execution_count": null,
   "id": "97487007",
   "metadata": {},
   "outputs": [],
   "source": []
  },
  {
   "cell_type": "code",
   "execution_count": 30,
   "id": "f18afe93",
   "metadata": {},
   "outputs": [
    {
     "name": "stdout",
     "output_type": "stream",
     "text": [
      "[]\n"
     ]
    }
   ],
   "source": [
    "print(m)"
   ]
  },
  {
   "cell_type": "code",
   "execution_count": 305,
   "id": "d0300940",
   "metadata": {},
   "outputs": [
    {
     "name": "stdout",
     "output_type": "stream",
     "text": [
      "1 4 4\n",
      "2\n"
     ]
    },
    {
     "ename": "IndexError",
     "evalue": "list index out of range",
     "output_type": "error",
     "traceback": [
      "\u001b[1;31m---------------------------------------------------------------------------\u001b[0m",
      "\u001b[1;31mIndexError\u001b[0m                                Traceback (most recent call last)",
      "\u001b[1;32m<ipython-input-305-5a6a5491738f>\u001b[0m in \u001b[0;36m<module>\u001b[1;34m\u001b[0m\n\u001b[0;32m      4\u001b[0m     \u001b[0mn\u001b[0m \u001b[1;33m=\u001b[0m \u001b[0minput\u001b[0m\u001b[1;33m(\u001b[0m\u001b[1;33m)\u001b[0m\u001b[1;33m\u001b[0m\u001b[1;33m\u001b[0m\u001b[0m\n\u001b[0;32m      5\u001b[0m     \u001b[1;32mif\u001b[0m \u001b[0mn\u001b[0m \u001b[1;33m!=\u001b[0m \u001b[1;34m'HELP'\u001b[0m\u001b[1;33m:\u001b[0m\u001b[1;33m\u001b[0m\u001b[1;33m\u001b[0m\u001b[0m\n\u001b[1;32m----> 6\u001b[1;33m         \u001b[0ma\u001b[0m\u001b[1;33m[\u001b[0m\u001b[0mi\u001b[0m\u001b[1;33m]\u001b[0m\u001b[1;33m.\u001b[0m\u001b[0mappend\u001b[0m\u001b[1;33m(\u001b[0m\u001b[0mn\u001b[0m\u001b[1;33m)\u001b[0m\u001b[1;33m\u001b[0m\u001b[1;33m\u001b[0m\u001b[0m\n\u001b[0m\u001b[0;32m      7\u001b[0m         \u001b[0mi\u001b[0m \u001b[1;33m+=\u001b[0m \u001b[1;36m1\u001b[0m\u001b[1;33m\u001b[0m\u001b[1;33m\u001b[0m\u001b[0m\n\u001b[0;32m      8\u001b[0m     \u001b[1;32melse\u001b[0m\u001b[1;33m:\u001b[0m\u001b[1;33m\u001b[0m\u001b[1;33m\u001b[0m\u001b[0m\n",
      "\u001b[1;31mIndexError\u001b[0m: list index out of range"
     ]
    }
   ],
   "source": [
    "a = [[]]\n",
    "i = 0\n",
    "while True:\n",
    "    n = input()\n",
    "    if n != 'HELP':\n",
    "        a[i].append(n)\n",
    "        i += 1\n",
    "    else:\n",
    "        break\n",
    "     "
   ]
  },
  {
   "cell_type": "code",
   "execution_count": 300,
   "id": "3749c909",
   "metadata": {},
   "outputs": [
    {
     "data": {
      "text/plain": [
       "['1 2 3', '2']"
      ]
     },
     "execution_count": 300,
     "metadata": {},
     "output_type": "execute_result"
    }
   ],
   "source": [
    ">>> a = [[1,2,3,4],[1,2,3,4]]\n",
    ">>> b = [5,6]\n",
    ">>> for index,element in enumerate(b):\n",
    "        a[index].append(element)"
   ]
  },
  {
   "cell_type": "code",
   "execution_count": 302,
   "id": "54c7b0e8",
   "metadata": {},
   "outputs": [
    {
     "data": {
      "text/plain": [
       "'1 2 3'"
      ]
     },
     "execution_count": 302,
     "metadata": {},
     "output_type": "execute_result"
    }
   ],
   "source": [
    "a[0]"
   ]
  },
  {
   "cell_type": "code",
   "execution_count": 360,
   "id": "b4aa3e50",
   "metadata": {},
   "outputs": [],
   "source": []
  },
  {
   "cell_type": "code",
   "execution_count": 366,
   "id": "f6f5ed93",
   "metadata": {},
   "outputs": [
    {
     "name": "stdout",
     "output_type": "stream",
     "text": [
      "5\n",
      "5\n",
      "{5}\n",
      "6 0\n",
      "6 0\n",
      "{0, 6}\n",
      "HELP\n",
      "HELP\n"
     ]
    }
   ],
   "source": [
    "question = []\n",
    "while True:\n",
    "    c = input()\n",
    "    print(c)\n",
    "    if c != 'HELP':\n",
    "        question = set(map(int,c.split()))\n",
    "        print(question)\n",
    "    else:\n",
    "        break"
   ]
  },
  {
   "cell_type": "code",
   "execution_count": 2,
   "id": "c764de02",
   "metadata": {},
   "outputs": [
    {
     "name": "stdout",
     "output_type": "stream",
     "text": [
      "3 5\n",
      "[['3', '5']]\n",
      "2\n",
      "[['3', '5'], ['2']]\n",
      "HELP\n"
     ]
    }
   ],
   "source": [
    "question = []\n",
    "while True:\n",
    "    val = list(input().split())\n",
    "    if val == ['HELP']:\n",
    "        break\n",
    "    question.append(val)\n",
    "    print(question)"
   ]
  },
  {
   "cell_type": "markdown",
   "id": "2a76d8ea",
   "metadata": {},
   "source": [
    "values"
   ]
  },
  {
   "cell_type": "code",
   "execution_count": 4,
   "id": "6f595d74",
   "metadata": {},
   "outputs": [
    {
     "ename": "TypeError",
     "evalue": "int() argument must be a string, a bytes-like object or a number, not 'list'",
     "output_type": "error",
     "traceback": [
      "\u001b[1;31m---------------------------------------------------------------------------\u001b[0m",
      "\u001b[1;31mTypeError\u001b[0m                                 Traceback (most recent call last)",
      "\u001b[1;32m<ipython-input-4-eb23987c8974>\u001b[0m in \u001b[0;36m<module>\u001b[1;34m\u001b[0m\n\u001b[1;32m----> 1\u001b[1;33m \u001b[0mprint\u001b[0m\u001b[1;33m(\u001b[0m\u001b[0mint\u001b[0m\u001b[1;33m(\u001b[0m\u001b[0mvalues\u001b[0m\u001b[1;33m)\u001b[0m\u001b[1;33m)\u001b[0m\u001b[1;33m\u001b[0m\u001b[1;33m\u001b[0m\u001b[0m\n\u001b[0m",
      "\u001b[1;31mTypeError\u001b[0m: int() argument must be a string, a bytes-like object or a number, not 'list'"
     ]
    }
   ],
   "source": [
    "print(int(values))"
   ]
  },
  {
   "cell_type": "code",
   "execution_count": 75,
   "id": "da1260cc",
   "metadata": {},
   "outputs": [
    {
     "name": "stdout",
     "output_type": "stream",
     "text": [
      "100\n",
      "3 5 8 10 11 13 14 15 16 20 21 23 25 27 29 31 32 33 35 42 43 46 47 48 51 52 57 58 67 68 72 74 75 76 79 80 81 82 83 84 86 89 90 91 92 93 94 95 96 99\n",
      "YES\n",
      "1 4 7 9 14 16 17 19 20 23 25 27 28 29 30 31 32 33 41 42 45 46 48 50 52 54 59 60 61 63 66 67 68 69 70 71 73 74 79 81 82 83 89 90 91 92 93 94 95 100\n",
      "YES\n",
      "3 5 6 15 16 18 19 20 21 22 23 24 26 28 29 35 37 38 39 40 41 43 44 45 46 47 53 55 56 60 61 63 64 65 68 70 71 73 76 79 80 81 82 83 86 90 91 95 96 99\n",
      "YES\n",
      "1 2 3 5 11 16 17 23 25 31 32 33 34 35 38 39 41 43 44 46 47 49 51 53 58 59 62 63 68 69 70 72 73 74 76 77 78 79 80 81 82 83 85 86 93 94 95 97 99 100\n",
      "YES\n",
      "3 7 8 9 10 14 17 20 22 23 24 25 26 27 28 30 34 40 42 43 45 47 48 49 50 51 52 53 54 55 59 62 63 66 67 72 73 75 77 81 83 84 86 89 92 93 94 96 98 100\n",
      "YES\n",
      "HELP\n"
     ]
    },
    {
     "ename": "TypeError",
     "evalue": "sorted expected 1 argument, got 3",
     "output_type": "error",
     "traceback": [
      "\u001b[1;31m---------------------------------------------------------------------------\u001b[0m",
      "\u001b[1;31mTypeError\u001b[0m                                 Traceback (most recent call last)",
      "\u001b[1;32m<ipython-input-75-847977dfe586>\u001b[0m in \u001b[0;36m<module>\u001b[1;34m\u001b[0m\n\u001b[0;32m     24\u001b[0m \u001b[1;33m\u001b[0m\u001b[0m\n\u001b[0;32m     25\u001b[0m         \u001b[0mm\u001b[0m \u001b[1;33m=\u001b[0m \u001b[0mlist\u001b[0m\u001b[1;33m(\u001b[0m\u001b[0mset\u001b[0m\u001b[1;33m(\u001b[0m\u001b[0mm\u001b[0m\u001b[1;33m)\u001b[0m \u001b[1;33m-\u001b[0m \u001b[0mset\u001b[0m\u001b[1;33m(\u001b[0m\u001b[0mlist\u001b[0m\u001b[1;33m(\u001b[0m\u001b[0mmap\u001b[0m\u001b[1;33m(\u001b[0m\u001b[0mint\u001b[0m\u001b[1;33m,\u001b[0m\u001b[0mquestion\u001b[0m\u001b[1;33m[\u001b[0m\u001b[0mpos\u001b[0m\u001b[1;33m]\u001b[0m\u001b[1;33m[\u001b[0m\u001b[1;33m:\u001b[0m\u001b[1;33m]\u001b[0m\u001b[1;33m)\u001b[0m\u001b[1;33m)\u001b[0m\u001b[1;33m)\u001b[0m\u001b[1;33m)\u001b[0m\u001b[1;33m\u001b[0m\u001b[1;33m\u001b[0m\u001b[0m\n\u001b[1;32m---> 26\u001b[1;33m \u001b[0mprint\u001b[0m\u001b[1;33m(\u001b[0m\u001b[0msorted\u001b[0m\u001b[1;33m(\u001b[0m\u001b[1;33m*\u001b[0m\u001b[0mm\u001b[0m\u001b[1;33m)\u001b[0m\u001b[1;33m)\u001b[0m\u001b[1;33m\u001b[0m\u001b[1;33m\u001b[0m\u001b[0m\n\u001b[0m",
      "\u001b[1;31mTypeError\u001b[0m: sorted expected 1 argument, got 3"
     ]
    }
   ],
   "source": [
    "def count(l):\n",
    "    return sum(1+count(i) for i in l if isinstance(i,list))\n",
    "n = int(input())\n",
    "m = [i for i in range(1,n+1)]\n",
    "question = []\n",
    "answer = []\n",
    "while True:\n",
    "    val = list(input().split())\n",
    "    \n",
    "    if val != ['HELP']:\n",
    "        question.append(val)\n",
    "        an = [input()]\n",
    "        answer.append(an)\n",
    "    else:\n",
    "        break\n",
    "    \n",
    "\n",
    "for pos in range(count(answer)):\n",
    "    if answer[pos][0] == 'YES':\n",
    "        \n",
    "        m = list(set(m) & set(list(map(int,question[pos][:]))))\n",
    "        \n",
    "    elif answer[pos][0] == 'NO':\n",
    "        \n",
    "        m = list(set(m) - set(list(map(int,question[pos][:]))))\n",
    "print(sorted(*m))"
   ]
  },
  {
   "cell_type": "code",
   "execution_count": 95,
   "id": "79b3a6a8",
   "metadata": {},
   "outputs": [
    {
     "name": "stdout",
     "output_type": "stream",
     "text": [
      "100\n",
      "3 5 8 10 11 13 14 15 16 20 21 23 25 27 29 31 32 33 35 42 43 46 47 48 51 52 57 58 67 68 72 74 75 76 79 80 81 82 83 84 86 89 90 91 92 93 94 95 96 99\n",
      "YES\n",
      "1 4 7 9 14 16 17 19 20 23 25 27 28 29 30 31 32 33 41 42 45 46 48 50 52 54 59 60 61 63 66 67 68 69 70 71 73 74 79 81 82 83 89 90 91 92 93 94 95 100\n",
      "YES\n",
      "3 5 6 15 16 18 19 20 21 22 23 24 26 28 29 35 37 38 39 40 41 43 44 45 46 47 53 55 56 60 61 63 64 65 68 70 71 73 76 79 80 81 82 83 86 90 91 95 96 99\n",
      "YES\n",
      "1 2 3 5 11 16 17 23 25 31 32 33 34 35 38 39 41 43 44 46 47 49 51 53 58 59 62 63 68 69 70 72 73 74 76 77 78 79 80 81 82 83 85 86 93 94 95 97 99 100\n",
      "YES\n",
      "3 7 8 9 10 14 17 20 22 23 24 25 26 27 28 30 34 40 42 43 45 47 48 49 50 51 52 53 54 55 59 62 63 66 67 72 73 75 77 81 83 84 86 89 92 93 94 96 98 100\n",
      "YES\n",
      "HELP\n",
      "23 81 83\n"
     ]
    }
   ],
   "source": [
    "def count(l):\n",
    "    return sum(1+count(i) for i in l if isinstance(i,list))\n",
    "n = int(input())\n",
    "m = [i for i in range(1,n+1)]\n",
    "question = []\n",
    "answer = []\n",
    "while True:\n",
    "    val = list(input().split())\n",
    "    \n",
    "    if val != ['HELP']:\n",
    "        question.append(val)\n",
    "        an = [input()]\n",
    "        answer.append(an)\n",
    "    else:\n",
    "        break\n",
    "    \n",
    "\n",
    "for pos in range(count(answer)):\n",
    "    if answer[pos][0] == 'YES':\n",
    "        \n",
    "        m = list(set(m) & set(list(map(int,question[pos][:]))))\n",
    "        \n",
    "    elif answer[pos][0] == 'NO':\n",
    "        \n",
    "        m = list(set(m) - set(list(map(int,question[pos][:]))))\n",
    "m = sorted(m)\n",
    "print(*m)"
   ]
  },
  {
   "cell_type": "code",
   "execution_count": 87,
   "id": "f4b37c95",
   "metadata": {},
   "outputs": [
    {
     "ename": "AttributeError",
     "evalue": "'str' object has no attribute 'json'",
     "output_type": "error",
     "traceback": [
      "\u001b[1;31m---------------------------------------------------------------------------\u001b[0m",
      "\u001b[1;31mAttributeError\u001b[0m                            Traceback (most recent call last)",
      "\u001b[1;32m<ipython-input-87-812bc169e9a7>\u001b[0m in \u001b[0;36m<module>\u001b[1;34m\u001b[0m\n\u001b[0;32m      1\u001b[0m \u001b[1;32mimport\u001b[0m \u001b[0mjson\u001b[0m\u001b[1;33m\u001b[0m\u001b[1;33m\u001b[0m\u001b[0m\n\u001b[1;32m----> 2\u001b[1;33m \u001b[0mprint\u001b[0m\u001b[1;33m(\u001b[0m\u001b[1;34m' '\u001b[0m\u001b[1;33m.\u001b[0m\u001b[0mjson\u001b[0m\u001b[1;33m(\u001b[0m\u001b[0msorted\u001b[0m\u001b[1;33m(\u001b[0m\u001b[0mm\u001b[0m\u001b[1;33m)\u001b[0m\u001b[1;33m)\u001b[0m\u001b[1;33m)\u001b[0m\u001b[1;33m\u001b[0m\u001b[1;33m\u001b[0m\u001b[0m\n\u001b[0m",
      "\u001b[1;31mAttributeError\u001b[0m: 'str' object has no attribute 'json'"
     ]
    }
   ],
   "source": [
    "import json\n",
    "print(' '.json(sorted(m)))"
   ]
  },
  {
   "cell_type": "code",
   "execution_count": 89,
   "id": "e0bb104d",
   "metadata": {},
   "outputs": [],
   "source": [
    "m = sorted(m)"
   ]
  },
  {
   "cell_type": "code",
   "execution_count": 92,
   "id": "d5a1af08",
   "metadata": {},
   "outputs": [
    {
     "name": "stdout",
     "output_type": "stream",
     "text": [
      "23 81 83\n"
     ]
    }
   ],
   "source": [
    "print(*m)"
   ]
  },
  {
   "cell_type": "code",
   "execution_count": 97,
   "id": "1b428de8",
   "metadata": {},
   "outputs": [
    {
     "name": "stdout",
     "output_type": "stream",
     "text": [
      "10\n",
      "1 2 3 4 5\n",
      "YES\n",
      "2 4 6 8 10\n",
      "NO\n",
      "HELP\n",
      "1 3 5\n"
     ]
    }
   ],
   "source": [
    "\n",
    "n = int(input())\n",
    "m = [i for i in range(1,n+1)]\n",
    "\n",
    "while True:\n",
    "    val = list(input().split())\n",
    "    \n",
    "    if val != ['HELP']:\n",
    "        answer = input()\n",
    "        if answer == 'YES':\n",
    "        \n",
    "            m = list(set(m) & set(list(map(int,val))))\n",
    "        \n",
    "        else:\n",
    "        \n",
    "            m = list(set(m) - set(list(map(int,val))))\n",
    "    else:\n",
    "        break\n",
    "print(*m)"
   ]
  },
  {
   "cell_type": "code",
   "execution_count": 98,
   "id": "46ac6e0e",
   "metadata": {},
   "outputs": [
    {
     "name": "stdout",
     "output_type": "stream",
     "text": [
      "100\n",
      "3 5 8 10 11 13 14 15 16 20 21 23 25 27 29 31 32 33 35 42 43 46 47 48 51 52 57 58 67 68 72 74 75 76 79 80 81 82 83 84 86 89 90 91 92 93 94 95 96 99\n",
      "YES\n",
      "1 4 7 9 14 16 17 19 20 23 25 27 28 29 30 31 32 33 41 42 45 46 48 50 52 54 59 60 61 63 66 67 68 69 70 71 73 74 79 81 82 83 89 90 91 92 93 94 95 100\n",
      "YES\n",
      "3 5 6 15 16 18 19 20 21 22 23 24 26 28 29 35 37 38 39 40 41 43 44 45 46 47 53 55 56 60 61 63 64 65 68 70 71 73 76 79 80 81 82 83 86 90 91 95 96 99\n",
      "YES\n",
      "1 2 3 5 11 16 17 23 25 31 32 33 34 35 38 39 41 43 44 46 47 49 51 53 58 59 62 63 68 69 70 72 73 74 76 77 78 79 80 81 82 83 85 86 93 94 95 97 99 100\n",
      "YES\n",
      "3 7 8 9 10 14 17 20 22 23 24 25 26 27 28 30 34 40 42 43 45 47 48 49 50 51 52 53 54 55 59 62 63 66 67 72 73 75 77 81 83 84 86 89 92 93 94 96 98 100\n",
      "YES\n",
      "HELP\n",
      "23 81 83\n"
     ]
    }
   ],
   "source": [
    "n = int(input())\n",
    "m = [i for i in range(1,n+1)]\n",
    "\n",
    "while True:\n",
    "    val = list(input().split())\n",
    "    \n",
    "    if val != ['HELP']:\n",
    "        answer = input()\n",
    "        if answer == 'YES':\n",
    "        \n",
    "            m = list(set(m) & set(list(map(int,val))))\n",
    "        \n",
    "        else:\n",
    "        \n",
    "            m = list(set(m) - set(list(map(int,val))))\n",
    "    else:\n",
    "        break\n",
    "m = sorted(m)\n",
    "print(*m)"
   ]
  },
  {
   "cell_type": "code",
   "execution_count": 103,
   "id": "b15efbb3",
   "metadata": {},
   "outputs": [
    {
     "name": "stdout",
     "output_type": "stream",
     "text": [
      "10\n",
      "10 3\n",
      "YES\n",
      "2 4\n",
      "NO\n",
      "3 4\n",
      "YES\n",
      "HELP\n",
      "3\n"
     ]
    }
   ],
   "source": [
    "n = int(input())\n",
    "m = set(range(1,n+1))\n",
    "\n",
    "while True:\n",
    "    val = list(input().split())\n",
    "    \n",
    "    if val != ['HELP']:\n",
    "        answer = input()\n",
    "        if answer == 'YES':\n",
    "        \n",
    "            m = set(m) & set(list(map(int,val)))\n",
    "        \n",
    "        else:\n",
    "        \n",
    "            m = set(m) - set(list(map(int,val)))\n",
    "    else:\n",
    "        break\n",
    "\n",
    "print(*m)"
   ]
  },
  {
   "cell_type": "code",
   "execution_count": 100,
   "id": "7eae9141",
   "metadata": {},
   "outputs": [
    {
     "name": "stdout",
     "output_type": "stream",
     "text": [
      "10\n"
     ]
    }
   ],
   "source": [
    "n = int(input())\n",
    "m = set(range(1,n+1))\n"
   ]
  },
  {
   "cell_type": "code",
   "execution_count": 102,
   "id": "18c8d635",
   "metadata": {},
   "outputs": [
    {
     "name": "stdout",
     "output_type": "stream",
     "text": [
      "1 2 3 4 5 6 7 8 9 10\n"
     ]
    }
   ],
   "source": [
    "print(*m)"
   ]
  },
  {
   "cell_type": "code",
   "execution_count": 134,
   "id": "2eabe6f5",
   "metadata": {},
   "outputs": [
    {
     "name": "stdout",
     "output_type": "stream",
     "text": [
      "10\n",
      "10 3\n",
      "['10', '3']\n",
      "YES\n",
      "10 3 4\n",
      "['10', '3', '4']\n",
      "YES\n",
      "HELP\n",
      "['HELP']\n",
      "3 10\n"
     ]
    }
   ],
   "source": [
    "n = int(input())\n",
    "m = set(range(1,n+1))\n",
    "\n",
    "while True:\n",
    "    val = input().split()\n",
    "    print(val)\n",
    "    if val != ['HELP']:\n",
    "        answer = input()\n",
    "        if answer == 'YES':\n",
    "        \n",
    "            m = sorted(set(m) & set(map(int,val)))\n",
    "    \n",
    "        else:\n",
    "        \n",
    "            m = sorted(set(m) - set(map(int,val)))\n",
    "    else:\n",
    "        break\n",
    "\n",
    "print(*m)"
   ]
  },
  {
   "cell_type": "code",
   "execution_count": 127,
   "id": "f61ada76",
   "metadata": {},
   "outputs": [
    {
     "name": "stdout",
     "output_type": "stream",
     "text": [
      "10\n"
     ]
    }
   ],
   "source": [
    "n = int(input())\n",
    "m = set(range(1,n+1))"
   ]
  },
  {
   "cell_type": "code",
   "execution_count": 128,
   "id": "d3525ba1",
   "metadata": {},
   "outputs": [
    {
     "name": "stdout",
     "output_type": "stream",
     "text": [
      "3 2 4\n"
     ]
    }
   ],
   "source": [
    "val = input().split()"
   ]
  },
  {
   "cell_type": "code",
   "execution_count": 129,
   "id": "db1165f1",
   "metadata": {},
   "outputs": [
    {
     "data": {
      "text/plain": [
       "{1, 2, 3, 4, 5, 6, 7, 8, 9, 10}"
      ]
     },
     "execution_count": 129,
     "metadata": {},
     "output_type": "execute_result"
    }
   ],
   "source": [
    "set(m)"
   ]
  },
  {
   "cell_type": "code",
   "execution_count": 131,
   "id": "48f53a22",
   "metadata": {},
   "outputs": [
    {
     "data": {
      "text/plain": [
       "{2, 3, 4}"
      ]
     },
     "execution_count": 131,
     "metadata": {},
     "output_type": "execute_result"
    }
   ],
   "source": [
    "set(map(int,val))"
   ]
  },
  {
   "cell_type": "code",
   "execution_count": 141,
   "id": "7a71ebe8",
   "metadata": {},
   "outputs": [
    {
     "name": "stdout",
     "output_type": "stream",
     "text": [
      "10\n",
      "10 3\n",
      "10 3\n",
      "YES\n",
      "10 3 4\n",
      "10 3 4\n",
      "YES\n",
      "HELP\n",
      "HELP\n",
      "3 10\n"
     ]
    }
   ],
   "source": [
    "n = int(input())\n",
    "m = set(range(1,n+1))\n",
    "\n",
    "while True:\n",
    "    val = input()\n",
    "    print(val)\n",
    "    if val != 'HELP':\n",
    "        val = set(map(int,val.split()))\n",
    "        answer = input()\n",
    "        if answer == 'YES':\n",
    "            m.intersection_update(val)\n",
    "    \n",
    "        else:\n",
    "        \n",
    "            m.difference_update(val)\n",
    "    else:\n",
    "        break\n",
    "        \n",
    "m = sorted(m)\n",
    "print(*m)"
   ]
  },
  {
   "cell_type": "markdown",
   "id": "4e5344e1",
   "metadata": {},
   "source": [
    "Задача 5\n",
    "Сначала задано число M <=100 - количество свидетелей. Далее идет M строк, каждая из которых описывает показания очередного свидетеля. Эти строки непустые и состоят из не более чем 20 символов. Каждый символ в строке - либо цифра, либо заглавная латинская буква, причём символы могут повторяться.\n",
    "Затем идёт число N<=1000 - количество номеров. Следующие строки представляют из себя номера подозреваемых машин и имеют такой же формат, как и показания свидетелей."
   ]
  },
  {
   "cell_type": "markdown",
   "id": "44753ee7",
   "metadata": {},
   "source": [
    "Vvod:\n",
    "\n",
    "3\n",
    "ABC\n",
    "A37\n",
    "BCDA\n",
    "2\n",
    "A317BD\n",
    "B137AC\n",
    "\n",
    "Vivod:\n",
    "\n",
    "B137AC"
   ]
  },
  {
   "cell_type": "code",
   "execution_count": 153,
   "id": "7fb1f3dd",
   "metadata": {},
   "outputs": [
    {
     "name": "stdout",
     "output_type": "stream",
     "text": [
      "1\n"
     ]
    }
   ],
   "source": [
    "M = int(input())"
   ]
  },
  {
   "cell_type": "code",
   "execution_count": 154,
   "id": "0efd50d7",
   "metadata": {},
   "outputs": [
    {
     "name": "stdout",
     "output_type": "stream",
     "text": [
      "AAAA\n",
      "{'A': 1}\n"
     ]
    }
   ],
   "source": [
    "i = 0\n",
    "m_mass = {}\n",
    "while i < M:\n",
    "    s = set(input())\n",
    "    for j in s:\n",
    "        if j not in m_mass:\n",
    "            m_mass[j] = 0\n",
    "        m_mass[j]+=1\n",
    "    i+=1\n",
    "print(m_mass)"
   ]
  },
  {
   "cell_type": "code",
   "execution_count": 155,
   "id": "54e87238",
   "metadata": {},
   "outputs": [
    {
     "name": "stdout",
     "output_type": "stream",
     "text": [
      "4\n"
     ]
    }
   ],
   "source": [
    "N = int(input())"
   ]
  },
  {
   "cell_type": "code",
   "execution_count": 156,
   "id": "678d2a58",
   "metadata": {},
   "outputs": [
    {
     "name": "stdout",
     "output_type": "stream",
     "text": [
      "maxi 1\n",
      "AAA\n",
      "num:  AAA\n",
      "mass:  {'A': 0}\n",
      "mass:  {'A': 1}\n",
      "n_mass {'AAA': 1}\n",
      "BA\n",
      "num:  BA\n",
      "mass:  {'B': 0, 'A': 0}\n",
      "mass:  {'B': 0, 'A': 1}\n",
      "n_mass {'AAA': 1, 'BA': 1}\n",
      "AAA\n",
      "num:  AAA\n",
      "mass:  {'A': 0}\n",
      "mass:  {'A': 1}\n",
      "n_mass {'AAA': 1, 'BA': 1}\n",
      "C\n",
      "num:  C\n",
      "mass:  {'C': 0}\n",
      "mass:  {'C': 0}\n",
      "n_mass {'AAA': 1, 'BA': 1, 'C': 0}\n",
      "AAA\n",
      "BA\n"
     ]
    }
   ],
   "source": [
    "i = 0\n",
    "n_mass ={}\n",
    "maxi = sum(m_mass.values())\n",
    "print('maxi',maxi)\n",
    "while i < N:\n",
    "    num = input()\n",
    "    print('num: ',num)\n",
    "    mass = (dict.fromkeys(num,0))\n",
    "    print('mass: ',mass)\n",
    "    for keys in mass.keys():\n",
    "          if keys in m_mass.keys():\n",
    "                mass[keys]=m_mass[keys]\n",
    "    print('mass: ',mass)\n",
    "    n_mass[num] = sum(mass.values())\n",
    "    print('n_mass',n_mass)\n",
    "    i+=1\n",
    "max_val = max(n_mass.values())\n",
    "for k, v in n_mass.items():\n",
    "    if v == max_val:\n",
    "        print(k)"
   ]
  },
  {
   "cell_type": "code",
   "execution_count": 182,
   "id": "74ca00c9",
   "metadata": {},
   "outputs": [
    {
     "name": "stdout",
     "output_type": "stream",
     "text": [
      "maxi 1\n",
      "C\n",
      "num:  C\n",
      "mass:  {'C': 0}\n",
      "mass:  {'C': 0}\n",
      "n_mass {0: ['C']}\n",
      "C\n",
      "num:  C\n",
      "mass:  {'C': 0}\n",
      "mass:  {'C': 0}\n",
      "n_mass {0: ['C', 'C']}\n",
      "D\n",
      "num:  D\n",
      "mass:  {'D': 0}\n",
      "mass:  {'D': 0}\n",
      "n_mass {0: ['C', 'C', 'D']}\n",
      "D\n",
      "num:  D\n",
      "mass:  {'D': 0}\n",
      "mass:  {'D': 0}\n",
      "n_mass {0: ['C', 'C', 'D', 'D']}\n",
      "C\n",
      "C\n",
      "D\n",
      "D\n"
     ]
    }
   ],
   "source": [
    "i = 0\n",
    "n_mass ={}\n",
    "maxi = sum(m_mass.values())\n",
    "print('maxi',maxi)\n",
    "while i < N:\n",
    "    num = input()\n",
    "    print('num: ',num)\n",
    "    mass = (dict.fromkeys(num,0))\n",
    "    print('mass: ',mass)\n",
    "    for keys in mass.keys():\n",
    "          if keys in m_mass.keys():\n",
    "                mass[keys]=m_mass[keys]\n",
    "    print('mass: ',mass)\n",
    "    n_mass.setdefault(sum(mass.values()), []).append(num)\n",
    "    \n",
    "    print('n_mass',n_mass)\n",
    "    #mass = (dict.fromkeys(range(maxi+1),0))\n",
    "    i+=1\n",
    "\n",
    "max_val = max(n_mass.keys())\n",
    "for k, v in n_mass.items():\n",
    "    if k == max_val and v != 0:\n",
    "        print('\\n'.join(v))\n",
    "        break\n",
    "    max_val -= 1\n",
    "    #if max_val == -1:\n",
    "    #    break"
   ]
  },
  {
   "cell_type": "code",
   "execution_count": 169,
   "id": "6d2ec3f3",
   "metadata": {},
   "outputs": [
    {
     "data": {
      "text/plain": [
       "1"
      ]
     },
     "execution_count": 169,
     "metadata": {},
     "output_type": "execute_result"
    }
   ],
   "source": [
    "max(n_mass.keys())[max(n_mass.keys())]"
   ]
  },
  {
   "cell_type": "code",
   "execution_count": 180,
   "id": "d1b178bc",
   "metadata": {},
   "outputs": [
    {
     "name": "stdout",
     "output_type": "stream",
     "text": [
      "AAA\n",
      "AAA\n",
      "AB\n"
     ]
    }
   ],
   "source": [
    "max_val = max(n_mass.keys())\n",
    "for k, v in n_mass.items():\n",
    "    if k == max_val and v != 0:\n",
    "        print('\\n'.join(v))\n",
    "        break\n",
    "    max_val -= 1\n",
    "    if max_val == -1:\n",
    "        break"
   ]
  },
  {
   "cell_type": "code",
   "execution_count": 142,
   "id": "1ccd025b",
   "metadata": {},
   "outputs": [],
   "source": [
    "max_val = max(n_mass.values())\n",
    "final_dict = [v for k, v in n_mass.items() if v == max_val]"
   ]
  },
  {
   "cell_type": "code",
   "execution_count": 145,
   "id": "df5ac9b9",
   "metadata": {},
   "outputs": [
    {
     "name": "stdout",
     "output_type": "stream",
     "text": [
      "['A317BC', 'B137AC']\n"
     ]
    }
   ],
   "source": [
    "print(final_dict)"
   ]
  },
  {
   "cell_type": "code",
   "execution_count": null,
   "id": "e388fd8c",
   "metadata": {},
   "outputs": [],
   "source": [
    "z = {**m_mass, **m_mass}"
   ]
  },
  {
   "cell_type": "code",
   "execution_count": 107,
   "id": "91433383",
   "metadata": {},
   "outputs": [
    {
     "name": "stdout",
     "output_type": "stream",
     "text": [
      "{'B137AC': 10}\n"
     ]
    }
   ],
   "source": [
    "print(c)"
   ]
  },
  {
   "cell_type": "code",
   "execution_count": 96,
   "id": "53ead351",
   "metadata": {},
   "outputs": [],
   "source": [
    "n_mass.update(m_mass)\n",
    "A317BD\n",
    "B137AC"
   ]
  },
  {
   "cell_type": "code",
   "execution_count": 40,
   "id": "5bb120cc",
   "metadata": {},
   "outputs": [
    {
     "data": {
      "text/plain": [
       "{'C': 0, 'A': 0, 'B': 0}"
      ]
     },
     "execution_count": 40,
     "metadata": {},
     "output_type": "execute_result"
    }
   ],
   "source": [
    "m_mass = (dict.fromkeys(s,0))\n",
    "m_mass"
   ]
  },
  {
   "cell_type": "code",
   "execution_count": 74,
   "id": "7a7cf4af",
   "metadata": {},
   "outputs": [],
   "source": [
    "for i in s:\n",
    "    if i not in m_mass:\n",
    "        m_mass[i] = 0\n",
    "    m_mass[i]+=1\n",
    "    \n",
    "        "
   ]
  },
  {
   "cell_type": "code",
   "execution_count": 75,
   "id": "10ce72f9",
   "metadata": {},
   "outputs": [
    {
     "data": {
      "text/plain": [
       "3"
      ]
     },
     "execution_count": 75,
     "metadata": {},
     "output_type": "execute_result"
    }
   ],
   "source": [
    "sum(m_mass.values())"
   ]
  },
  {
   "cell_type": "code",
   "execution_count": 48,
   "id": "79e1c6d5",
   "metadata": {},
   "outputs": [
    {
     "name": "stdout",
     "output_type": "stream",
     "text": [
      "A317BD\n"
     ]
    }
   ],
   "source": [
    "num = input()"
   ]
  },
  {
   "cell_type": "code",
   "execution_count": 49,
   "id": "afe09e28",
   "metadata": {},
   "outputs": [
    {
     "data": {
      "text/plain": [
       "'A317BD'"
      ]
     },
     "execution_count": 49,
     "metadata": {},
     "output_type": "execute_result"
    }
   ],
   "source": [
    "num"
   ]
  },
  {
   "cell_type": "code",
   "execution_count": 64,
   "id": "7cd4b24c",
   "metadata": {},
   "outputs": [
    {
     "data": {
      "text/plain": [
       "{'A317BD': {'1', '3', '7', 'A', 'B', 'D'}}"
      ]
     },
     "execution_count": 64,
     "metadata": {},
     "output_type": "execute_result"
    }
   ],
   "source": [
    "n_mass = (dict.fromkeys([num],set(num)))\n",
    "n_mass"
   ]
  },
  {
   "cell_type": "code",
   "execution_count": 60,
   "id": "bff75852",
   "metadata": {},
   "outputs": [
    {
     "ename": "AttributeError",
     "evalue": "'dict' object has no attribute 'intersection_update'",
     "output_type": "error",
     "traceback": [
      "\u001b[1;31m---------------------------------------------------------------------------\u001b[0m",
      "\u001b[1;31mAttributeError\u001b[0m                            Traceback (most recent call last)",
      "\u001b[1;32m<ipython-input-60-3388d9b0a6e5>\u001b[0m in \u001b[0;36m<module>\u001b[1;34m\u001b[0m\n\u001b[1;32m----> 1\u001b[1;33m \u001b[0mn_mass\u001b[0m\u001b[1;33m.\u001b[0m\u001b[0mintersection_update\u001b[0m\u001b[1;33m(\u001b[0m\u001b[1;33m(\u001b[0m\u001b[1;33m[\u001b[0m\u001b[1;34m'B137AC'\u001b[0m\u001b[1;33m]\u001b[0m\u001b[1;33m,\u001b[0m\u001b[0mset\u001b[0m\u001b[1;33m(\u001b[0m\u001b[1;34m'B137AC'\u001b[0m\u001b[1;33m)\u001b[0m\u001b[1;33m)\u001b[0m\u001b[1;33m)\u001b[0m\u001b[1;33m\u001b[0m\u001b[1;33m\u001b[0m\u001b[0m\n\u001b[0m",
      "\u001b[1;31mAttributeError\u001b[0m: 'dict' object has no attribute 'intersection_update'"
     ]
    }
   ],
   "source": []
  },
  {
   "cell_type": "code",
   "execution_count": 202,
   "id": "711ef340",
   "metadata": {},
   "outputs": [
    {
     "name": "stdout",
     "output_type": "stream",
     "text": [
      "3\n",
      "ABDEX\n",
      "XBACD\n",
      "BAXED\n",
      "m_mass:  {'B': 3, 'E': 2, 'D': 3, 'X': 3, 'A': 3, 'C': 1}\n",
      "2\n",
      "AAA\n",
      "num:  AAA\n",
      "mass:  {'A': 2, 'B': 2, 'C': 1, '1': 1}\n",
      "mass:  {'A': 3, 'B': 3, 'C': 1, '1': 1}\n",
      "n_mass {'AAA': 8}\n"
     ]
    },
    {
     "ename": "KeyboardInterrupt",
     "evalue": "Interrupted by user",
     "output_type": "error",
     "traceback": [
      "\u001b[1;31m---------------------------------------------------------------------------\u001b[0m",
      "\u001b[1;31mKeyboardInterrupt\u001b[0m                         Traceback (most recent call last)",
      "\u001b[1;32m<ipython-input-202-f29df8cde47b>\u001b[0m in \u001b[0;36m<module>\u001b[1;34m\u001b[0m\n\u001b[0;32m     15\u001b[0m \u001b[1;33m\u001b[0m\u001b[0m\n\u001b[0;32m     16\u001b[0m \u001b[1;32mwhile\u001b[0m \u001b[0mi\u001b[0m \u001b[1;33m<\u001b[0m \u001b[0mN\u001b[0m\u001b[1;33m:\u001b[0m\u001b[1;33m\u001b[0m\u001b[1;33m\u001b[0m\u001b[0m\n\u001b[1;32m---> 17\u001b[1;33m     \u001b[0mnum\u001b[0m \u001b[1;33m=\u001b[0m \u001b[0minput\u001b[0m\u001b[1;33m(\u001b[0m\u001b[1;33m)\u001b[0m\u001b[1;33m\u001b[0m\u001b[1;33m\u001b[0m\u001b[0m\n\u001b[0m\u001b[0;32m     18\u001b[0m     \u001b[0mprint\u001b[0m\u001b[1;33m(\u001b[0m\u001b[1;34m'num: '\u001b[0m\u001b[1;33m,\u001b[0m\u001b[0mnum\u001b[0m\u001b[1;33m)\u001b[0m\u001b[1;33m\u001b[0m\u001b[1;33m\u001b[0m\u001b[0m\n\u001b[0;32m     19\u001b[0m     \u001b[1;31m#mass = (dict.fromkeys(num,0))\u001b[0m\u001b[1;33m\u001b[0m\u001b[1;33m\u001b[0m\u001b[1;33m\u001b[0m\u001b[0m\n",
      "\u001b[1;32m~\\anaconda3\\lib\\site-packages\\ipykernel\\kernelbase.py\u001b[0m in \u001b[0;36mraw_input\u001b[1;34m(self, prompt)\u001b[0m\n\u001b[0;32m    858\u001b[0m                 \u001b[1;34m\"raw_input was called, but this frontend does not support input requests.\"\u001b[0m\u001b[1;33m\u001b[0m\u001b[1;33m\u001b[0m\u001b[0m\n\u001b[0;32m    859\u001b[0m             )\n\u001b[1;32m--> 860\u001b[1;33m         return self._input_request(str(prompt),\n\u001b[0m\u001b[0;32m    861\u001b[0m             \u001b[0mself\u001b[0m\u001b[1;33m.\u001b[0m\u001b[0m_parent_ident\u001b[0m\u001b[1;33m,\u001b[0m\u001b[1;33m\u001b[0m\u001b[1;33m\u001b[0m\u001b[0m\n\u001b[0;32m    862\u001b[0m             \u001b[0mself\u001b[0m\u001b[1;33m.\u001b[0m\u001b[0m_parent_header\u001b[0m\u001b[1;33m,\u001b[0m\u001b[1;33m\u001b[0m\u001b[1;33m\u001b[0m\u001b[0m\n",
      "\u001b[1;32m~\\anaconda3\\lib\\site-packages\\ipykernel\\kernelbase.py\u001b[0m in \u001b[0;36m_input_request\u001b[1;34m(self, prompt, ident, parent, password)\u001b[0m\n\u001b[0;32m    902\u001b[0m             \u001b[1;32mexcept\u001b[0m \u001b[0mKeyboardInterrupt\u001b[0m\u001b[1;33m:\u001b[0m\u001b[1;33m\u001b[0m\u001b[1;33m\u001b[0m\u001b[0m\n\u001b[0;32m    903\u001b[0m                 \u001b[1;31m# re-raise KeyboardInterrupt, to truncate traceback\u001b[0m\u001b[1;33m\u001b[0m\u001b[1;33m\u001b[0m\u001b[1;33m\u001b[0m\u001b[0m\n\u001b[1;32m--> 904\u001b[1;33m                 \u001b[1;32mraise\u001b[0m \u001b[0mKeyboardInterrupt\u001b[0m\u001b[1;33m(\u001b[0m\u001b[1;34m\"Interrupted by user\"\u001b[0m\u001b[1;33m)\u001b[0m \u001b[1;32mfrom\u001b[0m \u001b[1;32mNone\u001b[0m\u001b[1;33m\u001b[0m\u001b[1;33m\u001b[0m\u001b[0m\n\u001b[0m\u001b[0;32m    905\u001b[0m             \u001b[1;32mexcept\u001b[0m \u001b[0mException\u001b[0m \u001b[1;32mas\u001b[0m \u001b[0me\u001b[0m\u001b[1;33m:\u001b[0m\u001b[1;33m\u001b[0m\u001b[1;33m\u001b[0m\u001b[0m\n\u001b[0;32m    906\u001b[0m                 \u001b[0mself\u001b[0m\u001b[1;33m.\u001b[0m\u001b[0mlog\u001b[0m\u001b[1;33m.\u001b[0m\u001b[0mwarning\u001b[0m\u001b[1;33m(\u001b[0m\u001b[1;34m\"Invalid Message:\"\u001b[0m\u001b[1;33m,\u001b[0m \u001b[0mexc_info\u001b[0m\u001b[1;33m=\u001b[0m\u001b[1;32mTrue\u001b[0m\u001b[1;33m)\u001b[0m\u001b[1;33m\u001b[0m\u001b[1;33m\u001b[0m\u001b[0m\n",
      "\u001b[1;31mKeyboardInterrupt\u001b[0m: Interrupted by user"
     ]
    }
   ],
   "source": [
    "M = int(input())\n",
    "i = 0\n",
    "m_mass = {}\n",
    "while i < M:\n",
    "    s = set(input())\n",
    "    for j in s:\n",
    "        if j not in m_mass:\n",
    "            m_mass[j] = 0\n",
    "        m_mass[j]+=1\n",
    "    i+=1\n",
    "print('m_mass: ',m_mass)\n",
    "N = int(input())\n",
    "i = 0\n",
    "n_mass ={}\n",
    "\n",
    "while i < N:\n",
    "    num = input()\n",
    "    print('num: ',num)\n",
    "    #mass = (dict.fromkeys(num,0))\n",
    "    print('mass: ',mass)\n",
    "    for keys in mass.keys():\n",
    "          if keys in m_mass.keys():\n",
    "                mass[keys]=m_mass[keys]\n",
    "    print('mass: ',mass)\n",
    "    n_mass[num] = sum(mass.values())\n",
    "    print('n_mass',n_mass)\n",
    "    i+=1\n",
    "max_val = max(n_mass.values())\n",
    "for k, v in n_mass.items():\n",
    "    if v == max_val:\n",
    "        print(k)"
   ]
  },
  {
   "cell_type": "code",
   "execution_count": null,
   "id": "8f834437",
   "metadata": {},
   "outputs": [],
   "source": [
    "1\n",
    "AAAAAAAAAAAA\n",
    "13\n",
    "AAAAAAAAAAAAAB\n",
    "BASD234234\n",
    "ASDBSBF\n",
    "BBBBBDS\n",
    "SDASDSD\n",
    "AAAAAA\n",
    "BBBBBDS\n",
    "ASDBSBF\n",
    "AAAAAA\n",
    "BABA\n",
    "AB\n",
    "A\n",
    "AAAAAAAAAAAAAAAAAAAA\n",
    "\n",
    "\n",
    "2\n",
    "1ABC\n",
    "3A4B\n",
    "3\n",
    "A143BC\n",
    "C143AB\n",
    "AAABC1\n",
    "\n",
    "Vivod:\n",
    "A143BC\n",
    "C143AB\n",
    "\n",
    "Vvod:\n",
    "\n",
    "3\n",
    "ABC\n",
    "A37\n",
    "BCDA\n",
    "2\n",
    "A317BD\n",
    "B137AC\n",
    "\n",
    "Vivod:\n",
    "\n",
    "B137AC"
   ]
  },
  {
   "cell_type": "code",
   "execution_count": 205,
   "id": "f7e26c5f",
   "metadata": {},
   "outputs": [
    {
     "name": "stdout",
     "output_type": "stream",
     "text": [
      "3\n",
      "ABDEX\n",
      "XBACD\n",
      "BAXED\n",
      "m_mass:  {'B': 3, 'E': 2, 'D': 3, 'X': 3, 'A': 3, 'C': 1}\n",
      "2\n",
      "AAA\n",
      "num:  AAA\n",
      "mass:  {'A': 0}\n",
      "mass:  {'A': 3}\n",
      "n_mass {3: ['AAA']}\n",
      "ABCD\n",
      "num:  ABCD\n",
      "mass:  {'A': 0, 'B': 0, 'C': 0, 'D': 0}\n",
      "mass:  {'A': 3, 'B': 3, 'C': 1, 'D': 3}\n",
      "n_mass {3: ['AAA'], 10: ['ABCD']}\n",
      "ABCD\n"
     ]
    }
   ],
   "source": [
    "M = int(input())\n",
    "i = 0\n",
    "m_mass = {}\n",
    "while i < M:\n",
    "    s = set(input())\n",
    "    for j in s:\n",
    "        if j not in m_mass:\n",
    "            m_mass[j] = 0\n",
    "        m_mass[j]+=1\n",
    "    i+=1\n",
    "print('m_mass: ',m_mass)\n",
    "N = int(input())\n",
    "i = 0\n",
    "n_mass ={}\n",
    "\n",
    "\n",
    "while i < N:\n",
    "    num = input()\n",
    "    print('num: ',num)\n",
    "    mass = (dict.fromkeys(num,0))\n",
    "    print('mass: ',mass)\n",
    "    for keys in mass.keys():\n",
    "          if keys in m_mass.keys():\n",
    "                mass[keys]=m_mass[keys]\n",
    "    print('mass: ',mass)\n",
    "    n_mass.setdefault(sum(mass.values()), []).append(num)\n",
    "    \n",
    "    print('n_mass',n_mass)\n",
    "    #mass = (dict.fromkeys(range(maxi+1),0))\n",
    "    i+=1\n",
    "\n",
    "print('\\n'.join(n_mass[max(n_mass.keys())]))\n"
   ]
  },
  {
   "cell_type": "code",
   "execution_count": 194,
   "id": "1d0437ab",
   "metadata": {},
   "outputs": [
    {
     "data": {
      "text/plain": [
       "[8, 9]"
      ]
     },
     "execution_count": 194,
     "metadata": {},
     "output_type": "execute_result"
    }
   ],
   "source": [
    "sorted(n_mass)"
   ]
  },
  {
   "cell_type": "code",
   "execution_count": null,
   "id": "374a918c",
   "metadata": {},
   "outputs": [],
   "source": [
    "1\n",
    "AAAAAAAAAAAA\n",
    "13\n",
    "AAAAAAAAAAAAAB\n",
    "BASD234234\n",
    "ASDBSBF\n",
    "BBBBBDS\n",
    "SDASDSD\n",
    "AAAAAA\n",
    "BBBBBDS\n",
    "ASDBSBF\n",
    "AAAAAA\n",
    "BABA\n",
    "AB\n",
    "A\n",
    "AAAAAAAAAAAAAAAAAAAA\n",
    "\n",
    "\n",
    "2\n",
    "1ABC\n",
    "3A4B\n",
    "3\n",
    "A143BC\n",
    "C143AB\n",
    "AAABC1\n",
    "\n",
    "Vivod:\n",
    "A143BC\n",
    "C143AB\n",
    "\n",
    "Vvod:\n",
    "\n",
    "3\n",
    "ABC\n",
    "A37\n",
    "BCDA\n",
    "2\n",
    "A317BD\n",
    "B137AC\n",
    "\n",
    "Vivod:\n",
    "\n",
    "B137AC"
   ]
  },
  {
   "cell_type": "code",
   "execution_count": 186,
   "id": "ed0244f8",
   "metadata": {},
   "outputs": [
    {
     "name": "stdout",
     "output_type": "stream",
     "text": [
      "1\n",
      "AA\n",
      "4\n",
      "AAA\n",
      "A\n",
      "C\n",
      "AB\n",
      "AAA\n",
      "A\n",
      "AB\n"
     ]
    }
   ],
   "source": [
    "M = int(input())\n",
    "i = 0\n",
    "m_mass = {}\n",
    "while i < M:\n",
    "    s = set(input())\n",
    "    for j in s:\n",
    "        if j not in m_mass:\n",
    "            m_mass[j] = 0\n",
    "        m_mass[j]+=1\n",
    "    i+=1\n",
    "\n",
    "N = int(input())\n",
    "i = 0\n",
    "n_mass ={}\n",
    "maxi = sum(m_mass.values())\n",
    "\n",
    "while i < N:\n",
    "    num = input()\n",
    "    \n",
    "    mass = (dict.fromkeys(num,0))\n",
    "    \n",
    "    for keys in mass.keys():\n",
    "          if keys in m_mass.keys():\n",
    "                mass[keys]=m_mass[keys]\n",
    "    \n",
    "    n_mass.setdefault(sum(mass.values()), []).append(num)\n",
    "    i+=1\n",
    "\n",
    "max_val = max(n_mass.keys())\n",
    "for k, v in n_mass.items():\n",
    "    if k == max_val and v != 0:\n",
    "        print('\\n'.join(v))\n",
    "        break\n",
    "    max_val -= 1"
   ]
  },
  {
   "cell_type": "code",
   "execution_count": 201,
   "id": "8b3f5b24",
   "metadata": {},
   "outputs": [
    {
     "name": "stdout",
     "output_type": "stream",
     "text": [
      "2\n",
      "1ABC\n",
      "3A4B\n",
      "3\n",
      "A143BC\n",
      "C143AB\n",
      "AAABC1\n",
      "A143BC\n",
      "C143AB\n"
     ]
    }
   ],
   "source": [
    "M = int(input())\n",
    "i = 0\n",
    "m_mass = {}\n",
    "while i < M:\n",
    "    s = set(input())\n",
    "    for j in s:\n",
    "        if j not in m_mass:\n",
    "            m_mass[j] = 0\n",
    "        m_mass[j]+=1\n",
    "    i+=1\n",
    "\n",
    "N = int(input())\n",
    "i = 0\n",
    "n_mass ={}\n",
    "maxi = sum(m_mass.values())\n",
    "\n",
    "while i < N:\n",
    "    num = input()\n",
    "\n",
    "    mass = (dict.fromkeys(num,0))\n",
    "\n",
    "    for keys in mass.keys():\n",
    "          if keys in m_mass.keys():\n",
    "                mass[keys]=m_mass[keys]\n",
    " \n",
    "    n_mass.setdefault(sum(mass.values()), []).append(num)\n",
    "    \n",
    "\n",
    "    i+=1\n",
    "\n",
    "\n",
    "\n",
    "for k, v in n_mass.items():\n",
    "\n",
    "    if maxi == k and v != 0:\n",
    "      \n",
    "        print('\\n'.join(v))\n",
    "        break\n",
    "    maxi -= 1"
   ]
  },
  {
   "cell_type": "code",
   "execution_count": 206,
   "id": "93ad9dc9",
   "metadata": {},
   "outputs": [
    {
     "name": "stdout",
     "output_type": "stream",
     "text": [
      "2\n",
      "1ABC\n",
      "3A4B\n",
      "3\n",
      "A143BC\n",
      "C143AB\n",
      "AAABC1\n",
      "A143BC\n",
      "C143AB\n"
     ]
    }
   ],
   "source": [
    "M = int(input())\n",
    "i = 0\n",
    "m_mass = {}\n",
    "n_mass ={}\n",
    "\n",
    "while i < M:\n",
    "    s = set(input())\n",
    "    \n",
    "    for j in s:\n",
    "        if j not in m_mass:\n",
    "            m_mass[j] = 0\n",
    "        m_mass[j]+=1\n",
    "    i+=1\n",
    "\n",
    "N = int(input())\n",
    "i = 0\n",
    "\n",
    "while i < N:\n",
    "    num = input()\n",
    "    mass = (dict.fromkeys(num,0))\n",
    "\n",
    "    for keys in mass.keys():\n",
    "          if keys in m_mass.keys():\n",
    "                mass[keys]=m_mass[keys]\n",
    "    \n",
    "    n_mass.setdefault(sum(mass.values()), []).append(num)\n",
    "\n",
    "    i+=1\n",
    "\n",
    "print('\\n'.join(n_mass[max(n_mass.keys())]))\n"
   ]
  },
  {
   "cell_type": "code",
   "execution_count": null,
   "id": "8d297a2f",
   "metadata": {},
   "outputs": [],
   "source": [
    "2\n",
    "1ABC\n",
    "3A4B\n",
    "3\n",
    "A143BC\n",
    "C143AB\n",
    "AAABC1\n",
    "\n",
    "Vivod:\n",
    "A143BC\n",
    "C143AB"
   ]
  },
  {
   "cell_type": "code",
   "execution_count": null,
   "id": "84f455ed",
   "metadata": {},
   "outputs": [],
   "source": [
    "M = int(input())\n",
    "i = 0\n",
    "\n",
    "\n",
    "while i < M:\n",
    "    s = set(input())\n",
    "    \n",
    "    i+=1\n",
    "\n",
    "N = int(input())\n",
    "i = 0\n",
    "\n",
    "\n",
    "while i < N:\n",
    "    num = input()\n",
    "\n",
    "    i+=1\n",
    "\n",
    "#print('\\n'.join(n_mass[max(n_mass.keys())]))\n"
   ]
  },
  {
   "cell_type": "code",
   "execution_count": 208,
   "id": "2d31c5e6",
   "metadata": {},
   "outputs": [
    {
     "data": {
      "text/plain": [
       "2"
      ]
     },
     "execution_count": 208,
     "metadata": {},
     "output_type": "execute_result"
    }
   ],
   "source": [
    "maxi = max(m_mass.values())\n",
    "maxi"
   ]
  },
  {
   "cell_type": "code",
   "execution_count": 214,
   "id": "f7fc21af",
   "metadata": {},
   "outputs": [
    {
     "ename": "TypeError",
     "evalue": "unhashable type: 'set'",
     "output_type": "error",
     "traceback": [
      "\u001b[1;31m---------------------------------------------------------------------------\u001b[0m",
      "\u001b[1;31mTypeError\u001b[0m                                 Traceback (most recent call last)",
      "\u001b[1;32m<ipython-input-214-057407d327d3>\u001b[0m in \u001b[0;36m<module>\u001b[1;34m\u001b[0m\n\u001b[0;32m      1\u001b[0m \u001b[0ma\u001b[0m \u001b[1;33m=\u001b[0m \u001b[0mset\u001b[0m\u001b[1;33m(\u001b[0m\u001b[1;34m'ABC'\u001b[0m\u001b[1;33m)\u001b[0m\u001b[1;33m\u001b[0m\u001b[1;33m\u001b[0m\u001b[0m\n\u001b[0;32m      2\u001b[0m \u001b[0mc\u001b[0m \u001b[1;33m=\u001b[0m \u001b[0mset\u001b[0m\u001b[1;33m(\u001b[0m\u001b[1;34m'DC'\u001b[0m\u001b[1;33m)\u001b[0m\u001b[1;33m\u001b[0m\u001b[1;33m\u001b[0m\u001b[0m\n\u001b[1;32m----> 3\u001b[1;33m \u001b[0mmass\u001b[0m \u001b[1;33m=\u001b[0m \u001b[0ma\u001b[0m\u001b[1;33m.\u001b[0m\u001b[0madd\u001b[0m\u001b[1;33m(\u001b[0m\u001b[0mc\u001b[0m\u001b[1;33m)\u001b[0m\u001b[1;33m\u001b[0m\u001b[1;33m\u001b[0m\u001b[0m\n\u001b[0m\u001b[0;32m      4\u001b[0m \u001b[0mprint\u001b[0m\u001b[1;33m(\u001b[0m\u001b[0ma\u001b[0m\u001b[1;33m)\u001b[0m\u001b[1;33m\u001b[0m\u001b[1;33m\u001b[0m\u001b[0m\n\u001b[0;32m      5\u001b[0m \u001b[0mb\u001b[0m \u001b[1;33m=\u001b[0m \u001b[0mset\u001b[0m\u001b[1;33m(\u001b[0m\u001b[1;34m'ABDC'\u001b[0m\u001b[1;33m)\u001b[0m\u001b[1;33m\u001b[0m\u001b[1;33m\u001b[0m\u001b[0m\n",
      "\u001b[1;31mTypeError\u001b[0m: unhashable type: 'set'"
     ]
    }
   ],
   "source": [
    "a = set('ABC')\n",
    "c = set('DC')\n",
    "mass = a.add(c)\n",
    "print(a)\n",
    "b = set('ABDC')\n",
    "print(len(b&a))"
   ]
  },
  {
   "cell_type": "code",
   "execution_count": 215,
   "id": "4fc398d9",
   "metadata": {},
   "outputs": [
    {
     "name": "stdout",
     "output_type": "stream",
     "text": [
      "3\n"
     ]
    }
   ],
   "source": [
    "M = int(input())"
   ]
  },
  {
   "cell_type": "code",
   "execution_count": 231,
   "id": "87ae058c",
   "metadata": {},
   "outputs": [
    {
     "name": "stdout",
     "output_type": "stream",
     "text": [
      "ABDEX\n",
      "XBACD\n",
      "BAXED\n"
     ]
    }
   ],
   "source": [
    "m_mass = {}\n",
    "i = 0\n",
    "while i < M:\n",
    "    m_mass[i] = set(input())\n",
    "    i+=1"
   ]
  },
  {
   "cell_type": "code",
   "execution_count": 232,
   "id": "659ea5f8",
   "metadata": {},
   "outputs": [
    {
     "data": {
      "text/plain": [
       "{0: {'A', 'B', 'D', 'E', 'X'},\n",
       " 1: {'A', 'B', 'C', 'D', 'X'},\n",
       " 2: {'A', 'B', 'D', 'E', 'X'}}"
      ]
     },
     "execution_count": 232,
     "metadata": {},
     "output_type": "execute_result"
    }
   ],
   "source": [
    "m_mass"
   ]
  },
  {
   "cell_type": "code",
   "execution_count": 233,
   "id": "101fdd0d",
   "metadata": {},
   "outputs": [
    {
     "name": "stdout",
     "output_type": "stream",
     "text": [
      "2\n"
     ]
    }
   ],
   "source": [
    "N = int(input())\n",
    "i = 0\n",
    "n_mass ={}"
   ]
  },
  {
   "cell_type": "code",
   "execution_count": 225,
   "id": "25db53b3",
   "metadata": {},
   "outputs": [
    {
     "data": {
      "text/plain": [
       "3"
      ]
     },
     "execution_count": 225,
     "metadata": {},
     "output_type": "execute_result"
    }
   ],
   "source": [
    "len(m_mass[0])"
   ]
  },
  {
   "cell_type": "code",
   "execution_count": 234,
   "id": "86ebf990",
   "metadata": {},
   "outputs": [
    {
     "name": "stdout",
     "output_type": "stream",
     "text": [
      "AAA\n",
      "ABCD\n"
     ]
    }
   ],
   "source": [
    "n_mass ={}\n",
    "i = 0\n",
    "while i < N:\n",
    "    num = input()\n",
    "    count = 0\n",
    "    for j in m_mass:\n",
    "        if len(m_mass[j].intersection(set(num))) == len(m_mass[j]):\n",
    "            count += 1\n",
    "            print(count)\n",
    "    n_mass.setdefault(count,[]).append(num)\n",
    "    i+=1"
   ]
  },
  {
   "cell_type": "code",
   "execution_count": 235,
   "id": "0337a841",
   "metadata": {},
   "outputs": [
    {
     "data": {
      "text/plain": [
       "{0: ['AAA', 'ABCD']}"
      ]
     },
     "execution_count": 235,
     "metadata": {},
     "output_type": "execute_result"
    }
   ],
   "source": [
    "n_mass"
   ]
  },
  {
   "cell_type": "code",
   "execution_count": 236,
   "id": "1ec624c1",
   "metadata": {},
   "outputs": [
    {
     "name": "stdout",
     "output_type": "stream",
     "text": [
      "AAA\n",
      "ABCD\n"
     ]
    }
   ],
   "source": [
    "print('\\n'.join(n_mass[max(n_mass.keys())]))"
   ]
  },
  {
   "cell_type": "code",
   "execution_count": 240,
   "id": "6a9b68e7",
   "metadata": {},
   "outputs": [
    {
     "name": "stdout",
     "output_type": "stream",
     "text": [
      "1\n",
      "AAAAAAAAAAAA\n",
      "13\n",
      "AAAAAAAAAAAAAB\n",
      "1\n",
      "BASD234234\n",
      "1\n",
      "ASDBSBF\n",
      "1\n",
      "BBBBBDS\n",
      "SDASDSD\n",
      "1\n",
      "AAAAAA\n",
      "1\n",
      "BBBBBDS\n",
      "ASDBSBF\n",
      "1\n",
      "AAAAAA\n",
      "1\n",
      "BABA\n",
      "1\n",
      "AB\n",
      "1\n",
      "A\n",
      "1\n",
      "AAAAAAAAAAAAAAAAAAAA\n",
      "1\n",
      "AAAAAAAAAAAAAB\n",
      "BASD234234\n",
      "ASDBSBF\n",
      "SDASDSD\n",
      "AAAAAA\n",
      "ASDBSBF\n",
      "AAAAAA\n",
      "BABA\n",
      "AB\n",
      "A\n",
      "AAAAAAAAAAAAAAAAAAAA\n"
     ]
    }
   ],
   "source": [
    "M = int(input())\n",
    "m_mass = {}\n",
    "i = 0\n",
    "while i < M:\n",
    "    m_mass[i] = set(input())\n",
    "    i+=1\n",
    "\n",
    "N = int(input())\n",
    "n_mass ={}\n",
    "i = 0\n",
    "while i < N:\n",
    "    num = input()\n",
    "    count = 0\n",
    "    for j in m_mass:\n",
    "        if len(m_mass[j].intersection(set(num))) == len(m_mass[j]):\n",
    "            count += 1\n",
    "            \n",
    "    n_mass.setdefault(count,[]).append(num)\n",
    "    i+=1\n",
    "print('\\n'.join(n_mass[max(n_mass.keys())]))"
   ]
  },
  {
   "cell_type": "code",
   "execution_count": null,
   "id": "c01fb790",
   "metadata": {},
   "outputs": [],
   "source": []
  }
 ],
 "metadata": {
  "kernelspec": {
   "display_name": "Python 3",
   "language": "python",
   "name": "python3"
  },
  "language_info": {
   "codemirror_mode": {
    "name": "ipython",
    "version": 3
   },
   "file_extension": ".py",
   "mimetype": "text/x-python",
   "name": "python",
   "nbconvert_exporter": "python",
   "pygments_lexer": "ipython3",
   "version": "3.8.8"
  }
 },
 "nbformat": 4,
 "nbformat_minor": 5
}
