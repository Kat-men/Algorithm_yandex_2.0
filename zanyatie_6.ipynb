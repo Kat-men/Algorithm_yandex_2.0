{
 "cells": [
  {
   "cell_type": "markdown",
   "id": "5afc2477",
   "metadata": {},
   "source": [
    "задача A. Быстрый поиск в массиве\n",
    "\n",
    "Дан массив из \n",
    "N целых чисел. Все числа от −109 до 109.\n",
    "Нужно уметь отвечать на запросы вида “Cколько чисел имеют значения от L доR?”.\n",
    "\n",
    "Формат ввода\n",
    "Число N (1≤N≤105). Далее N целых чисел.\n",
    "Затем число запросов K (1≤K≤105).Далее K пар чисел L,R (−109≤L≤R≤109) — собственно запросы.\n",
    "\n",
    "Формат вывода\n",
    "Выведите K чисел — ответы на запросы."
   ]
  },
  {
   "cell_type": "code",
   "execution_count": 86,
   "id": "be0bc306",
   "metadata": {},
   "outputs": [
    {
     "name": "stdout",
     "output_type": "stream",
     "text": [
      "5\n",
      "10 1 10 3 4\n",
      "4\n"
     ]
    }
   ],
   "source": [
    "N = int(input())\n",
    "seq = list(map(int, input().split()[:N]))\n",
    "seq = sorted(x)\n",
    "K = int(input())\n",
    "q = [0] *K\n",
    "\n"
   ]
  },
  {
   "cell_type": "code",
   "execution_count": null,
   "id": "cf88c4bb",
   "metadata": {},
   "outputs": [],
   "source": []
  },
  {
   "cell_type": "code",
   "execution_count": 32,
   "id": "ebed54f9",
   "metadata": {},
   "outputs": [
    {
     "name": "stdout",
     "output_type": "stream",
     "text": [
      "0 4\n"
     ]
    }
   ],
   "source": [
    "L, R = map(int, input().split()) \n",
    "\n",
    "l_r = len([i for i in range(L,R+1)]"
   ]
  },
  {
   "cell_type": "code",
   "execution_count": 33,
   "id": "3f3c664e",
   "metadata": {},
   "outputs": [
    {
     "name": "stdout",
     "output_type": "stream",
     "text": [
      "[0, 1, 2, 3, 4]\n",
      "[1, 3, 4, 10, 10]\n"
     ]
    }
   ],
   "source": [
    "print(l_r)\n",
    "print(seq)"
   ]
  },
  {
   "cell_type": "code",
   "execution_count": 35,
   "id": "1e001892",
   "metadata": {},
   "outputs": [
    {
     "data": {
      "text/plain": [
       "5"
      ]
     },
     "execution_count": 35,
     "metadata": {},
     "output_type": "execute_result"
    }
   ],
   "source": [
    "len(range(0,5))"
   ]
  },
  {
   "cell_type": "code",
   "execution_count": 159,
   "id": "0a89d7bb",
   "metadata": {},
   "outputs": [],
   "source": [
    "def checking_l(idx, params):\n",
    "    seq, l = params\n",
    "    return seq[idx] >= l"
   ]
  },
  {
   "cell_type": "code",
   "execution_count": 160,
   "id": "491b0968",
   "metadata": {},
   "outputs": [],
   "source": [
    "def checking_r(idx, params):\n",
    "    seq, r = params\n",
    "    return seq[idx] <= r"
   ]
  },
  {
   "cell_type": "code",
   "execution_count": 161,
   "id": "b055a7e1",
   "metadata": {},
   "outputs": [],
   "source": [
    "def lbin_search(l,r,check,checkparams):\n",
    "    while l < r:\n",
    "        m = (l + r) // 2;\n",
    "        \n",
    "        if check(m, checkparams):\n",
    "            r = m\n",
    "            \n",
    "        else:\n",
    "            l = m + 1\n",
    "            \n",
    "    return l"
   ]
  },
  {
   "cell_type": "code",
   "execution_count": 162,
   "id": "ffe42196",
   "metadata": {},
   "outputs": [],
   "source": [
    "def rbin_search(l,r,check,checkparams):\n",
    "    while l < r:\n",
    "        m = (l + r + 1) // 2;\n",
    "        if check(m, checkparams):\n",
    "            l = m\n",
    "        else:\n",
    "            r = m - 1\n",
    "    return l"
   ]
  },
  {
   "cell_type": "code",
   "execution_count": 163,
   "id": "bb9c645d",
   "metadata": {},
   "outputs": [
    {
     "data": {
      "text/plain": [
       "2"
      ]
     },
     "execution_count": 163,
     "metadata": {},
     "output_type": "execute_result"
    }
   ],
   "source": [
    "rbin_search(0 , N - 1, checking_r, (seq, R))"
   ]
  },
  {
   "cell_type": "code",
   "execution_count": 164,
   "id": "b5876b1f",
   "metadata": {},
   "outputs": [
    {
     "data": {
      "text/plain": [
       "1"
      ]
     },
     "execution_count": 164,
     "metadata": {},
     "output_type": "execute_result"
    }
   ],
   "source": [
    "lbin_search(0 , N - 1, checking_l, (seq, L))"
   ]
  },
  {
   "cell_type": "code",
   "execution_count": 171,
   "id": "0cf39efd",
   "metadata": {},
   "outputs": [
    {
     "name": "stdout",
     "output_type": "stream",
     "text": [
      "0\n"
     ]
    }
   ],
   "source": [
    "print(rbin_search(0 , N - 1, checking_r, (seq, R)) - lbin_search(0 , N - 1, checking_l, (seq, L)) + 1)"
   ]
  },
  {
   "cell_type": "code",
   "execution_count": 177,
   "id": "41a16545",
   "metadata": {},
   "outputs": [
    {
     "name": "stdout",
     "output_type": "stream",
     "text": [
      "5\n",
      "10 1 10 3 4\n",
      "4 \n",
      "0\n",
      "1 10\n",
      "1\n",
      "2 9\n",
      "2\n",
      "3 4\n",
      "3\n",
      "2 2\n"
     ]
    }
   ],
   "source": [
    "N = int(input())\n",
    "seq = list(map(int, input().split()[:N]))\n",
    "seq = sorted(x)\n",
    "K = int(input())\n",
    "q = [0] * K\n",
    "\n",
    "def lbin_search(l,r,check,checkparams):\n",
    "    while l < r:\n",
    "        m = (l + r) // 2;\n",
    "        \n",
    "        if check(m, checkparams):\n",
    "            r = m\n",
    "            \n",
    "        else:\n",
    "            l = m + 1\n",
    "            \n",
    "    return l\n",
    "    \n",
    "def rbin_search(l,r,check,checkparams):\n",
    "    while l < r:\n",
    "        m = (l + r + 1) // 2;\n",
    "        if check(m, checkparams):\n",
    "            l = m\n",
    "        else:\n",
    "            r = m - 1\n",
    "    return l\n",
    "    \n",
    "def checking_r(idx, params):\n",
    "    seq, r = params\n",
    "    return seq[idx] <= r\n",
    "\n",
    "def checking_l(idx, params):\n",
    "    seq, l = params\n",
    "    return seq[idx] >= l\n",
    "    \n",
    "for i in range(K):\n",
    "    \n",
    "    L, R = map(int, input().split()) \n",
    "    q[i] = (rbin_search(0 , N - 1, checking_r, (seq, R)) - lbin_search(0 , N - 1, checking_l, (seq, L)) + 1)\n",
    "print(*q)"
   ]
  },
  {
   "cell_type": "code",
   "execution_count": 174,
   "id": "4f846536",
   "metadata": {},
   "outputs": [
    {
     "name": "stdout",
     "output_type": "stream",
     "text": [
      "0\n",
      "1\n",
      "2\n",
      "3\n"
     ]
    }
   ],
   "source": [
    "for i in range(K):\n",
    "    print(i)"
   ]
  },
  {
   "cell_type": "code",
   "execution_count": 60,
   "id": "33a014d8",
   "metadata": {},
   "outputs": [
    {
     "name": "stdout",
     "output_type": "stream",
     "text": [
      "1\n",
      "1\n",
      "3\n"
     ]
    }
   ],
   "source": [
    "N = int(input())\n",
    "seq = sorted(list(map(int, input().split()[:N])))\n",
    "\n",
    "K = int(input())\n",
    "q = [0] * K\n"
   ]
  },
  {
   "cell_type": "code",
   "execution_count": 61,
   "id": "93adc519",
   "metadata": {},
   "outputs": [],
   "source": [
    "import bisect"
   ]
  },
  {
   "cell_type": "code",
   "execution_count": 62,
   "id": "58e98a83",
   "metadata": {},
   "outputs": [
    {
     "name": "stdout",
     "output_type": "stream",
     "text": [
      "1 1\n",
      "100 100\n",
      "-100 -100\n",
      "1 0 0\n"
     ]
    }
   ],
   "source": [
    "\n",
    "for i in range(K):\n",
    "    \n",
    "    L, R = map(int, input().split()) \n",
    "    q[i] = (bisect.bisect_right(seq, R, lo=0, hi=len(seq))  - bisect.bisect_left(seq, L, lo=0, hi=len(seq)) )  \n",
    "print(*q)"
   ]
  },
  {
   "cell_type": "code",
   "execution_count": null,
   "id": "7cecb9dc",
   "metadata": {},
   "outputs": [],
   "source": [
    "## def lbin_search(l,r,seq,x):\n",
    "    while l < r:\n",
    "        m = (l + r) // 2;\n",
    "        \n",
    "        if seq[m] >= x:\n",
    "            r = m\n",
    "            \n",
    "        else:\n",
    "            l = m + 1\n",
    "            \n",
    "    return l\n",
    "    \n",
    "def rbin_search(l,r,seq,x):\n",
    "    while l < r:\n",
    "        m = (l + r + 1) // 2;\n",
    "        if seq[m] <= x:\n",
    "            l = m\n",
    "        else:\n",
    "            r = m - 1\n",
    "    return l"
   ]
  },
  {
   "cell_type": "code",
   "execution_count": 56,
   "id": "67db5ae8",
   "metadata": {},
   "outputs": [
    {
     "data": {
      "text/plain": [
       "1"
      ]
     },
     "execution_count": 56,
     "metadata": {},
     "output_type": "execute_result"
    }
   ],
   "source": [
    "bisect.bisect_left(seq, L, lo=0, hi=len(seq)) "
   ]
  },
  {
   "cell_type": "markdown",
   "id": "755424f9",
   "metadata": {},
   "source": [
    "Задача 2 B. Номер левого и правого вхождения\n",
    "\n",
    "Требуется определить в заданном массиве номер самого левого и самого правого элемента, равного искомому числу.\n",
    "\n",
    "Формат ввода\n",
    "В первой строке вводится одно натуральное число N, не превосходящее 105: количество чисел в массиве. Во второй строке вводятся N натуральных чисел, не превосходящих 109, каждое следующее не меньше предыдущего. В третьей строке вводится количество искомых чисел M – натуральное число, не превосходящее 106. В четвертой строке вводится M натуральных чисел, не превосходящих 109.\n",
    "\n",
    "Формат вывода\n",
    "Для каждого запроса выведите в отдельной строке через пробел два числа: номер элемента самого левого и самого правого элементов массива, равных числу-запросу. Элементы массива нумеруются с единицы.Если в массиве нет такого числа, выведите в соответствующей строке два нуля, разделенных пробелом."
   ]
  },
  {
   "cell_type": "code",
   "execution_count": 66,
   "id": "f2e90509",
   "metadata": {},
   "outputs": [
    {
     "data": {
      "text/plain": [
       "1"
      ]
     },
     "execution_count": 66,
     "metadata": {},
     "output_type": "execute_result"
    }
   ],
   "source": [
    "bisect.bisect_left(seq, poisk[2], lo=0, hi=len(seq)) "
   ]
  },
  {
   "cell_type": "code",
   "execution_count": 98,
   "id": "1bded8dd",
   "metadata": {},
   "outputs": [
    {
     "name": "stdout",
     "output_type": "stream",
     "text": [
      "10\n",
      "1 2 3 4 5 6 7 7 8 9\n",
      "10\n",
      "7 3 3 1 3 7 9 7 7 10\n"
     ]
    }
   ],
   "source": [
    "N = int(input())\n",
    "seq = sorted(list(map(int, input().split()[:N])))\n",
    "M = int(input())\n",
    "poisk = list(map(int, input().split()[:M]))"
   ]
  },
  {
   "cell_type": "code",
   "execution_count": 99,
   "id": "6685dac6",
   "metadata": {},
   "outputs": [
    {
     "name": "stdout",
     "output_type": "stream",
     "text": [
      "7 8\n",
      "3 3\n",
      "3 3\n",
      "1 1\n",
      "3 3\n",
      "7 8\n",
      "10 10\n",
      "7 8\n",
      "7 8\n",
      "0 0\n"
     ]
    }
   ],
   "source": [
    "for x in poisk:\n",
    "    left = -1\n",
    "    right = len(seq)\n",
    "    #левый бинпоиск\n",
    "    while right - left > 1:\n",
    "        m = (right + left) // 2\n",
    "        if seq[m] < x:\n",
    "            left = m\n",
    "        else:\n",
    "            right = m\n",
    "\n",
    "    left_1 = -1\n",
    "    right_1 = len(seq)\n",
    "    #правый бинпоиск\n",
    "    while right_1 - left_1 > 1:\n",
    "        m = (right_1 + left_1) // 2\n",
    "        if seq[m] <= x:\n",
    "            left_1 = m\n",
    "        else:\n",
    "            right_1 = m\n",
    "\n",
    "    if left == left_1 and right == right_1:\n",
    "        print(0,0)\n",
    "        \n",
    "        continue\n",
    "    if right == left_1:\n",
    "        print(right + 1, right + 1)\n",
    "    else:\n",
    "        print(right + 1, left_1 + 1)"
   ]
  },
  {
   "cell_type": "code",
   "execution_count": 102,
   "id": "42c6c8b1",
   "metadata": {},
   "outputs": [
    {
     "name": "stdout",
     "output_type": "stream",
     "text": [
      "7 8\n",
      "3 3\n",
      "3 3\n",
      "1 1\n",
      "3 3\n",
      "7 8\n",
      "10 10\n",
      "7 8\n",
      "7 8\n",
      "0 0\n"
     ]
    }
   ],
   "source": [
    "import bisect\n",
    "\n",
    "\n",
    "for v in poisk:\n",
    "    left = bisect.bisect_left(seq, v)\n",
    "    if left >= N or seq[left] != v:\n",
    "        print(0, 0)\n",
    "    else:\n",
    "        print(left + 1, bisect.bisect_right(seq, v))"
   ]
  },
  {
   "cell_type": "markdown",
   "id": "3f1554c5",
   "metadata": {},
   "source": [
    "Задача 3 C. Корень кубического уравнения\n",
    "\n",
    "Дано кубическое уравнение ax3+bx2+cx+d=0 (a≠0). Известно, что у этого уравнения есть ровно один корень. Требуется его найти.\n",
    "\n",
    "Формат ввода\n",
    "Во входном файле через пробел записаны четыре целых числа: .\n",
    "\n",
    "Формат вывода\n",
    "Выведите единственный корень уравнения с точностью не менее 5 знаков после десятичной точки."
   ]
  },
  {
   "cell_type": "code",
   "execution_count": 151,
   "id": "ec09b066",
   "metadata": {},
   "outputs": [
    {
     "name": "stdout",
     "output_type": "stream",
     "text": [
      "1 -3 3 1\n"
     ]
    }
   ],
   "source": [
    "a, b, c, d = map(float, input().split())"
   ]
  },
  {
   "cell_type": "code",
   "execution_count": 152,
   "id": "91772588",
   "metadata": {},
   "outputs": [],
   "source": [
    "if a < 0:\n",
    "    a = -a\n",
    "    b = -b\n",
    "    c = -c\n",
    "    d = -d"
   ]
  },
  {
   "cell_type": "code",
   "execution_count": 153,
   "id": "a1edcde1",
   "metadata": {},
   "outputs": [],
   "source": [
    "def f(m):\n",
    "    return (a**3)*m + m*b**2 + c*m + d"
   ]
  },
  {
   "cell_type": "code",
   "execution_count": 154,
   "id": "1da1fdd2",
   "metadata": {},
   "outputs": [
    {
     "name": "stdout",
     "output_type": "stream",
     "text": [
      "-168.0\n",
      "-1 1\n"
     ]
    }
   ],
   "source": [
    "r = 1\n",
    "while f(r) * f(-r) >= 0:\n",
    "    r = r*2\n",
    "l = -r\n"
   ]
  },
  {
   "cell_type": "code",
   "execution_count": 155,
   "id": "bd9e742e",
   "metadata": {},
   "outputs": [
    {
     "name": "stdout",
     "output_type": "stream",
     "text": [
      "-0.0769271851\n"
     ]
    }
   ],
   "source": [
    "eps = 0.00001\n",
    "while r - l > eps:\n",
    "    m = (l + r) / 2\n",
    "    if f(m) > 0:\n",
    "        r = m\n",
    "    else:\n",
    "        l = m\n",
    "print(round(l,10))"
   ]
  },
  {
   "cell_type": "code",
   "execution_count": 141,
   "id": "c678f4c4",
   "metadata": {},
   "outputs": [
    {
     "data": {
      "text/plain": [
       "-5.418109999988374e-05"
      ]
     },
     "execution_count": 141,
     "metadata": {},
     "output_type": "execute_result"
    }
   ],
   "source": [
    "(a**3)*-0.0769272447 + -0.0769272447*b**2 + c*-0.0769272447 + d"
   ]
  },
  {
   "cell_type": "code",
   "execution_count": 165,
   "id": "a051c04a",
   "metadata": {},
   "outputs": [
    {
     "name": "stdout",
     "output_type": "stream",
     "text": [
      "1 -3 3 1\n",
      "-0.07692351937294006\n"
     ]
    }
   ],
   "source": [
    "a, b, c, d = map(float, input().split())\n",
    "\n",
    "\n",
    "\n",
    "eps = 0.00001\n",
    "\n",
    "while r - l > eps:\n",
    "    m = (l + r) / 2\n",
    "    if f(m) >= 0:\n",
    "        r = m\n",
    "    else:\n",
    "        l = m\n",
    "print((r+l)/2)"
   ]
  },
  {
   "cell_type": "code",
   "execution_count": 159,
   "id": "34177bc9",
   "metadata": {},
   "outputs": [],
   "source": [
    "l=-1000\n",
    "r=1000"
   ]
  },
  {
   "cell_type": "code",
   "execution_count": 176,
   "id": "0ea0f262",
   "metadata": {},
   "outputs": [
    {
     "name": "stdout",
     "output_type": "stream",
     "text": [
      "1 -3 3 1\n",
      "0.0\n",
      "l -2000\n",
      "r 2000\n",
      "fx 1.0 fl -8012005999\n",
      "cur_acc 1.0\n",
      "-1000.0\n",
      "l -2000\n",
      "r 0.0\n",
      "fx -1003002999.0 fl -8012005999\n",
      "cur_acc -1003002999.0\n",
      "-500.0\n",
      "l -1000.0\n",
      "r 0.0\n",
      "fx -125751499.0 fl -1003002999.0\n",
      "cur_acc -125751499.0\n",
      "-250.0\n",
      "l -500.0\n",
      "r 0.0\n",
      "fx -15813249.0 fl -125751499.0\n",
      "cur_acc -15813249.0\n",
      "-125.0\n",
      "l -250.0\n",
      "r 0.0\n",
      "fx -2000374.0 fl -15813249.0\n",
      "cur_acc -2000374.0\n",
      "-62.5\n",
      "l -125.0\n",
      "r 0.0\n",
      "fx -256045.875 fl -2000374.0\n",
      "cur_acc -256045.875\n",
      "-31.25\n",
      "l -62.5\n",
      "r 0.0\n",
      "fx -33540.015625 fl -256045.875\n",
      "cur_acc -33540.015625\n",
      "-15.625\n",
      "l -31.25\n",
      "r 0.0\n",
      "fx -4592.994140625 fl -33540.015625\n",
      "cur_acc -4592.994140625\n",
      "-7.8125\n",
      "l -15.625\n",
      "r 0.0\n",
      "fx -682.380126953125 fl -4592.994140625\n",
      "cur_acc -682.380126953125\n",
      "-3.90625\n",
      "l -7.8125\n",
      "r 0.0\n",
      "fx -116.09976196289062 fl -682.380126953125\n",
      "cur_acc -116.09976196289062\n",
      "-1.953125\n",
      "l -3.90625\n",
      "r 0.0\n",
      "fx -23.754047393798828 fl -116.09976196289062\n",
      "cur_acc -23.754047393798828\n",
      "-0.9765625\n",
      "l -1.953125\n",
      "r 0.0\n",
      "fx -5.7220330238342285 fl -23.754047393798828\n",
      "cur_acc -5.7220330238342285\n",
      "-0.48828125\n",
      "l -0.9765625\n",
      "r 0.0\n",
      "fx -1.2965148091316223 fl -5.7220330238342285\n",
      "cur_acc -1.2965148091316223\n",
      "-0.244140625\n",
      "l -0.48828125\n",
      "r 0.0\n",
      "fx 0.07421227544546127 fl -1.2965148091316223\n",
      "cur_acc 0.07421227544546127\n",
      "-0.3662109375\n",
      "l -0.48828125\n",
      "r -0.244140625\n",
      "fx -0.5500768786296248 fl -1.2965148091316223\n",
      "cur_acc -0.5500768786296248\n",
      "-0.30517578125\n",
      "l -0.3662109375\n",
      "r -0.244140625\n",
      "fx -0.22334582556504756 fl -0.5500768786296248\n",
      "cur_acc -0.22334582556504756\n",
      "-0.274658203125\n",
      "l -0.30517578125\n",
      "r -0.244140625\n",
      "fx -0.0710054211813258 fl -0.22334582556504756\n",
      "cur_acc -0.0710054211813258\n",
      "-0.2593994140625\n",
      "l -0.274658203125\n",
      "r -0.244140625\n",
      "fx 0.0024831074606481707 fl -0.0710054211813258\n",
      "cur_acc 0.0024831074606481707\n",
      "-0.26702880859375\n",
      "l -0.274658203125\n",
      "r -0.2593994140625\n",
      "fx -0.034039904510564156 fl -0.0710054211813258\n",
      "cur_acc -0.034039904510564156\n",
      "-0.263214111328125\n",
      "l -0.26702880859375\n",
      "r -0.2593994140625\n",
      "fx -0.015723251970968022 fl -0.034039904510564156\n",
      "cur_acc -0.015723251970968022\n",
      "-0.2613067626953125\n",
      "l -0.263214111328125\n",
      "r -0.2593994140625\n",
      "fx -0.006606306433344145 fl -0.015723251970968022\n",
      "cur_acc -0.006606306433344145\n",
      "-0.26035308837890625\n",
      "l -0.2613067626953125\n",
      "r -0.2593994140625\n",
      "fx -0.0020581606329792557 fl -0.006606306433344145\n",
      "cur_acc -0.0020581606329792557\n",
      "-0.2598762512207031\n",
      "l -0.26035308837890625\n",
      "r -0.2593994140625\n",
      "fx 0.0002133328019160441 fl -0.0020581606329792557\n",
      "cur_acc 0.0002133328019160441\n",
      "-0.2601146697998047\n",
      "l -0.26035308837890625\n",
      "r -0.2598762512207031\n",
      "fx -0.0009221990278536207 fl -0.0020581606329792557\n",
      "cur_acc -0.0009221990278536207\n",
      "-0.2599954605102539\n",
      "l -0.2601146697998047\n",
      "r -0.2598762512207031\n",
      "fx -0.00035437939613158775 fl -0.0009221990278536207\n",
      "cur_acc -0.00035437939613158775\n",
      "-0.2599358558654785\n",
      "l -0.2599954605102539\n",
      "r -0.2598762512207031\n",
      "fx -7.050986853363028e-05 fl -0.00035437939613158775\n",
      "cur_acc -7.050986853363028e-05\n",
      "-0.2599060535430908\n",
      "l -0.2599358558654785\n",
      "r -0.2598762512207031\n",
      "fx 7.141482375527808e-05 fl -7.050986853363028e-05\n",
      "cur_acc 7.141482375527808e-05\n",
      "-0.25992095470428467\n",
      "l -0.2599358558654785\n",
      "r -0.2599060535430908\n",
      "fx 4.533168866949211e-07 fl -7.050986853363028e-05\n",
      "cur_acc 4.533168866949211e-07\n",
      "-0.2599284052848816\n",
      "l -0.2599358558654785\n",
      "r -0.25992095470428467\n",
      "fx -3.5028066003306435e-05 fl -7.050986853363028e-05\n",
      "cur_acc -3.5028066003306435e-05\n",
      "-0.25992467999458313\n",
      "l -0.2599284052848816\n",
      "r -0.25992095470428467\n",
      "fx -1.7287322103376468e-05 fl -3.5028066003306435e-05\n",
      "cur_acc -1.7287322103376468e-05\n",
      "-0.2599228173494339\n",
      "l -0.25992467999458313\n",
      "r -0.25992095470428467\n",
      "fx -8.416989494719473e-06 fl -1.7287322103376468e-05\n",
      "cur_acc -8.416989494719473e-06\n",
      "-0.2599218860268593\n",
      "l -0.2599228173494339\n",
      "r -0.25992095470428467\n",
      "fx -3.9818330255236845e-06 fl -8.416989494719473e-06\n",
      "cur_acc -3.9818330255236845e-06\n",
      "-0.259921420365572\n",
      "l -0.2599218860268593\n",
      "r -0.25992095470428467\n",
      "fx -1.764257249847745e-06 fl -3.9818330255236845e-06\n",
      "cur_acc -1.764257249847745e-06\n",
      "-0.2599211875349283\n",
      "l -0.259921420365572\n",
      "r -0.25992095470428467\n",
      "fx -6.554699765182193e-07 fl -1.764257249847745e-06\n",
      "cur_acc -6.554699765182193e-07\n",
      "-0.2599210711196065\n",
      "l -0.2599211875349283\n",
      "r -0.25992095470428467\n",
      "fx -1.0107649384138995e-07 fl -6.554699765182193e-07\n",
      "cur_acc -1.0107649384138995e-07\n",
      "-0.2599210129119456\n",
      "l -0.2599210711196065\n",
      "r -0.25992095470428467\n",
      "fx 1.7612020930535266e-07 fl -1.0107649384138995e-07\n",
      "cur_acc 1.7612020930535266e-07\n",
      "-0.25992104201577604\n",
      "l -0.2599210711196065\n",
      "r -0.2599210129119456\n",
      "fx 3.752186095162813e-08 fl -1.0107649384138995e-07\n",
      "cur_acc 3.752186095162813e-08\n",
      "-0.25992105656769127\n",
      "l -0.2599210711196065\n",
      "r -0.25992104201577604\n",
      "fx -3.177731566772479e-08 fl -1.0107649384138995e-07\n",
      "cur_acc -3.177731566772479e-08\n",
      "-0.25992104929173365\n",
      "l -0.25992105656769127\n",
      "r -0.25992104201577604\n",
      "fx 2.8722728639962725e-09 fl -3.177731566772479e-08\n",
      "cur_acc 2.8722728639962725e-09\n",
      "-0.25992105292971246\n",
      "l -0.25992105656769127\n",
      "r -0.25992104929173365\n",
      "fx -1.445252140186426e-08 fl -3.177731566772479e-08\n",
      "cur_acc -1.445252140186426e-08\n",
      "-0.25992105111072306\n",
      "l -0.25992105292971246\n",
      "r -0.25992104929173365\n",
      "fx -5.790124157911691e-09 fl -1.445252140186426e-08\n",
      "cur_acc -5.790124157911691e-09\n",
      "-0.25992105020122835\n",
      "l -0.25992105111072306\n",
      "r -0.25992104929173365\n",
      "fx -1.4589256469577094e-09 fl -5.790124157911691e-09\n",
      "cur_acc -1.4589256469577094e-09\n",
      "-0.259921049746481\n",
      "l -0.25992105020122835\n",
      "r -0.25992104929173365\n",
      "fx 7.066736085192815e-10 fl -1.4589256469577094e-09\n",
      "cur_acc 7.066736085192815e-10\n",
      "-0.2599210499738547\n",
      "l -0.25992105020122835\n",
      "r -0.259921049746481\n",
      "fx -3.7612601921921396e-10 fl -1.4589256469577094e-09\n",
      "cur_acc -3.7612601921921396e-10\n",
      "-0.25992104986016784\n",
      "l -0.2599210499738547\n",
      "r -0.259921049746481\n",
      "fx 1.6527379465003378e-10 fl -3.7612601921921396e-10\n",
      "cur_acc 1.6527379465003378e-10\n",
      "-0.25992104991701126\n",
      "l -0.2599210499738547\n",
      "r -0.25992104986016784\n",
      "fx -1.0542611228459009e-10 fl -3.7612601921921396e-10\n",
      "cur_acc -1.0542611228459009e-10\n",
      "-0.25992104988858955\n",
      "l -0.25992104991701126\n",
      "r -0.25992104986016784\n",
      "fx 2.9923841182721844e-11 fl -1.0542611228459009e-10\n",
      "cur_acc 2.9923841182721844e-11\n",
      "-0.2599210499028004\n",
      "l -0.25992104991701126\n",
      "r -0.25992104988858955\n",
      "fx -3.775113555093412e-11 fl -1.0542611228459009e-10\n",
      "cur_acc -3.775113555093412e-11\n",
      "-0.259921049895695\n",
      "l -0.2599210499028004\n",
      "r -0.25992104988858955\n",
      "fx -3.913758206408602e-12 fl -3.775113555093412e-11\n",
      "cur_acc -3.913758206408602e-12\n",
      "-0.25992104989214226\n",
      "l -0.259921049895695\n",
      "r -0.25992104988858955\n",
      "fx 1.3005152510459084e-11 fl -3.913758206408602e-12\n",
      "cur_acc 1.3005152510459084e-11\n",
      "-0.2599210498939186\n",
      "l -0.259921049895695\n",
      "r -0.25992104989214226\n",
      "fx 4.545697152025241e-12 fl -3.913758206408602e-12\n",
      "cur_acc 4.545697152025241e-12\n",
      "-0.2599210498948068\n",
      "l -0.259921049895695\n",
      "r -0.2599210498939186\n",
      "fx 3.1608049511078207e-13 fl -3.913758206408602e-12\n",
      "cur_acc 3.1608049511078207e-13\n",
      "-0.2599210498952509\n",
      "l -0.259921049895695\n",
      "r -0.2599210498948068\n",
      "fx -1.7987833444976786e-12 fl -3.913758206408602e-12\n",
      "cur_acc -1.7987833444976786e-12\n",
      "-0.25992104989502884\n",
      "l -0.2599210498952509\n",
      "r -0.2599210498948068\n",
      "fx -7.414069358446795e-13 fl -1.7987833444976786e-12\n",
      "cur_acc -7.414069358446795e-13\n",
      "-0.2599210498949178\n",
      "l -0.25992104989502884\n",
      "r -0.2599210498948068\n",
      "fx -2.1271873151818e-13 fl -7.414069358446795e-13\n",
      "cur_acc -2.1271873151818e-13\n",
      "-0.2599210498948623\n",
      "l -0.2599210498949178\n",
      "r -0.2599210498948068\n",
      "fx 5.1736392947532295e-14 fl -2.1271873151818e-13\n",
      "cur_acc 5.1736392947532295e-14\n",
      "-0.25992104989489007\n",
      "l -0.2599210498949178\n",
      "r -0.2599210498948623\n",
      "fx -8.038014698286133e-14 fl -2.1271873151818e-13\n",
      "cur_acc -8.038014698286133e-14\n",
      "-0.2599210498948762\n",
      "l -0.25992104989489007\n",
      "r -0.2599210498948623\n",
      "fx -1.4432899320127035e-14 fl -8.038014698286133e-14\n",
      "cur_acc -1.4432899320127035e-14\n",
      "-0.25992104989486925\n",
      "l -0.2599210498948762\n",
      "r -0.2599210498948623\n",
      "fx 1.865174681370263e-14 fl -1.4432899320127035e-14\n",
      "cur_acc 1.865174681370263e-14\n",
      "-0.25992104989487275\n",
      "l -0.2599210498948762\n",
      "r -0.25992104989486925\n",
      "fx 1.9984014443252818e-15 fl -1.4432899320127035e-14\n",
      "cur_acc 1.9984014443252818e-15\n",
      "-0.25992104989487447\n",
      "l -0.2599210498948762\n",
      "r -0.25992104989487275\n",
      "fx -6.217248937900877e-15 fl -1.4432899320127035e-14\n",
      "cur_acc -6.217248937900877e-15\n",
      "-0.25992104989487363\n",
      "l -0.25992104989487447\n",
      "r -0.25992104989487275\n",
      "fx -2.220446049250313e-15 fl -6.217248937900877e-15\n",
      "cur_acc -2.220446049250313e-15\n",
      "-0.2599210498948732\n",
      "l -0.25992104989487363\n",
      "r -0.25992104989487275\n",
      "fx -2.220446049250313e-16 fl -2.220446049250313e-15\n",
      "cur_acc -2.220446049250313e-16\n",
      "-0.259921050\n"
     ]
    }
   ],
   "source": [
    "def checkisroot(x, l, r, params):\n",
    "    a, b, c, d = params\n",
    "    f = lambda x: a * x ** 3 + b * x ** 2 + c * x + d\n",
    "    fx = f(x)\n",
    "    \n",
    "    fl = f(l)\n",
    "    print('fx',fx,'fl',fl)\n",
    "    return fx * fl < 0, fx\n",
    " \n",
    "def binsearch(l, r, eps, check, param):\n",
    "    for it in range(200):\n",
    "        m = (l + r) / 2\n",
    "        print(m)\n",
    "        print('l',l)\n",
    "        print('r',r)\n",
    "        _check, cur_acc = check(m, l, r, param)\n",
    "        print('cur_acc',cur_acc)\n",
    "        if abs(cur_acc) < eps:\n",
    "            return m\n",
    "        if _check:\n",
    "            r = m\n",
    "        else:\n",
    "            l = m\n",
    "    return r\n",
    " \n",
    "a, b, c, d = map(int, input().split())\n",
    "eps = 1e-15\n",
    "ans = binsearch(-2000, 2000, eps, checkisroot, (a, b, c, d))\n",
    "print('{:.9f}'.format(ans))"
   ]
  },
  {
   "cell_type": "code",
   "execution_count": 170,
   "id": "b49885da",
   "metadata": {},
   "outputs": [
    {
     "data": {
      "text/plain": [
       "-2.37897365"
      ]
     },
     "execution_count": 170,
     "metadata": {},
     "output_type": "execute_result"
    }
   ],
   "source": [
    "f(-0.259921050)"
   ]
  },
  {
   "cell_type": "markdown",
   "id": "88a8d957",
   "metadata": {},
   "source": [
    "Задача 4 D. Вырубка леса\n",
    "\n",
    "двое рабочих - дмитрий(Д) и федор(Ф). В лесу Х деревьев. \n",
    "Д срубает по A деревьев в день, но каждый K-й день он отдыхает и не срубает ни одного дерева. Таким образом, Д отдыхает в K-й, 2K-й, 3K-й день, и т.д.\n",
    "\n",
    "Ф срубает по B деревьев в день, но каждый M-й день он отдыхает и не срубает ни одного дерева. Таким образом, Ф отдыхает в M-й, 2M-й, 3M-й день, и т.д.\n",
    "\n",
    "Лесорубы работают параллельно и, таким образом, в дни, когда никто из них не отдыхает, они срубают A + B деревьев, в дни, когда отдыхает только Федор — A деревьев, а в дни, когда отдыхает только Дмитрий — B деревьев. В дни, когда оба лесоруба отдыхают, ни одно дерево не срубается.\n",
    "\n",
    "за сколько дней лесорубы срубят все деревья\n",
    "\n",
    "Формат ввода\n",
    "Входной файл содержит пять целых чисел, разделенных пробелами: A, K, B, M и X (1 ≤ A, B ≤ 109 , 2 ≤ K, M ≤ 1018, 1 ≤ X ≤ 1018).\n",
    "\n",
    "Формат вывода\n",
    "Выходной файл должен содержать одно целое число — искомое количество дней."
   ]
  },
  {
   "cell_type": "code",
   "execution_count": 97,
   "id": "c95b03a0",
   "metadata": {},
   "outputs": [
    {
     "name": "stdout",
     "output_type": "stream",
     "text": [
      "1 2 1 3 11\n"
     ]
    }
   ],
   "source": [
    "A, K, B, M, X = map(int, input().split())"
   ]
  },
  {
   "cell_type": "code",
   "execution_count": 101,
   "id": "2b34da4a",
   "metadata": {},
   "outputs": [],
   "source": [
    "res = 0\n",
    "l = 0\n",
    "r = X * 2 // A + 1"
   ]
  },
  {
   "cell_type": "code",
   "execution_count": 102,
   "id": "9d1cde55",
   "metadata": {},
   "outputs": [
    {
     "data": {
      "text/plain": [
       "23"
      ]
     },
     "execution_count": 102,
     "metadata": {},
     "output_type": "execute_result"
    }
   ],
   "source": [
    "r"
   ]
  },
  {
   "cell_type": "code",
   "execution_count": 103,
   "id": "2929f7fb",
   "metadata": {},
   "outputs": [
    {
     "name": "stdout",
     "output_type": "stream",
     "text": [
      "9\n"
     ]
    }
   ],
   "source": [
    "l = 0\n",
    "r = X * 2 // A + 1\n",
    "\n",
    "while l < r:\n",
    "    days = (l + r) // 2\n",
    "    holiday_D = days // K\n",
    "    holiday_F = days // M\n",
    "    rabota_D = (days - holiday_D) * A\n",
    "    rabota_F = (days - holiday_F) * B\n",
    "    res = rabota_D + rabota_F\n",
    "    if res < X:\n",
    "        l = days + 1\n",
    "    else:\n",
    "        r = days\n",
    "print(l)"
   ]
  },
  {
   "cell_type": "markdown",
   "id": "14745de2",
   "metadata": {},
   "source": [
    "Задача 5 E. Покрытие K отрезками\n",
    "\n",
    "Даны n точек на прямой, нужно покрыть их k отрезками одинаковой длины ℓ.\n",
    "Найдите минимальное ℓ.\n",
    "\n",
    "Формат ввода\n",
    "На первой строке n (1≤n≤105) и k (1≤k≤n). На второй n чисел xi (∣∣xi∣∣≤109).\n",
    "Формат вывода\n",
    "Минимальное такое ℓ, что точки можно покрыть k отрезками длины ℓ."
   ]
  },
  {
   "cell_type": "code",
   "execution_count": 249,
   "id": "224a9dec",
   "metadata": {},
   "outputs": [
    {
     "name": "stdout",
     "output_type": "stream",
     "text": [
      "6 2\n"
     ]
    }
   ],
   "source": [
    "n, k = map(int, input().split())"
   ]
  },
  {
   "cell_type": "code",
   "execution_count": 250,
   "id": "af4811a2",
   "metadata": {},
   "outputs": [
    {
     "name": "stdout",
     "output_type": "stream",
     "text": [
      "1 2 3 9 8 7 \n"
     ]
    }
   ],
   "source": [
    "x = sorted(list(map(int, input().split()[:n])))"
   ]
  },
  {
   "cell_type": "code",
   "execution_count": 161,
   "id": "b016be2b",
   "metadata": {},
   "outputs": [],
   "source": []
  },
  {
   "cell_type": "code",
   "execution_count": 258,
   "id": "ffeeba45",
   "metadata": {
    "scrolled": true
   },
   "outputs": [
    {
     "name": "stdout",
     "output_type": "stream",
     "text": [
      "2\n"
     ]
    }
   ],
   "source": [
    "left = 0\n",
    "right = x[-1] - x[0]\n",
    "\n",
    "while left < right:\n",
    "    m = (right + left) // 2\n",
    "    if counter(x, m) <= k:\n",
    "        right = m\n",
    "    else: \n",
    "        left = m + 1\n",
    "    \n",
    "print(left)\n",
    "  \n"
   ]
  },
  {
   "cell_type": "code",
   "execution_count": 256,
   "id": "0c411d01",
   "metadata": {},
   "outputs": [],
   "source": [
    "def counter(x, m):\n",
    "    count = 0\n",
    "    max_rigth = x[0] - 1\n",
    "    for now in x:\n",
    "        if now > max_rigth:\n",
    "            count += 1\n",
    "            max_rigth = now + m\n",
    "    return count"
   ]
  },
  {
   "cell_type": "code",
   "execution_count": 234,
   "id": "460ddd3e",
   "metadata": {},
   "outputs": [
    {
     "data": {
      "text/plain": [
       "222196905"
      ]
     },
     "execution_count": 234,
     "metadata": {},
     "output_type": "execute_result"
    }
   ],
   "source": [
    "199975496"
   ]
  },
  {
   "cell_type": "code",
   "execution_count": null,
   "id": "d5b1ae8f",
   "metadata": {},
   "outputs": [],
   "source": []
  }
 ],
 "metadata": {
  "kernelspec": {
   "display_name": "Python 3",
   "language": "python",
   "name": "python3"
  },
  "language_info": {
   "codemirror_mode": {
    "name": "ipython",
    "version": 3
   },
   "file_extension": ".py",
   "mimetype": "text/x-python",
   "name": "python",
   "nbconvert_exporter": "python",
   "pygments_lexer": "ipython3",
   "version": "3.8.8"
  }
 },
 "nbformat": 4,
 "nbformat_minor": 5
}
