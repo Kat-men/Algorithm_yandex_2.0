{
 "cells": [
  {
   "cell_type": "markdown",
   "id": "d4520fc1",
   "metadata": {},
   "source": [
    "запись двух чисел из ввода"
   ]
  },
  {
   "cell_type": "code",
   "execution_count": 6,
   "id": "c52b9fbc",
   "metadata": {},
   "outputs": [
    {
     "name": "stdout",
     "output_type": "stream",
     "text": [
      "10 20\n",
      "hit\n"
     ]
    }
   ],
   "source": [
    "# температура в комнате и темпреатура в кондиционере\n",
    "troom, tcond = map(int, input().split())\n",
    "# режим работы кондиционера\n",
    "mode = input()"
   ]
  },
  {
   "cell_type": "code",
   "execution_count": 8,
   "id": "3185b784",
   "metadata": {},
   "outputs": [
    {
     "name": "stdout",
     "output_type": "stream",
     "text": [
      "20\n"
     ]
    }
   ],
   "source": [
    "if mode == 'auto':\n",
    "    print(tcond)\n",
    "if mode == 'fan':\n",
    "    print(troom)\n",
    "if mode == 'freeze':\n",
    "    if tcond < troom:\n",
    "        print(tcond)\n",
    "    else:\n",
    "        print(troom)\n",
    "if mode == 'heat':\n",
    "    if tcond > troom:\n",
    "        print(tcond)\n",
    "    else:\n",
    "        print(troom)"
   ]
  },
  {
   "cell_type": "code",
   "execution_count": null,
   "id": "91e82ace",
   "metadata": {},
   "outputs": [],
   "source": []
  }
 ],
 "metadata": {
  "kernelspec": {
   "display_name": "Python 3",
   "language": "python",
   "name": "python3"
  },
  "language_info": {
   "codemirror_mode": {
    "name": "ipython",
    "version": 3
   },
   "file_extension": ".py",
   "mimetype": "text/x-python",
   "name": "python",
   "nbconvert_exporter": "python",
   "pygments_lexer": "ipython3",
   "version": "3.8.8"
  }
 },
 "nbformat": 4,
 "nbformat_minor": 5
}
