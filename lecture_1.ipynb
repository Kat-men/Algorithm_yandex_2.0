{
 "cells": [
  {
   "cell_type": "markdown",
   "id": "3d72f5e6",
   "metadata": {},
   "source": [
    "задача:\n",
    "\n",
    "дана строка в кодировке UTF-8\n",
    "Найти самый часто всстречающийся в ней символ.\n",
    "Если несколько символов встечаюся одинаковое количество раз, то можно вывести любой"
   ]
  },
  {
   "cell_type": "markdown",
   "id": "ecb2119d",
   "metadata": {},
   "source": [
    "Решение с самой низкой сложностью О(К)\n",
    "Заведем словарь: \n",
    "    ключ - символ \n",
    "    значение - сколько раз встретился\n",
    "Если встретился впервые- создаем элемент словаря с ключом, и значением 0.\n",
    "Прибавляем к элементу словаря с ключом, совпадающим с этим символов, 1."
   ]
  },
  {
   "cell_type": "code",
   "execution_count": 9,
   "id": "afc77e0d",
   "metadata": {},
   "outputs": [
    {
     "name": "stdout",
     "output_type": "stream",
     "text": [
      "ababa\n",
      "a\n"
     ]
    }
   ],
   "source": [
    "s = input()\n",
    "ans = ''\n",
    "anscnt = 0\n",
    "dct = {}\n",
    "for now in s:\n",
    "    if now not in dct:\n",
    "        \n",
    "        dct[now] = 0\n",
    "    dct[now]+=1\n",
    "    if dct[now] > anscnt:\n",
    "        ans = now\n",
    "        anscnt = dct[now]\n",
    "print(ans)    "
   ]
  },
  {
   "cell_type": "markdown",
   "id": "6894766c",
   "metadata": {},
   "source": [
    "Задача:\n",
    "\n",
    "Вводят a,b,c - коэффициенты квадратного уравнения. Найти корни и вывести в порядке возрастания\n",
    "\n"
   ]
  },
  {
   "cell_type": "code",
   "execution_count": 16,
   "id": "bcc0a2d4",
   "metadata": {},
   "outputs": [
    {
     "name": "stdout",
     "output_type": "stream",
     "text": [
      "1 2 1\n",
      "-1.0\n"
     ]
    }
   ],
   "source": [
    "a,b,c  = list(map(int,input().split()))\n",
    "if a == 0:\n",
    "    if b != 0:\n",
    "        print(-c/b)\n",
    "    if b == 0 and c == 0:\n",
    "        print('Infinite number of solutions')\n",
    "else:\n",
    "    d = b**2 - 4 * a * c\n",
    "    #print(d**(1/2))\n",
    "    if d == 0:\n",
    "        x1 = -b/(2 * a)\n",
    "        print(x1)\n",
    "    elif d > 0 :\n",
    "        x1 = (-b - d**(1/2)) / (2 * a)\n",
    "        x2 = (-b + d**(1/2)) / (2 * a)\n",
    "        if x1 < x2 :\n",
    "            print(x1, x2)\n",
    "        else:\n",
    "            print(x2, x1)"
   ]
  },
  {
   "cell_type": "code",
   "execution_count": null,
   "id": "70408afa",
   "metadata": {},
   "outputs": [],
   "source": []
  }
 ],
 "metadata": {
  "kernelspec": {
   "display_name": "Python 3",
   "language": "python",
   "name": "python3"
  },
  "language_info": {
   "codemirror_mode": {
    "name": "ipython",
    "version": 3
   },
   "file_extension": ".py",
   "mimetype": "text/x-python",
   "name": "python",
   "nbconvert_exporter": "python",
   "pygments_lexer": "ipython3",
   "version": "3.8.8"
  }
 },
 "nbformat": 4,
 "nbformat_minor": 5
}
