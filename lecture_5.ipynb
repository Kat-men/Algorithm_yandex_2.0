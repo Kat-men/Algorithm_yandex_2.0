{
 "cells": [
  {
   "cell_type": "markdown",
   "id": "d7372166",
   "metadata": {},
   "source": [
    "Реализация префиксных сумм\n"
   ]
  },
  {
   "cell_type": "code",
   "execution_count": 1,
   "id": "368d78c9",
   "metadata": {},
   "outputs": [],
   "source": [
    "def makeprefsum(nums):\n",
    "    prefixsum = [0]* (len(nums) + 1)\n",
    "    for i in range(1, len(nums) + 1):\n",
    "        prefixsum[i] = prefixsum[i - 1] + nums[i - 1]\n",
    "    return prefixsum"
   ]
  },
  {
   "cell_type": "code",
   "execution_count": 3,
   "id": "e517d705",
   "metadata": {},
   "outputs": [],
   "source": [
    "def rsq(prefixsum, l, r):\n",
    "    return prefixsum[r] - prefixsum[l]\n",
    "# быстрее работает вариант без использования функции, только последнюю строчку"
   ]
  },
  {
   "cell_type": "markdown",
   "id": "1de0b1ef",
   "metadata": {},
   "source": [
    "задача посчитать все ноли\n",
    "сложность O(N + M)"
   ]
  },
  {
   "cell_type": "code",
   "execution_count": 6,
   "id": "27d3ab14",
   "metadata": {},
   "outputs": [],
   "source": [
    "def make_prefix_zeroes(nums):\n",
    "    prefixzeroes = [0] * (len(nums) + 1)\n",
    "    for i in range(1, len(nums) + 1):\n",
    "        if nums[i - 1] == 0:\n",
    "            prefixzeroes[i] = prefixzeroes[i - 1] + 1\n",
    "        else:\n",
    "            prefixzeroes[i] = prefixzeroes[i - 1]\n",
    "    return prefixzeroes"
   ]
  },
  {
   "cell_type": "code",
   "execution_count": 7,
   "id": "29d53a87",
   "metadata": {},
   "outputs": [],
   "source": [
    "def count_zeroes(prefixzeroes, l, r):\n",
    "    return prefixzeroes[r] - prefixzeroes[l]"
   ]
  },
  {
   "cell_type": "markdown",
   "id": "ca011cf8",
   "metadata": {},
   "source": [
    "Задача последовательность чисел длиной N количество отрезков с нулевой суммой\n",
    "\n",
    "считаем префиксные суммы\n",
    "одинаковые пр суммы означают, что сумма на отрезке с наччалом и концом в позициях, на которых достигаются одинаковые префиксные суммы, будет равна 0"
   ]
  },
  {
   "cell_type": "code",
   "execution_count": 8,
   "id": "eec1581d",
   "metadata": {},
   "outputs": [],
   "source": [
    "def count_prefix_sums(nums):\n",
    "    prefixsumbyvalue = {0:1}\n",
    "    nowsum = 0\n",
    "    for now in nums:\n",
    "        nowsum += now\n",
    "        if nowsum not in prefixsumbyvalue:\n",
    "            prefixsumbyvalue[nowsum] = 0\n",
    "        prefixsumbyvalue[nowsum] += 1\n",
    "    return prefixsumbyvalue\n"
   ]
  },
  {
   "cell_type": "code",
   "execution_count": 9,
   "id": "76dbc4a4",
   "metadata": {},
   "outputs": [],
   "source": [
    "def count_zeroes_sum_ranges(prefixsumbyvalue):\n",
    "    cntranges = 0\n",
    "    for nowsum in prefixsumbyvalue:\n",
    "        cntsum = prefixsumbyvalue[nowsum]\n",
    "        cntranges == cntsum * (cntsum - 1) // 2\n",
    "    return cntranges"
   ]
  },
  {
   "cell_type": "markdown",
   "id": "06497df2",
   "metadata": {},
   "source": [
    "2 указателя"
   ]
  },
  {
   "cell_type": "markdown",
   "id": "94c749db",
   "metadata": {},
   "source": [
    "задача\n",
    "\n",
    "дана отсортированная последовательность чисел дтной N и число K\n",
    "Необходимо найти количество пар чисел А, В таких что В-А > К"
   ]
  },
  {
   "cell_type": "markdown",
   "id": "3d87ee74",
   "metadata": {},
   "source": [
    "возьмем наименьшее число и найдем для него первое подходящее большее. все еще большие числа точно подходят. в качестве меньшего числа следующее , а указатель первого подходящего большего будем двигать начиная с той позиции.\n",
    "где он находится сейчас."
   ]
  },
  {
   "cell_type": "code",
   "execution_count": 11,
   "id": "65348f1e",
   "metadata": {},
   "outputs": [],
   "source": [
    "def cntpairs_with_diffgtk(sortednums, k):\n",
    "    cntpairs = 0\n",
    "    last = 0\n",
    "    for first in range(len(sortednums)):\n",
    "        while last < len(sortednums) and sortednums[last] - sortednums[first] <= k:\n",
    "            last +=1\n",
    "        cntpairs +=len(sortednums) - last\n",
    "    return cntpairs"
   ]
  },
  {
   "cell_type": "markdown",
   "id": "a44e6ab4",
   "metadata": {},
   "source": [
    "игрок обладает характеристикой - профессионализм.\n",
    "команда сплоченная если профессионализм любого игрока не превосходит суммарный проф любых двух других игроков команды.\n",
    "любое кол-во игроков в команде.\n",
    "послед отсортирована длиной N\n",
    "\n",
    "найти макс профессионализм сплоченной команды\n"
   ]
  },
  {
   "cell_type": "code",
   "execution_count": 12,
   "id": "8ce69cbf",
   "metadata": {},
   "outputs": [],
   "source": [
    "def best_team_sum(players):\n",
    "    bestsum = 0\n",
    "    nowsum = 0\n",
    "    last = 0\n",
    "    for first in range(len(players)):\n",
    "        while last< len(players) and (last == first or players[first] + players[first + 1] >= players[last]):\n",
    "            nowsum += players[last]\n",
    "            last += 1\n",
    "        bestsum = max(bestsum, nowsum)\n",
    "        nowsum -= players[first]\n",
    "    return bestsum"
   ]
  },
  {
   "cell_type": "markdown",
   "id": "171c37de",
   "metadata": {},
   "source": [
    "даны 2 послед отсорт длиной N и M \n",
    "слить их в 1у отсорт послед"
   ]
  },
  {
   "cell_type": "markdown",
   "id": "e7c0cf01",
   "metadata": {},
   "source": [
    "два указателя на начало каждой послед\n",
    "выберем тот что указывает на меньший запишем это число и сдвинем указатель\n"
   ]
  },
  {
   "cell_type": "code",
   "execution_count": 13,
   "id": "cf1eefe1",
   "metadata": {},
   "outputs": [],
   "source": [
    "def merge(nums1, nums2):\n",
    "    merged = [0] * (len(nums1) + len(nums2))\n",
    "    first1 = first2 = 0\n",
    "    for k in range(len(nums1) + len(nums2)):\n",
    "        if first1 != len(nums1) and (first2 == len(nums2) or nums1[first1] < nums2[first2]):\n",
    "            merged[k] = nums1[first1]\n",
    "            first1 += 1\n",
    "        else:\n",
    "            merged[k] = nums2[first2]\n",
    "            first2 += 1\n",
    "    return merged"
   ]
  },
  {
   "cell_type": "code",
   "execution_count": null,
   "id": "d94c440b",
   "metadata": {},
   "outputs": [],
   "source": []
  }
 ],
 "metadata": {
  "kernelspec": {
   "display_name": "Python 3",
   "language": "python",
   "name": "python3"
  },
  "language_info": {
   "codemirror_mode": {
    "name": "ipython",
    "version": 3
   },
   "file_extension": ".py",
   "mimetype": "text/x-python",
   "name": "python",
   "nbconvert_exporter": "python",
   "pygments_lexer": "ipython3",
   "version": "3.8.8"
  }
 },
 "nbformat": 4,
 "nbformat_minor": 5
}
