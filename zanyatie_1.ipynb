{
 "cells": [
  {
   "cell_type": "code",
   "execution_count": 51,
   "id": "b84fa33d",
   "metadata": {},
   "outputs": [
    {
     "name": "stdout",
     "output_type": "stream",
     "text": [
      "42\n",
      "1\n",
      "6\n"
     ]
    }
   ],
   "source": [
    "r = input() # code end\n",
    "i = input() # interactor\n",
    "c = input()    # Check"
   ]
  },
  {
   "cell_type": "code",
   "execution_count": 81,
   "id": "1a24ddee",
   "metadata": {},
   "outputs": [
    {
     "name": "stdout",
     "output_type": "stream",
     "text": [
      "-3\n",
      "2\n",
      "4\n",
      "2\n"
     ]
    }
   ],
   "source": [
    "r = input() # code end\n",
    "i = input() # interactor\n",
    "c = input() # Check\n",
    "\n",
    "\n",
    "if i == '0':    \n",
    "    if r != '0':\n",
    "        print(3)\n",
    "    else:\n",
    "        print(c)\n",
    "elif i == '1':\n",
    "    print(c)\n",
    "elif i == '4':\n",
    "    if r != '0':\n",
    "        print(3)\n",
    "    else:  \n",
    "        print(4)    \n",
    "elif i == '6':\n",
    "    print(0)\n",
    "elif i == '7': \n",
    "    print(1)   \n",
    "else: \n",
    "    print(i)\n",
    "   \n",
    "    \n",
    "# OK"
   ]
  },
  {
   "cell_type": "markdown",
   "id": "528e72a9",
   "metadata": {},
   "source": [
    "Задание 2\n"
   ]
  },
  {
   "cell_type": "code",
   "execution_count": 98,
   "id": "66183b65",
   "metadata": {},
   "outputs": [
    {
     "name": "stdout",
     "output_type": "stream",
     "text": [
      "8 1 5\n"
     ]
    }
   ],
   "source": [
    "N, i, j = map(int, input().split())"
   ]
  },
  {
   "cell_type": "code",
   "execution_count": 100,
   "id": "db8c7831",
   "metadata": {},
   "outputs": [
    {
     "name": "stdout",
     "output_type": "stream",
     "text": [
      "3\n",
      "3\n",
      "3\n"
     ]
    }
   ],
   "source": [
    "a = N - max(i,j) + min(i,j) - 1 \n",
    "b =  max(i,j) -  min(i,j) -1\n",
    "print(a)\n",
    "print(b)\n",
    "print(int(min(a,b)))\n",
    "\n"
   ]
  },
  {
   "cell_type": "code",
   "execution_count": 103,
   "id": "2396fe70",
   "metadata": {},
   "outputs": [
    {
     "name": "stdout",
     "output_type": "stream",
     "text": [
      "10 1 9\n",
      "a: 1\n",
      "b: 7\n",
      "1\n"
     ]
    }
   ],
   "source": [
    "N, i, j = map(int, input().split())\n",
    "   \n",
    "a = N - j + i - 1 \n",
    "print('a:',a)\n",
    "b =  j - i - 1\n",
    "print('b:',b)\n",
    "if a > b:\n",
    "    print(b)\n",
    "else:\n",
    "    print(a)\n"
   ]
  },
  {
   "cell_type": "code",
   "execution_count": 209,
   "id": "bfb339be",
   "metadata": {},
   "outputs": [
    {
     "name": "stdout",
     "output_type": "stream",
     "text": [
      "2 2 1\n",
      "0\n"
     ]
    }
   ],
   "source": [
    "N, i, j = map(int, input().split())\n",
    "   \n",
    "a = N - max(j,i) + min(i,j) - 1 \n",
    "b =  max(j,i) - min(i,j) -1\n",
    "if a > b:\n",
    "    print(b)\n",
    "else:\n",
    "    print(a)\n"
   ]
  },
  {
   "cell_type": "code",
   "execution_count": null,
   "id": "5f65e03c",
   "metadata": {},
   "outputs": [],
   "source": []
  },
  {
   "cell_type": "code",
   "execution_count": 127,
   "id": "a74a2750",
   "metadata": {},
   "outputs": [
    {
     "name": "stdout",
     "output_type": "stream",
     "text": [
      "1 2 2003\n"
     ]
    }
   ],
   "source": [
    "x, y, z = map(int, input().split())"
   ]
  },
  {
   "cell_type": "code",
   "execution_count": 128,
   "id": "694cc59b",
   "metadata": {},
   "outputs": [
    {
     "name": "stdout",
     "output_type": "stream",
     "text": [
      "0\n"
     ]
    }
   ],
   "source": [
    "if x <= 12 and y <= 12 :\n",
    "    print('1')\n",
    "else: \n",
    "    print('0')\n"
   ]
  },
  {
   "cell_type": "code",
   "execution_count": 129,
   "id": "57cfe0e0",
   "metadata": {},
   "outputs": [
    {
     "name": "stdout",
     "output_type": "stream",
     "text": [
      "3 3 2067\n",
      "1\n"
     ]
    }
   ],
   "source": [
    "x, y, z = map(int, input().split())\n",
    "if x <= 12 and y <= 12 and x != y:\n",
    "    print(0)\n",
    "else: \n",
    "    print(1)"
   ]
  },
  {
   "cell_type": "code",
   "execution_count": 154,
   "id": "a667d83e",
   "metadata": {},
   "outputs": [],
   "source": [
    "import numpy as np\n",
    "import math as m\n",
    "N = input()\n",
    "i = [int(N) for N in input().split()]\n"
   ]
  },
  {
   "cell_type": "code",
   "execution_count": 159,
   "id": "733abe12",
   "metadata": {},
   "outputs": [
    {
     "name": "stdout",
     "output_type": "stream",
     "text": [
      "5\n"
     ]
    }
   ],
   "source": [
    "c = m.ceil(np.median(i))\n",
    "print(c)"
   ]
  },
  {
   "cell_type": "code",
   "execution_count": 270,
   "id": "6bd867b2",
   "metadata": {},
   "outputs": [
    {
     "name": "stdout",
     "output_type": "stream",
     "text": [
      "3\n",
      "-3 0 1\n"
     ]
    }
   ],
   "source": [
    "N = int(input())\n",
    "i = [int(N) for N in input().split()]"
   ]
  },
  {
   "cell_type": "code",
   "execution_count": 272,
   "id": "9ba08eaf",
   "metadata": {},
   "outputs": [
    {
     "data": {
      "text/plain": [
       "0"
      ]
     },
     "execution_count": 272,
     "metadata": {},
     "output_type": "execute_result"
    }
   ],
   "source": [
    "int(i[int(N/2)])"
   ]
  },
  {
   "cell_type": "code",
   "execution_count": 263,
   "id": "998fdf1b",
   "metadata": {},
   "outputs": [
    {
     "name": "stdout",
     "output_type": "stream",
     "text": [
      "2\n"
     ]
    }
   ],
   "source": [
    "n = int(N/2)\n",
    "if N%2== 0:    \n",
    "    print(round(sum(i)/N))\n",
    "else:\n",
    "    print(round(sum(i)/N))"
   ]
  },
  {
   "cell_type": "code",
   "execution_count": 164,
   "id": "bab55a69",
   "metadata": {},
   "outputs": [],
   "source": [
    "c = 3%2\n"
   ]
  },
  {
   "cell_type": "code",
   "execution_count": 279,
   "id": "4894f165",
   "metadata": {},
   "outputs": [
    {
     "name": "stdout",
     "output_type": "stream",
     "text": [
      "3\n",
      "-1 0 1\n"
     ]
    },
    {
     "data": {
      "text/plain": [
       "list"
      ]
     },
     "execution_count": 279,
     "metadata": {},
     "output_type": "execute_result"
    }
   ],
   "source": [
    "N = input()\n",
    "i = [int(N) for N in input().split()]\n",
    "type(i)\n",
    "#print(N/2)"
   ]
  },
  {
   "cell_type": "code",
   "execution_count": 235,
   "id": "59dc1a4d",
   "metadata": {},
   "outputs": [
    {
     "name": "stdout",
     "output_type": "stream",
     "text": [
      "4\n",
      "2 2\n"
     ]
    }
   ],
   "source": [
    "d = int(input())\n",
    "x, y = map(int, input().split())"
   ]
  },
  {
   "cell_type": "code",
   "execution_count": 236,
   "id": "5dde579c",
   "metadata": {},
   "outputs": [
    {
     "name": "stdout",
     "output_type": "stream",
     "text": [
      "0\n"
     ]
    }
   ],
   "source": [
    "if (y*d >= 0 and (d**2-d*(x+y)) >= 0 and x*d >= 0 ) or (y*d <= 0 and (d**2-d*(x+y)) <= 0 and x*d <= 0 ):\n",
    "    print(0)\n",
    "else:\n",
    "    xa = ((x)**2+(y)**2)**0.5\n",
    "    xb = ((d-x)**2+(y)**2)**0.5\n",
    "    xc = ((x)**2+(d-y)**2)**0.5\n",
    "    mini = min(xa,xb,xc)\n",
    "    if mini == xa:\n",
    "        print(1)\n",
    "    elif mini == xb:\n",
    "        print(2)\n",
    "    else:\n",
    "        print(3)"
   ]
  },
  {
   "cell_type": "code",
   "execution_count": 273,
   "id": "2bd94237",
   "metadata": {
    "scrolled": true
   },
   "outputs": [
    {
     "name": "stdout",
     "output_type": "stream",
     "text": [
      "3\n",
      "-1 0 1\n"
     ]
    },
    {
     "ename": "TypeError",
     "evalue": "unsupported operand type(s) for /: 'str' and 'int'",
     "output_type": "error",
     "traceback": [
      "\u001b[1;31m---------------------------------------------------------------------------\u001b[0m",
      "\u001b[1;31mTypeError\u001b[0m                                 Traceback (most recent call last)",
      "\u001b[1;32m<ipython-input-273-411fc7a1889c>\u001b[0m in \u001b[0;36m<module>\u001b[1;34m\u001b[0m\n\u001b[0;32m      2\u001b[0m \u001b[0mi\u001b[0m \u001b[1;33m=\u001b[0m \u001b[1;33m[\u001b[0m\u001b[0mint\u001b[0m\u001b[1;33m(\u001b[0m\u001b[0mN\u001b[0m\u001b[1;33m)\u001b[0m \u001b[1;32mfor\u001b[0m \u001b[0mN\u001b[0m \u001b[1;32min\u001b[0m \u001b[0minput\u001b[0m\u001b[1;33m(\u001b[0m\u001b[1;33m)\u001b[0m\u001b[1;33m.\u001b[0m\u001b[0msplit\u001b[0m\u001b[1;33m(\u001b[0m\u001b[1;33m)\u001b[0m\u001b[1;33m]\u001b[0m\u001b[1;33m\u001b[0m\u001b[1;33m\u001b[0m\u001b[0m\n\u001b[0;32m      3\u001b[0m \u001b[1;33m\u001b[0m\u001b[0m\n\u001b[1;32m----> 4\u001b[1;33m \u001b[0mprint\u001b[0m\u001b[1;33m(\u001b[0m\u001b[0mint\u001b[0m\u001b[1;33m(\u001b[0m\u001b[0mi\u001b[0m\u001b[1;33m[\u001b[0m\u001b[0mint\u001b[0m\u001b[1;33m(\u001b[0m\u001b[0mN\u001b[0m\u001b[1;33m/\u001b[0m\u001b[1;36m2\u001b[0m\u001b[1;33m)\u001b[0m\u001b[1;33m]\u001b[0m\u001b[1;33m)\u001b[0m\u001b[1;33m)\u001b[0m\u001b[1;33m\u001b[0m\u001b[1;33m\u001b[0m\u001b[0m\n\u001b[0m",
      "\u001b[1;31mTypeError\u001b[0m: unsupported operand type(s) for /: 'str' and 'int'"
     ]
    }
   ],
   "source": [
    "N = input()\n",
    "i = [int(N) for N in input().split()]\n",
    "\n",
    "print(int(i[int(N/2)]))"
   ]
  },
  {
   "cell_type": "code",
   "execution_count": 295,
   "id": "f47ee266",
   "metadata": {},
   "outputs": [
    {
     "name": "stdout",
     "output_type": "stream",
     "text": [
      "3\n",
      "-1 0 1\n",
      "0\n"
     ]
    }
   ],
   "source": [
    "N = int(input())\n",
    "rices = list(map(int,input().split()))\n",
    "print(int(rices[int(N/2)]))"
   ]
  },
  {
   "cell_type": "code",
   "execution_count": 294,
   "id": "85032eb7",
   "metadata": {},
   "outputs": [
    {
     "name": "stdout",
     "output_type": "stream",
     "text": [
      "0\n"
     ]
    }
   ],
   "source": [
    "print(int(rices[int(N/2)]))"
   ]
  },
  {
   "cell_type": "code",
   "execution_count": null,
   "id": "2d87fb79",
   "metadata": {},
   "outputs": [],
   "source": []
  }
 ],
 "metadata": {
  "kernelspec": {
   "display_name": "Python 3",
   "language": "python",
   "name": "python3"
  },
  "language_info": {
   "codemirror_mode": {
    "name": "ipython",
    "version": 3
   },
   "file_extension": ".py",
   "mimetype": "text/x-python",
   "name": "python",
   "nbconvert_exporter": "python",
   "pygments_lexer": "ipython3",
   "version": "3.8.8"
  }
 },
 "nbformat": 4,
 "nbformat_minor": 5
}
