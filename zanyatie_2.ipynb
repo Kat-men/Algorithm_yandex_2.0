{
 "cells": [
  {
   "cell_type": "markdown",
   "id": "5dcc8e03",
   "metadata": {},
   "source": [
    "задача 1\n"
   ]
  },
  {
   "cell_type": "code",
   "execution_count": 17,
   "id": "4c7234a2",
   "metadata": {},
   "outputs": [
    {
     "name": "stdout",
     "output_type": "stream",
     "text": [
      "1\n",
      "3\n",
      "3\n",
      "1\n",
      "0\n"
     ]
    }
   ],
   "source": [
    "a = []\n",
    "while True:\n",
    "    n = int(input())\n",
    "    if n != 0:\n",
    "        a.append(n)\n",
    "    else:\n",
    "        break"
   ]
  },
  {
   "cell_type": "code",
   "execution_count": 18,
   "id": "d11a107c",
   "metadata": {},
   "outputs": [
    {
     "name": "stdout",
     "output_type": "stream",
     "text": [
      "2\n"
     ]
    }
   ],
   "source": [
    "maxi = max(a)\n",
    "count = 0\n",
    "for i in a:\n",
    "    if i == maxi:\n",
    "        count += 1\n",
    "print(count)\n",
    "    "
   ]
  },
  {
   "cell_type": "markdown",
   "id": "2625b504",
   "metadata": {},
   "source": [
    "задание 2"
   ]
  },
  {
   "cell_type": "code",
   "execution_count": 49,
   "id": "d6cf97e0",
   "metadata": {},
   "outputs": [
    {
     "name": "stdout",
     "output_type": "stream",
     "text": [
      "2 0 0 0 1 0 0 0 0 1\n"
     ]
    }
   ],
   "source": [
    "prospect = [m for m in input().split()[:10]]"
   ]
  },
  {
   "cell_type": "code",
   "execution_count": 50,
   "id": "a66a2397",
   "metadata": {},
   "outputs": [
    {
     "data": {
      "text/plain": [
       "['2', '0', '0', '0', '1', '0', '0', '0', '0', '1']"
      ]
     },
     "execution_count": 50,
     "metadata": {},
     "output_type": "execute_result"
    }
   ],
   "source": [
    "prospect"
   ]
  },
  {
   "cell_type": "code",
   "execution_count": 51,
   "id": "03bbba62",
   "metadata": {},
   "outputs": [
    {
     "name": "stdout",
     "output_type": "stream",
     "text": [
      ">>>>>>>>>>>\n",
      "4\n",
      "<<<<<<<<<<<<\n",
      "[4]\n",
      "j: 0\n",
      "min: 4\n",
      ">>>>>>>>>>>\n",
      "9\n",
      "<<<<<<<<<<<<\n",
      "[9]\n",
      "j: 0\n",
      "min: 9\n",
      "max: 9\n"
     ]
    }
   ],
   "source": [
    "b = []\n",
    "c = []\n",
    "for i in range(10):\n",
    "    \n",
    "    if prospect[i] == '1':\n",
    "        b = []\n",
    "        print('>>>>>>>>>>>')\n",
    "        print(i)\n",
    "        print('<<<<<<<<<<<<')\n",
    "        for j in range(10):\n",
    "            if prospect[j] == '2':\n",
    "                b.append(abs(j-i))\n",
    "                print(b)\n",
    "                print('j:',j)\n",
    "        print('min:',min(b))\n",
    "        c.append(min(b))\n",
    "print('max:',max(c))\n",
    "        \n",
    "        "
   ]
  },
  {
   "cell_type": "code",
   "execution_count": 52,
   "id": "ffa677d2",
   "metadata": {},
   "outputs": [
    {
     "name": "stdout",
     "output_type": "stream",
     "text": [
      "2 0 1 1 0 1 0 2 1 2\n",
      "3\n"
     ]
    }
   ],
   "source": [
    "prospect = [m for m in input().split()[:10]]\n",
    "b = []\n",
    "c = []\n",
    "for i in range(10):\n",
    "    \n",
    "    if prospect[i] == '1':\n",
    "        b = []\n",
    "        for j in range(10):\n",
    "            if prospect[j] == '2':\n",
    "                b.append(abs(j-i))\n",
    "        \n",
    "        c.append(min(b))\n",
    "print(max(c))"
   ]
  },
  {
   "cell_type": "markdown",
   "id": "4130be5b",
   "metadata": {},
   "source": [
    "задание 3\n"
   ]
  },
  {
   "cell_type": "code",
   "execution_count": 71,
   "id": "c95c96c6",
   "metadata": {},
   "outputs": [
    {
     "name": "stdout",
     "output_type": "stream",
     "text": [
      "cognitive\n"
     ]
    }
   ],
   "source": [
    "m = input()\n"
   ]
  },
  {
   "cell_type": "code",
   "execution_count": 72,
   "id": "e77455ce",
   "metadata": {},
   "outputs": [
    {
     "data": {
      "text/plain": [
       "'cognitive'"
      ]
     },
     "execution_count": 72,
     "metadata": {},
     "output_type": "execute_result"
    }
   ],
   "source": [
    "m"
   ]
  },
  {
   "cell_type": "code",
   "execution_count": 73,
   "id": "42bf2f7a",
   "metadata": {},
   "outputs": [
    {
     "name": "stdout",
     "output_type": "stream",
     "text": [
      "c\n",
      "9\n",
      "o\n",
      "8\n",
      "g\n",
      "7\n",
      "n\n",
      "6\n",
      "4\n"
     ]
    }
   ],
   "source": [
    "count = 0\n",
    "#if len(m)%2 == 0:\n",
    "    \n",
    "for i in range(int(len(m)/2)):\n",
    "    print(m[i])\n",
    "    print(len(m)-i)\n",
    "    if m[i] != m[len(m)-i-1]:\n",
    "        count += 1\n",
    "print(count)            \n",
    "        \n",
    "         \n",
    "    "
   ]
  },
  {
   "cell_type": "code",
   "execution_count": 76,
   "id": "b4acda03",
   "metadata": {},
   "outputs": [
    {
     "name": "stdout",
     "output_type": "stream",
     "text": [
      "cognitive\n",
      "4\n"
     ]
    }
   ],
   "source": [
    "m = input()\n",
    "count = 0\n",
    "    \n",
    "for i in range(int(len(m)/2)):\n",
    "    if m[i] != m[len(m)-i-1]:\n",
    "        count += 1\n",
    "print(count)"
   ]
  },
  {
   "cell_type": "markdown",
   "id": "713d754f",
   "metadata": {},
   "source": [
    "задание 4\n"
   ]
  },
  {
   "cell_type": "code",
   "execution_count": 193,
   "id": "d82fed24",
   "metadata": {},
   "outputs": [
    {
     "name": "stdout",
     "output_type": "stream",
     "text": [
      "13 4\n",
      "1 4 8 11\n"
     ]
    }
   ],
   "source": [
    "\n",
    "L, K = map(int, input().split())\n",
    "arr = list(map(int, input().split()[:K]))"
   ]
  },
  {
   "cell_type": "code",
   "execution_count": 194,
   "id": "1b1543a2",
   "metadata": {},
   "outputs": [
    {
     "name": "stdout",
     "output_type": "stream",
     "text": [
      "6.5\n",
      "2\n"
     ]
    }
   ],
   "source": [
    "mean = L/2\n",
    "print(mean)\n",
    "print(int(K/2))"
   ]
  },
  {
   "cell_type": "code",
   "execution_count": 182,
   "id": "403778fc",
   "metadata": {},
   "outputs": [
    {
     "name": "stdout",
     "output_type": "stream",
     "text": [
      "7.0\n"
     ]
    }
   ],
   "source": [
    "if (7.0 == 7):\n",
    "        print(mean)"
   ]
  },
  {
   "cell_type": "code",
   "execution_count": 195,
   "id": "b99afa9b",
   "metadata": {},
   "outputs": [
    {
     "name": "stdout",
     "output_type": "stream",
     "text": [
      "4 8\n"
     ]
    }
   ],
   "source": [
    "if L%2 != 0:\n",
    "    if (round(mean) in arr):\n",
    "        print('g',round(mean))\n",
    "    else:\n",
    "        print(arr[int(K/2)-1], arr[int(K/2)])\n",
    "else:\n",
    "    arr.append(mean)\n",
    "    arr.sort()\n",
    "    print(arr)\n",
    "    print(arr[int(K/2)-2], arr[int(K/2)])"
   ]
  },
  {
   "cell_type": "code",
   "execution_count": null,
   "id": "65184ceb",
   "metadata": {},
   "outputs": [],
   "source": [
    "    else:\n",
    "        arr.append(mean)\n",
    "        print(arr)\n",
    "        arr.sort()\n",
    "        print(arr)\n",
    "        print('fffffffffff')"
   ]
  },
  {
   "cell_type": "code",
   "execution_count": null,
   "id": "45fb8801",
   "metadata": {},
   "outputs": [],
   "source": [
    "\n",
    "for i in range(K):\n",
    "    if arr[i] == mean:\n",
    "        print(arr[i])"
   ]
  },
  {
   "cell_type": "code",
   "execution_count": null,
   "id": "7ea68068",
   "metadata": {},
   "outputs": [],
   "source": [
    "\n",
    "if L%2 != 0:\n",
    "    if (round(mean) in arr):\n",
    "        print('g',round(mean))\n",
    "    else:\n",
    "        print(arr[int(K/2)-1], arr[int(K/2)])\n",
    "else:\n",
    "    arr.append(mean)\n",
    "    arr.sort()\n",
    "    print(arr)\n",
    "    print(arr[int(K/2)-2], arr[int(K/2)])\n",
    "    for i in range(K):\n",
    "        if arr[i] == mean:\n",
    "            print(arr[i])\n",
    "            break"
   ]
  },
  {
   "cell_type": "code",
   "execution_count": 218,
   "id": "8f028722",
   "metadata": {},
   "outputs": [
    {
     "name": "stdout",
     "output_type": "stream",
     "text": [
      "14 6\n",
      "1 6 8 11 12 13\n",
      "6 8\n"
     ]
    }
   ],
   "source": [
    "\n",
    "L, K = map(int, input().split())\n",
    "arr = list(map(int, input().split()[:K]))\n",
    "mean = (L-1)/2\n",
    "\n",
    "arr_l = []\n",
    "arr_r = []\n",
    "if mean in arr:\n",
    "    print(int(mean))\n",
    "else:\n",
    "    for i in range(K):\n",
    "        if arr[i] < mean:\n",
    "            arr_l.append(arr[i])\n",
    "        else:\n",
    "            arr_r.append(arr[i])\n",
    "            \n",
    "    print(max(arr_l),min(arr_r))"
   ]
  },
  {
   "cell_type": "code",
   "execution_count": 201,
   "id": "827ac418",
   "metadata": {},
   "outputs": [
    {
     "data": {
      "text/plain": [
       "list"
      ]
     },
     "execution_count": 201,
     "metadata": {},
     "output_type": "execute_result"
    }
   ],
   "source": [
    "type(arr)"
   ]
  },
  {
   "cell_type": "code",
   "execution_count": 202,
   "id": "e1504845",
   "metadata": {},
   "outputs": [
    {
     "data": {
      "text/plain": [
       "[0.0, 2.0, 2.5]"
      ]
     },
     "execution_count": 202,
     "metadata": {},
     "output_type": "execute_result"
    }
   ],
   "source": [
    "[float(i) for i in arr]"
   ]
  },
  {
   "cell_type": "markdown",
   "id": "4b270e5e",
   "metadata": {},
   "source": [
    "задание 5\n"
   ]
  },
  {
   "cell_type": "code",
   "execution_count": 240,
   "id": "84011775",
   "metadata": {},
   "outputs": [
    {
     "name": "stdout",
     "output_type": "stream",
     "text": [
      "4\n",
      "1 3 3 2\n"
     ]
    }
   ],
   "source": [
    "N = int(input())\n",
    "arr = list(map(int, input().split()[:N]))"
   ]
  },
  {
   "cell_type": "code",
   "execution_count": 241,
   "id": "5c46ad2c",
   "metadata": {},
   "outputs": [
    {
     "name": "stdout",
     "output_type": "stream",
     "text": [
      "3\n",
      "[1, 3, 2]\n",
      "6\n"
     ]
    }
   ],
   "source": [
    "maxi = max(arr)\n",
    "print(maxi)\n",
    "\n",
    "arr.remove(maxi)\n",
    "print(arr)\n",
    "print(sum(arr))\n"
   ]
  },
  {
   "cell_type": "code",
   "execution_count": 242,
   "id": "d223b75b",
   "metadata": {},
   "outputs": [
    {
     "name": "stdout",
     "output_type": "stream",
     "text": [
      "2\n",
      "2 1\n",
      "1\n"
     ]
    }
   ],
   "source": [
    "N = int(input())\n",
    "arr = list(map(int, input().split()[:N]))\n",
    "maxi = max(arr)\n",
    "arr.remove(maxi)\n",
    "\n",
    "print(sum(arr))\n"
   ]
  },
  {
   "cell_type": "code",
   "execution_count": null,
   "id": "f7c6b7e3",
   "metadata": {},
   "outputs": [],
   "source": []
  }
 ],
 "metadata": {
  "kernelspec": {
   "display_name": "Python 3",
   "language": "python",
   "name": "python3"
  },
  "language_info": {
   "codemirror_mode": {
    "name": "ipython",
    "version": 3
   },
   "file_extension": ".py",
   "mimetype": "text/x-python",
   "name": "python",
   "nbconvert_exporter": "python",
   "pygments_lexer": "ipython3",
   "version": "3.8.8"
  }
 },
 "nbformat": 4,
 "nbformat_minor": 5
}
