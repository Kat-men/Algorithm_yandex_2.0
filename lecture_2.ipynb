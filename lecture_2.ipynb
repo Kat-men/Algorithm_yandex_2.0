{
 "cells": [
  {
   "cell_type": "markdown",
   "id": "48216101",
   "metadata": {},
   "source": [
    "Задача\n",
    "Найти первое(левое) вхождение положительного числа A\n",
    "в нее или вывести -1, если число не встречалось"
   ]
  },
  {
   "cell_type": "code",
   "execution_count": 39,
   "id": "15c456c6",
   "metadata": {},
   "outputs": [
    {
     "name": "stdout",
     "output_type": "stream",
     "text": [
      "1 2 1 2 3\n"
     ]
    }
   ],
   "source": [
    "seq  = list(map(int,input().split()))\n"
   ]
  },
  {
   "cell_type": "code",
   "execution_count": 41,
   "id": "0768eced",
   "metadata": {},
   "outputs": [
    {
     "ename": "AttributeError",
     "evalue": "'int' object has no attribute 'type'",
     "output_type": "error",
     "traceback": [
      "\u001b[1;31m---------------------------------------------------------------------------\u001b[0m",
      "\u001b[1;31mAttributeError\u001b[0m                            Traceback (most recent call last)",
      "\u001b[1;32m<ipython-input-41-1095afe0aee0>\u001b[0m in \u001b[0;36m<module>\u001b[1;34m\u001b[0m\n\u001b[0;32m      1\u001b[0m \u001b[0mX\u001b[0m \u001b[1;33m=\u001b[0m \u001b[1;36m2\u001b[0m\u001b[1;33m\u001b[0m\u001b[1;33m\u001b[0m\u001b[0m\n\u001b[1;32m----> 2\u001b[1;33m \u001b[0mX\u001b[0m\u001b[1;33m.\u001b[0m\u001b[0mtype\u001b[0m\u001b[1;33m(\u001b[0m\u001b[1;33m)\u001b[0m\u001b[1;33m\u001b[0m\u001b[1;33m\u001b[0m\u001b[0m\n\u001b[0m",
      "\u001b[1;31mAttributeError\u001b[0m: 'int' object has no attribute 'type'"
     ]
    }
   ],
   "source": [
    "X = 2\n",
    "X.type()"
   ]
  },
  {
   "cell_type": "code",
   "execution_count": 44,
   "id": "4a8c18b8",
   "metadata": {},
   "outputs": [],
   "source": [
    "def findleftX(seq, X):\n",
    "    ans = -1\n",
    "    for i in range(len(seq)):\n",
    "        if (ans == -1) and (seq[i] == X):\n",
    "            ans = i\n",
    "    return(ans)\n",
    "            "
   ]
  },
  {
   "cell_type": "code",
   "execution_count": 45,
   "id": "457266a3",
   "metadata": {},
   "outputs": [
    {
     "data": {
      "text/plain": [
       "1"
      ]
     },
     "execution_count": 45,
     "metadata": {},
     "output_type": "execute_result"
    }
   ],
   "source": [
    "findleftX(seq, X)"
   ]
  },
  {
   "cell_type": "code",
   "execution_count": 46,
   "id": "b0574cc5",
   "metadata": {},
   "outputs": [],
   "source": [
    "def findrightX(seq, X):\n",
    "    ans = -1\n",
    "    for i in range(len(seq)):\n",
    "        if seq[i] == X:\n",
    "            ans = i\n",
    "    return(ans)"
   ]
  },
  {
   "cell_type": "code",
   "execution_count": 47,
   "id": "dada7d01",
   "metadata": {},
   "outputs": [
    {
     "data": {
      "text/plain": [
       "3"
      ]
     },
     "execution_count": 47,
     "metadata": {},
     "output_type": "execute_result"
    }
   ],
   "source": [
    "findrightX(seq, X)\n"
   ]
  },
  {
   "cell_type": "markdown",
   "id": "42f16478",
   "metadata": {},
   "source": [
    "Задача \n",
    "найти максимальное значение последовательности\n",
    "послед не пустая"
   ]
  },
  {
   "cell_type": "code",
   "execution_count": 57,
   "id": "a3ba5979",
   "metadata": {},
   "outputs": [],
   "source": [
    "def findmax0(seq):\n",
    "    ans = seq[0]\n",
    "    for i in range(1,len(seq)):\n",
    "        if seq[i] > ans:\n",
    "            ans = seq[i]\n",
    "    return ans"
   ]
  },
  {
   "cell_type": "code",
   "execution_count": 58,
   "id": "b6dfe2aa",
   "metadata": {},
   "outputs": [
    {
     "data": {
      "text/plain": [
       "3"
      ]
     },
     "execution_count": 58,
     "metadata": {},
     "output_type": "execute_result"
    }
   ],
   "source": [
    "findmax0(seq)"
   ]
  },
  {
   "cell_type": "code",
   "execution_count": 59,
   "id": "7a9f4d21",
   "metadata": {},
   "outputs": [],
   "source": [
    "def findmax1(seq):\n",
    "    ans = 0\n",
    "    for i in range(1,len(seq)):\n",
    "        if seq[i] > seq[ans]:\n",
    "            ans = i\n",
    "    return seq[ans]"
   ]
  },
  {
   "cell_type": "code",
   "execution_count": 60,
   "id": "38b878d5",
   "metadata": {},
   "outputs": [
    {
     "data": {
      "text/plain": [
       "3"
      ]
     },
     "execution_count": 60,
     "metadata": {},
     "output_type": "execute_result"
    }
   ],
   "source": [
    "findmax1(seq)"
   ]
  },
  {
   "cell_type": "markdown",
   "id": "8d2132e4",
   "metadata": {},
   "source": [
    "Задача \n",
    "максимальное значение и второе после максимального значения"
   ]
  },
  {
   "cell_type": "code",
   "execution_count": 63,
   "id": "241c6e34",
   "metadata": {},
   "outputs": [],
   "source": [
    "def findmax2(seq):\n",
    "    max1 = max(seq[0],seq[1])\n",
    "    max2 = min(seq[0],seq[1])\n",
    "    for i in range(2,len(seq)):\n",
    "        if seq[i] > max1:\n",
    "            max2 = max1\n",
    "            max1 = seq[i]\n",
    "        elif seq[i] > max2:\n",
    "            max2 = seq[i]\n",
    "    return(max1, max2)"
   ]
  },
  {
   "cell_type": "code",
   "execution_count": 64,
   "id": "2c7d83e6",
   "metadata": {},
   "outputs": [
    {
     "data": {
      "text/plain": [
       "(3, 2)"
      ]
     },
     "execution_count": 64,
     "metadata": {},
     "output_type": "execute_result"
    }
   ],
   "source": [
    "findmax2(seq)"
   ]
  },
  {
   "cell_type": "markdown",
   "id": "c2128686",
   "metadata": {},
   "source": [
    "Задача \n",
    "минимальное четное число, иначе -1"
   ]
  },
  {
   "cell_type": "code",
   "execution_count": 65,
   "id": "0c187672",
   "metadata": {},
   "outputs": [],
   "source": [
    "def findmineven(seq):\n",
    "    ans = -1\n",
    "    for i in range(len(seq)):\n",
    "        if seq[i] % 2 == 0 and (ans == -1 or seq[i] < ans):\n",
    "            ans = seq[i]\n",
    "    return ans"
   ]
  },
  {
   "cell_type": "code",
   "execution_count": 66,
   "id": "8dcdf73c",
   "metadata": {},
   "outputs": [
    {
     "data": {
      "text/plain": [
       "2"
      ]
     },
     "execution_count": 66,
     "metadata": {},
     "output_type": "execute_result"
    }
   ],
   "source": [
    "findmineven(seq)"
   ]
  },
  {
   "cell_type": "code",
   "execution_count": null,
   "id": "73b8011a",
   "metadata": {},
   "outputs": [],
   "source": [
    "def findmineven(seq):\n",
    "    flag = False\n",
    "    for i in range(len(seq)):\n",
    "        if seq[i] % 2 == 0 and (not falg or seq[i] < ans):\n",
    "            flag = True\n",
    "    return ans"
   ]
  },
  {
   "cell_type": "markdown",
   "id": "6fbd2020",
   "metadata": {},
   "source": [
    "задача \n",
    "вывести все самые короткие слова через пробел"
   ]
  },
  {
   "cell_type": "code",
   "execution_count": 68,
   "id": "a771c23e",
   "metadata": {},
   "outputs": [],
   "source": [
    "def shortwords(words):\n",
    "    minlen = len(words[0])\n",
    "    for word in words:\n",
    "        if len(word) < minlen:\n",
    "            minlen = len(word)\n",
    "    ans = []\n",
    "    for word in words:\n",
    "        if len(word) == minlen:\n",
    "            ans.append(word)\n",
    "    return ' '.json(ans)"
   ]
  },
  {
   "cell_type": "markdown",
   "id": "012260e9",
   "metadata": {},
   "source": [
    "задача \n",
    "сколько низменностей заполнено\n"
   ]
  },
  {
   "cell_type": "code",
   "execution_count": 69,
   "id": "e41932b5",
   "metadata": {},
   "outputs": [],
   "source": [
    "def isleflood(h):\n",
    "    maxpos = 0\n",
    "    for i in range(len(h)):\n",
    "        if h[i] > h[maxpos]:\n",
    "            maxpos = i\n",
    "            \n",
    "    ans = 0\n",
    "    nowm = 0\n",
    "    for i in range(maxpos):\n",
    "        if h[i] > nowm:\n",
    "            nowm = i\n",
    "        ans += nowm - h[i]\n",
    "    nowm = 0\n",
    "    #справа налево\n",
    "    for i in range(len(h) - 1,maxpos, -1):\n",
    "        if h[i] > nowm:\n",
    "            nowm = i\n",
    "        ans += nowm - h[i]\n",
    "    return ans"
   ]
  },
  {
   "cell_type": "markdown",
   "id": "9a5d93e8",
   "metadata": {},
   "source": [
    "задача для собеседования\n",
    "AAAABBCCCAASQ = A4B2C3A2SQ\n",
    "ошибка если строка невалидная"
   ]
  },
  {
   "cell_type": "code",
   "execution_count": 71,
   "id": "91b3ea36",
   "metadata": {},
   "outputs": [],
   "source": [
    "def RLE(s):\n",
    "    def pack(s, cnt):\n",
    "        if cnt > 1:\n",
    "            return s + str(cnt)\n",
    "        return s\n",
    "    lastsym = s[0]\n",
    "    lastpos = 0\n",
    "    ans = []\n",
    "    for i in range(1,len(s)):\n",
    "        if s[i] != lastsym:\n",
    "            ans.append(pack(lastsym, i - lastpos))\n",
    "            lastpos = i\n",
    "            lastsym = s[i]\n",
    "    ans.append(pack(s[lastpos], len(s) - lastpos))\n",
    "    return ''.json(ans)"
   ]
  },
  {
   "cell_type": "code",
   "execution_count": 70,
   "id": "871eba37",
   "metadata": {},
   "outputs": [],
   "source": [
    "def easy(s):\n",
    "    lastsym = s[0]\n",
    "    ans = []\n",
    "    for i in range(1,len(s)):\n",
    "        if s[i] != lastsym:\n",
    "            ans.append(lastsym)\n",
    "            lastsym = s[i]\n",
    "    ans.append(lastsym)\n",
    "    return ''.json(ans)"
   ]
  },
  {
   "cell_type": "markdown",
   "id": "d0928227",
   "metadata": {},
   "source": [
    "собственное мульти множество\n",
    "(элементы могут повторяться)"
   ]
  },
  {
   "cell_type": "code",
   "execution_count": 72,
   "id": "4d688674",
   "metadata": {},
   "outputs": [],
   "source": [
    "setsize = 10 \n",
    "myset = [[] for _ in range(setsize)]\n",
    "def add(x):\n",
    "    myset[x % setsize].append(x)\n",
    "    \n",
    "def find(x):\n",
    "    for now in myset[x % setsize]:\n",
    "        if now == x:\n",
    "            return True\n",
    "    return False\n",
    "\n",
    "def delete(x):\n",
    "    xlist = myset[x % setsize]\n",
    "    for i in range(len(xlist)):\n",
    "        if xlist[i] == x:\n",
    "            xlist[i] = xlist[len(xlist) - 1]\n",
    "            xlist.pop()\n",
    "            \n",
    "            return"
   ]
  },
  {
   "cell_type": "markdown",
   "id": "4673f134",
   "metadata": {},
   "source": [
    "найти различные числа в списке,\n",
    "которые в сумме дадут число X"
   ]
  },
  {
   "cell_type": "code",
   "execution_count": null,
   "id": "7a10f4f7",
   "metadata": {},
   "outputs": [],
   "source": [
    "def two_terms_with_sum_x(nums, x):\n",
    "    prevnums = set()\n",
    "    for nownum in nums:\n",
    "        if x - nownum in prevnums:\n",
    "            return nownum, x - nownum \n",
    "        prevnums.add(nownum)\n",
    "    return 0, 0"
   ]
  },
  {
   "cell_type": "markdown",
   "id": "e4cb211d",
   "metadata": {},
   "source": [
    "Задача \n",
    "Дан словарь из N слов, длина каждого не превосходит K\n",
    "В записи каждого из М слов текса (каждое длиной до К)\n",
    "может быть пропущена 1 буква. Для каждого слова сказать,\n",
    "входит ли оно (возможно, с одной пропущенной буквой) в словарь"
   ]
  },
  {
   "cell_type": "markdown",
   "id": "05da7909",
   "metadata": {},
   "source": [
    "  Будем не добалять по одной букве на каждую позицию в слове, а будем удалаять по одной букве из словаря и записывать новые дополнительные варианты"
   ]
  },
  {
   "cell_type": "code",
   "execution_count": 73,
   "id": "8a756a5f",
   "metadata": {},
   "outputs": [],
   "source": [
    "def wordsindict(dictionary, text):\n",
    "    goodwords = set(dictionary)\n",
    "    for word in dictionary:\n",
    "        for delpos in range(len(word)):\n",
    "            goodwords.add(word[:delpos] + word[delpos+1:])\n",
    "    ans = []\n",
    "    for word in text:\n",
    "        ans.append(word in goodwords)\n",
    "    return ans"
   ]
  },
  {
   "cell_type": "code",
   "execution_count": null,
   "id": "47698ad0",
   "metadata": {},
   "outputs": [],
   "source": []
  }
 ],
 "metadata": {
  "kernelspec": {
   "display_name": "Python 3",
   "language": "python",
   "name": "python3"
  },
  "language_info": {
   "codemirror_mode": {
    "name": "ipython",
    "version": 3
   },
   "file_extension": ".py",
   "mimetype": "text/x-python",
   "name": "python",
   "nbconvert_exporter": "python",
   "pygments_lexer": "ipython3",
   "version": "3.8.8"
  }
 },
 "nbformat": 4,
 "nbformat_minor": 5
}
