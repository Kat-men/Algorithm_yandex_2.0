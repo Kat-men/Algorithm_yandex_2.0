{
 "cells": [
  {
   "cell_type": "markdown",
   "id": "731377b9",
   "metadata": {},
   "source": [
    "## Бинарный поиск\n",
    "как поиск в бумажном словаре слова\n",
    "(тернарный поиск - тройной)"
   ]
  },
  {
   "cell_type": "code",
   "execution_count": 1,
   "id": "e39b57c5",
   "metadata": {},
   "outputs": [],
   "source": [
    "# первое вхождение [l,r]\n",
    "# m - это середина\n",
    "def lbin_search(l,r,check,checkparams):\n",
    "    while l < r:\n",
    "        m = (l + r) // 2\n",
    "        if check(m, checkparams):\n",
    "            r = m\n",
    "        else:\n",
    "            l = m + 1\n",
    "    return l"
   ]
  },
  {
   "cell_type": "code",
   "execution_count": 2,
   "id": "8ad2c2bc",
   "metadata": {},
   "outputs": [],
   "source": [
    "# последнее вхождение\n",
    "def rbin_search(l,r,check,checkparams):\n",
    "    while l < r:\n",
    "        m = (l + r + 1) // 2\n",
    "        if check(m, checkparams):\n",
    "            l = m\n",
    "        else:\n",
    "            r = m - 1\n",
    "    return l"
   ]
  },
  {
   "cell_type": "markdown",
   "id": "1c2b42f2",
   "metadata": {},
   "source": [
    "задача 1\n",
    "N человек в совете, K родителей \n",
    "не менее 1/3 от N.\n",
    "сколько нужно еще ввести родителей в совет\n",
    "(K+M)/(N+M) >= 1/3"
   ]
  },
  {
   "cell_type": "markdown",
   "id": "b3d26879",
   "metadata": {},
   "source": [
    "ищем мин количество родителей, которое нужно добавить, бинарным поиском. L = 0, R = N"
   ]
  },
  {
   "cell_type": "code",
   "execution_count": 3,
   "id": "bb09c925",
   "metadata": {},
   "outputs": [],
   "source": [
    "def lbin_search(l,r,check,checkparams):\n",
    "    while l < r:\n",
    "        m = (l + r) // 2\n",
    "        if check(m, checkparams):\n",
    "            r = m\n",
    "        else:\n",
    "            l = m + 1\n",
    "    return l"
   ]
  },
  {
   "cell_type": "code",
   "execution_count": 4,
   "id": "7a3fe1aa",
   "metadata": {},
   "outputs": [],
   "source": [
    "def checken_downment(m, params):\n",
    "    n,k = params\n",
    "    return (k + m)* 3 >= n + m"
   ]
  },
  {
   "cell_type": "markdown",
   "id": "523174b9",
   "metadata": {},
   "source": [
    "Задача 2\n",
    "N задач. в первый день решил K задач, во второй на одну задачу больше, чем в предыдущий.\n",
    "сколько дней уйдет на собеседование\n",
    "\n",
    "\n",
    "бинарный поиск по ответу"
   ]
  },
  {
   "cell_type": "markdown",
   "id": "9279c2bb",
   "metadata": {},
   "source": [
    "мин количество дней, достаточное для решения не менее n задач. формула арифметической прогрессии."
   ]
  },
  {
   "cell_type": "code",
   "execution_count": 5,
   "id": "7722f2d3",
   "metadata": {},
   "outputs": [],
   "source": [
    "def lbin_search(l,r,check,checkparams):\n",
    "    while l < r:\n",
    "        m = (l + r) // 2\n",
    "        if check(m, checkparams):\n",
    "            r = m\n",
    "        else:\n",
    "            l = m + 1\n",
    "    return l"
   ]
  },
  {
   "cell_type": "code",
   "execution_count": 6,
   "id": "532d2030",
   "metadata": {},
   "outputs": [],
   "source": [
    "def checken_problem_count(days, params):\n",
    "    n,k = params\n",
    "    return (k + (k + days - 1)) * days // 2 >= n"
   ]
  },
  {
   "cell_type": "markdown",
   "id": "0dc97160",
   "metadata": {},
   "source": [
    "задача 3\n",
    "\n",
    "доска размером W * H см. N квадратных стикеров , длина в см целое число.\n",
    "определить макс длину стороны стикера, чтобы все стикеры поместились на доске."
   ]
  },
  {
   "cell_type": "code",
   "execution_count": 7,
   "id": "116024f6",
   "metadata": {},
   "outputs": [],
   "source": [
    "# последнее вхождение\n",
    "def rbin_search(l,r,check,checkparams):\n",
    "    while l < r:\n",
    "        m = (l + r + 1) // 2;\n",
    "        if check(m, checkparams):\n",
    "            l = m\n",
    "        else:\n",
    "            r = m - 1\n",
    "    return l"
   ]
  },
  {
   "cell_type": "code",
   "execution_count": 8,
   "id": "87c41210",
   "metadata": {},
   "outputs": [],
   "source": [
    "def checken_stikers(size, params):\n",
    "    n,w,h = params\n",
    "    return (w // size) * (h // size) >= n"
   ]
  },
  {
   "cell_type": "markdown",
   "id": "717847b0",
   "metadata": {},
   "source": [
    "задача 4\n",
    "\n",
    "послед отсортирована по неубыванию из N чисел и число X\n",
    ". необходимо определить индекс первого числа в послед, которое >= X . если числа нет, то N."
   ]
  },
  {
   "cell_type": "markdown",
   "id": "066be5b8",
   "metadata": {},
   "source": [
    "левый бинпоиск, если сошлось на числе меньше X то вернем N\n"
   ]
  },
  {
   "cell_type": "code",
   "execution_count": 9,
   "id": "b6f825d9",
   "metadata": {},
   "outputs": [],
   "source": [
    "def checkisge(idx, params):\n",
    "    seq, x = params\n",
    "    return seq[idx] >= x"
   ]
  },
  {
   "cell_type": "code",
   "execution_count": 10,
   "id": "615a0d37",
   "metadata": {},
   "outputs": [],
   "source": [
    "def find_first_ge(seq, x):\n",
    "    ans = lbin_search(0, len(seq) - 1, checkisge, (seq, x))\n",
    "    if seq[ans] < x:\n",
    "        return len(seq)\n",
    "    return ans"
   ]
  },
  {
   "cell_type": "markdown",
   "id": "17bbd636",
   "metadata": {},
   "source": [
    "задача 5\n",
    "\n",
    "тоже самое что и в задаче 4, но еще посчитать вхождения в последовательность"
   ]
  },
  {
   "cell_type": "markdown",
   "id": "3e5911b1",
   "metadata": {},
   "source": [
    "поиск левым бинпоиском >= X, вторым > X. разность индексов - количсество вхождений.\n",
    "функция checkisge из задачи 4"
   ]
  },
  {
   "cell_type": "code",
   "execution_count": 11,
   "id": "afb2d7ce",
   "metadata": {},
   "outputs": [],
   "source": [
    "def checkisge(idx, params):\n",
    "    seq, x = params\n",
    "    return seq[idx] > x"
   ]
  },
  {
   "cell_type": "code",
   "execution_count": 12,
   "id": "479c5989",
   "metadata": {},
   "outputs": [],
   "source": [
    "def find_first(seq, x, check):\n",
    "    ans = lbin_search(0, len(seq) - 1, check, (seq, x))\n",
    "    if not check(ans, (seq, x)):\n",
    "        return len(seq)\n",
    "    return ans"
   ]
  },
  {
   "cell_type": "code",
   "execution_count": 13,
   "id": "fdb53420",
   "metadata": {},
   "outputs": [],
   "source": [
    "def countx(seq, x):\n",
    "    idxt = find_first(seq, x, checkisgt)\n",
    "    idxe = find_first(seq, x, checkisge)\n",
    "    return idxt - idxe"
   ]
  },
  {
   "cell_type": "markdown",
   "id": "75a674de",
   "metadata": {},
   "source": [
    "задача 6\n",
    "\n",
    "задана процентная ставка по кредиту (X% годовых), срок кредитования (N месяцев) и сумма кредита (M рублей)\n",
    "Необходимо рассчитать размер аннуитетного ежемесячного платежа.\n",
    "\n",
    "ежемесячный процент не равен X/12. подберем бинпоиском"
   ]
  },
  {
   "cell_type": "code",
   "execution_count": 17,
   "id": "835f155c",
   "metadata": {},
   "outputs": [],
   "source": [
    "def  check_month_lyperc(mprec, yprec):\n",
    "    msum = 1 + mprec / 100\n",
    "    ysym = 1 + yprec / 100\n",
    "    return msum ** 12 >= ysym\n",
    "# yprec годовые проценты"
   ]
  },
  {
   "cell_type": "code",
   "execution_count": 18,
   "id": "eb77d638",
   "metadata": {},
   "outputs": [],
   "source": [
    "def fbinsearch(l, r, eps, check, checkparams):\n",
    "    while l + eps < r:\n",
    "        m = (l + r) / 2\n",
    "        if check(m, checkparams):\n",
    "            r = m\n",
    "        else:\n",
    "            l = m\n",
    "    return l"
   ]
  },
  {
   "cell_type": "code",
   "execution_count": 19,
   "id": "996118d1",
   "metadata": {},
   "outputs": [],
   "source": [
    "x = 12\n",
    "eps = 0.0001 # точность\n",
    "mperc = fbinsearch(0, x, eps, check_month_lyperc, x)"
   ]
  },
  {
   "cell_type": "code",
   "execution_count": 20,
   "id": "50843cdc",
   "metadata": {},
   "outputs": [
    {
     "data": {
      "text/plain": [
       "0.9488525390625"
      ]
     },
     "execution_count": 20,
     "metadata": {},
     "output_type": "execute_result"
    }
   ],
   "source": [
    "mperc"
   ]
  },
  {
   "cell_type": "markdown",
   "id": "ad824414",
   "metadata": {},
   "source": [
    "о размере платежа\n",
    "ищем ее бинпоиском,  а в качестве проверки моделировать процесс ежемесячной выплаты, уменьшая тело кредита на разницу между суммой платежа и ежемесячным процентом\n",
    "функция fbinsearch "
   ]
  },
  {
   "cell_type": "code",
   "execution_count": 25,
   "id": "d01d70ab",
   "metadata": {},
   "outputs": [],
   "source": [
    "def checkcredit(mpay, params):\n",
    "    periods, creditsum, mperc = params\n",
    "    for i in range(periods):\n",
    "        percray = creditsum * (mperc / 100)\n",
    "        creditsum -= mpay - percray\n",
    "    return creditsum <= 0"
   ]
  },
  {
   "cell_type": "code",
   "execution_count": 26,
   "id": "6aa5dbd4",
   "metadata": {},
   "outputs": [
    {
     "name": "stdout",
     "output_type": "stream",
     "text": [
      "100816.05054438114\n"
     ]
    }
   ],
   "source": [
    "eps = 0.01\n",
    "m = 10000000\n",
    "n = 300\n",
    "monthlypay = fbinsearch(0, m, eps, checkcredit, (n, m, mperc))\n",
    "print(monthlypay)"
   ]
  },
  {
   "cell_type": "code",
   "execution_count": null,
   "id": "ddfabd24",
   "metadata": {},
   "outputs": [],
   "source": []
  }
 ],
 "metadata": {
  "kernelspec": {
   "display_name": "Python 3",
   "language": "python",
   "name": "python3"
  },
  "language_info": {
   "codemirror_mode": {
    "name": "ipython",
    "version": 3
   },
   "file_extension": ".py",
   "mimetype": "text/x-python",
   "name": "python",
   "nbconvert_exporter": "python",
   "pygments_lexer": "ipython3",
   "version": "3.8.8"
  }
 },
 "nbformat": 4,
 "nbformat_minor": 5
}
