{
 "cells": [
  {
   "cell_type": "markdown",
   "id": "2c482e7c",
   "metadata": {},
   "source": [
    "Задача \n",
    "\n",
    "1<= N <= 100k \n",
    "чем менше разница в цвете тем стильнее\n",
    "комплект состоит из:\n",
    "    -кепка\n",
    "    -майка\n",
    "    -штаны\n",
    "    -ботинки\n",
    "комплект харатеризкется максимальной разницей между любыми двумя его элементами.\n",
    "выбрать максимально стильный комплект, то есть комплект с минимальной разницей цветов.\n",
    "1 стр:\n",
    "    сначала вводится количество Ni элементов одежды этого типа\n",
    "2 стр:\n",
    "    оследовательность из Ni целых чисел, описывающих цвета элементов.\n",
    "Все четыре типа подаются на вход последовательно, начиная с кепок и заканчивая ботинками. Все вводимые числа целые, положительные и не превосходят 100 000."
   ]
  },
  {
   "cell_type": "markdown",
   "id": "f1abbdd1",
   "metadata": {},
   "source": [
    "vvod 1:\n",
    "    3\n",
    "1 2 3\n",
    "2\n",
    "1 3\n",
    "2\n",
    "3 4\n",
    "2\n",
    "2 3\n",
    "vivod 1:\n",
    "    3 3 3 3 \n",
    "vvod 2:\n",
    "    1\n",
    "5\n",
    "4\n",
    "3 6 7 10\n",
    "4\n",
    "18 3 9 11\n",
    "1\n",
    "20\n",
    "vivod 2:\n",
    "    5 6 9 20 "
   ]
  },
  {
   "cell_type": "markdown",
   "id": "6d765aef",
   "metadata": {},
   "source": [
    "В этой задаче вам нужно будет много раз отвечать на запрос «Найдите сумму чисел на отрезке в массиве».\n",
    "Формат ввода\n",
    "В первой строке записано два целых числа \n",
    "n и q (1≤n,q≤⋅105) - размер массива и количество запросов.\n",
    "Во второй строке записаны n целых чисел ai (1≤ai≤109) - сам массив.\n",
    "Далее в q строках описаны запросы к массиву. Каждый запрос описывается двумя числами l, r (1≤l≤r≤n) - левой и правой границей отрезка, на котором нужно найти сумму.\n",
    "\n",
    "Формат вывода\n",
    "Для каждого запроса в отдельной строке выведите единственное число - сумму на соответствующем отрезке."
   ]
  },
  {
   "cell_type": "code",
   "execution_count": 178,
   "id": "41a76527",
   "metadata": {},
   "outputs": [
    {
     "name": "stdout",
     "output_type": "stream",
     "text": [
      "4 10\n"
     ]
    }
   ],
   "source": [
    "n, q = map(int, input().split())"
   ]
  },
  {
   "cell_type": "code",
   "execution_count": 179,
   "id": "5f98e932",
   "metadata": {},
   "outputs": [
    {
     "name": "stdout",
     "output_type": "stream",
     "text": [
      "1 2 3 4\n"
     ]
    }
   ],
   "source": [
    "a = list(map(int, input().split()[:n]))"
   ]
  },
  {
   "cell_type": "code",
   "execution_count": 203,
   "id": "4bec51c5",
   "metadata": {},
   "outputs": [
    {
     "name": "stdout",
     "output_type": "stream",
     "text": [
      "3 4\n"
     ]
    }
   ],
   "source": [
    "l, r = map(int, input().split())"
   ]
  },
  {
   "cell_type": "code",
   "execution_count": 192,
   "id": "58661ca2",
   "metadata": {},
   "outputs": [
    {
     "name": "stdout",
     "output_type": "stream",
     "text": [
      "9\n"
     ]
    }
   ],
   "source": [
    "print(count_total(prefix_sums(a),l,r))"
   ]
  },
  {
   "cell_type": "code",
   "execution_count": 189,
   "id": "045539cc",
   "metadata": {},
   "outputs": [],
   "source": [
    "def makeprefsum(nums):\n",
    "    prefixsum = [0]* (len(nums) + 1)\n",
    "    for i in range(1, len(nums) + 1):\n",
    "        prefixsum[i] = prefixsum[i - 1] + nums[i - 1]\n",
    "    return prefixsum"
   ]
  },
  {
   "cell_type": "code",
   "execution_count": 204,
   "id": "47d93ccf",
   "metadata": {},
   "outputs": [
    {
     "name": "stdout",
     "output_type": "stream",
     "text": [
      "7\n"
     ]
    }
   ],
   "source": [
    "if l == r:\n",
    "    print(makeprefsum(a)[r])\n",
    "else:\n",
    "    print(makeprefsum(a)[r] - makeprefsum(a)[l - 1])"
   ]
  },
  {
   "cell_type": "code",
   "execution_count": 191,
   "id": "b4ded825",
   "metadata": {},
   "outputs": [],
   "source": [
    "def prefix_sums(A):\n",
    "    n = len(A)\n",
    "    P = [0] * n\n",
    "    P[0] = A[0]\n",
    "    for k in range(1, n):\n",
    "        P[k] = P[k - 1] + A[k]\n",
    "    return P\n",
    "\n",
    "def count_total(P, x, y):\n",
    "    return (P[y - 1] - P[x - 1] if x > 0 else P[y])"
   ]
  },
  {
   "cell_type": "code",
   "execution_count": null,
   "id": "98403c18",
   "metadata": {},
   "outputs": [],
   "source": [
    "n, q = map(int, input().split())\n",
    "a = list(map(int, input().split()[:n]))\n",
    "pref = [0] *n\n",
    "for i in range(n):\n",
    "\tif i == 0:\n",
    "\t\tpref[i] = a[i]\n",
    "\telse:\n",
    "\t\tpref[i] = pref[i-1]+a[i]\n",
    "for i in range(q):\n",
    "    l, r = map(int, input().split())\n",
    "    \n",
    "    if r == l:\n",
    "        print(a[r - 1])\n",
    "    else:\n",
    "        print(pref[r - 1] - pref[l-1] + a[l-1])"
   ]
  },
  {
   "cell_type": "markdown",
   "id": "19adc9cc",
   "metadata": {},
   "source": [
    "В этой задаче вам требуется найти непустой отрезок массива с максимальной суммой.\n",
    "Формат ввода\n",
    "В первой строке входных данных записано единственное число \n",
    "n(1≤n≤3⋅105) -  размер массива.\n",
    "Во второй строке записано n целых чисел ai (−109≤ai≤109) - сам массив.\n",
    "\n",
    "Формат вывода\n",
    "Выведите одно число - максимальную сумму на отрезке в данном массиве."
   ]
  },
  {
   "cell_type": "code",
   "execution_count": 517,
   "id": "32e8be32",
   "metadata": {},
   "outputs": [
    {
     "name": "stdout",
     "output_type": "stream",
     "text": [
      "4\n",
      "1 2 3 4\n",
      "current i 1\n",
      "current x 3\n",
      "maxi 3\n",
      "current x 6\n",
      "maxi 6\n",
      "current x 10\n",
      "maxi 10\n",
      "current i 2\n",
      "current x 5\n",
      "current x 9\n",
      "current i 3\n",
      "current x 7\n",
      "current i 4\n",
      "10\n"
     ]
    }
   ],
   "source": [
    "n = int(input())\n",
    "dict_0 = {}\n",
    "for row in range(n):\n",
    "    \n",
    "    d , a = list(map(int, input().split()))\n",
    "    if d in list(dict_0.keys()):\n",
    "        dict_0[d] +=a\n",
    "    else:\n",
    "        dict_0[d] = a\n",
    "l = sorted(dict_0)\n",
    "out = []\n",
    "for i in l:\n",
    "    out.append('{}{}'.format(i,dict_0[i]))\n",
    "print('\\n'.join(out))\n",
    "maxi = a[0]\n",
    "\n",
    "for i in range(len(a)):\n",
    "    current = a[i]\n",
    "    if current>maxi:\n",
    "        maxi = current\n",
    "    print('current i',current )\n",
    "    for x in range((i+1),len(a)):\n",
    "        current = current + a[x]\n",
    "        print('current x',current )\n",
    "        if (current > maxi):\n",
    "            maxi = current\n",
    "            print('maxi',maxi)\n",
    "    \n",
    "print( maxi)"
   ]
  },
  {
   "cell_type": "code",
   "execution_count": 487,
   "id": "2cbc8f36",
   "metadata": {},
   "outputs": [
    {
     "name": "stdout",
     "output_type": "stream",
     "text": [
      "4\n"
     ]
    }
   ],
   "source": [
    "\n",
    "max_sum = [ 0, ]\n",
    "for x in a:\n",
    "    \n",
    "    \n",
    "    if x < 0 and x < max_sum[ -1 ]:\n",
    "        max_sum[ -1 ] = x\n",
    "        \n",
    "    else:\n",
    "        cur = max_sum[ -1 ] + x\n",
    "        max_sum.append( cur )\n",
    "print(max( max_sum ))"
   ]
  },
  {
   "cell_type": "code",
   "execution_count": 452,
   "id": "24f3af72",
   "metadata": {},
   "outputs": [],
   "source": [
    "def maxsum(iterable):\n",
    "    maxsofar = maxendinghere = 0\n",
    "    for x in iterable:\n",
    "        maxendinghere = max(maxendinghere + x, 0)\n",
    "        maxsofar = max(maxsofar, maxendinghere)\n",
    "    return maxsofar"
   ]
  },
  {
   "cell_type": "code",
   "execution_count": 477,
   "id": "5f1804d3",
   "metadata": {},
   "outputs": [
    {
     "name": "stdout",
     "output_type": "stream",
     "text": [
      "[8, 9, 11, 14]\n",
      "1\n",
      "8\n",
      "1\n",
      "llllllll\n",
      "aaa 9\n",
      "2\n",
      "9\n",
      "2\n",
      "llllllll\n",
      "aaa 11\n",
      "3\n",
      "11\n",
      "3\n",
      "llllllll\n",
      "aaa 14\n",
      "14\n"
     ]
    }
   ],
   "source": [
    "maxi = a[0]\n",
    "P[0]*(len(a)+1)\n",
    "print(P)\n",
    "for i in range(1,len(a)):\n",
    "    print(i)\n",
    "    print(P[i - 1])\n",
    "    print(a[i - 1])\n",
    "    print('llllllll')\n",
    "    P[i]  = P[i - 1] + a[i - 1]\n",
    "    \n",
    "    if P[i] > maxi:\n",
    "        maxi = P[i]\n",
    "        \n",
    "        \n",
    "    \n",
    "    print('aaa',P[i])\n",
    "print(maxi)"
   ]
  },
  {
   "cell_type": "code",
   "execution_count": 176,
   "id": "0c9f3a0d",
   "metadata": {},
   "outputs": [
    {
     "name": "stdout",
     "output_type": "stream",
     "text": [
      "4\n",
      "4 5 -10 4\n",
      "0\n",
      "sum 4\n",
      "min_sum 0\n",
      "1\n",
      "sum 9\n",
      "min_sum 0\n",
      "2\n",
      "sum -1\n",
      "min_sum -1\n",
      "3\n",
      "sum 3\n",
      "min_sum -1\n",
      "9\n"
     ]
    }
   ],
   "source": [
    "n = int(input())\n",
    "a = list(map(int, input().split()[:n]))\n",
    "sum = 0\n",
    "min_sum = 0\n",
    "ans = a[0]\n",
    "for r in range(n):\n",
    "    print(r)\n",
    "    sum += a[r]\n",
    "    print('sum',sum)\n",
    "    ans = max(ans,sum-min_sum)\n",
    "    min_sum = min(min_sum,sum)\n",
    "    print('min_sum',min_sum)\n",
    "print(ans)"
   ]
  },
  {
   "cell_type": "code",
   "execution_count": 171,
   "id": "ff92f5cf",
   "metadata": {},
   "outputs": [
    {
     "data": {
      "text/plain": [
       "10"
      ]
     },
     "execution_count": 171,
     "metadata": {},
     "output_type": "execute_result"
    }
   ],
   "source": [
    "ans"
   ]
  },
  {
   "cell_type": "code",
   "execution_count": null,
   "id": "8cd3e3db",
   "metadata": {},
   "outputs": [],
   "source": [
    "n = int(input())\n",
    "a = list(map(int, input().split()[:n]))\n",
    "    \n",
    "maxi = a[0]\n",
    "\n",
    "for i in range(len(a)):\n",
    "    current = a[i]\n",
    "    if current>maxi:\n",
    "        maxi = current\n",
    "    \n",
    "    for x in range((i+1),len(a)):\n",
    "        current = current + a[x]\n",
    "        \n",
    "        if (current > maxi):\n",
    "            maxi = current\n",
    "            \n",
    "    \n",
    "print( maxi)"
   ]
  },
  {
   "cell_type": "code",
   "execution_count": 2,
   "id": "92c1bdbe",
   "metadata": {},
   "outputs": [
    {
     "name": "stdout",
     "output_type": "stream",
     "text": [
      "4 4 \n",
      "1 2 3 4\n"
     ]
    }
   ],
   "source": [
    "n, q = map(int, input().split())\n",
    "a = list(map(int, input().split()[:n]))\n",
    "pref = {} "
   ]
  },
  {
   "cell_type": "code",
   "execution_count": 3,
   "id": "52f62bff",
   "metadata": {},
   "outputs": [
    {
     "name": "stdout",
     "output_type": "stream",
     "text": [
      "1 1\n",
      "1\n",
      "1 3\n",
      "6\n",
      "1 4\n",
      "10\n",
      "2 3\n",
      "5\n"
     ]
    }
   ],
   "source": [
    "\n",
    "for i in range(n):\n",
    "\tif i == 0:\n",
    "\t\tpref[i] = a[i]\n",
    "\telse:\n",
    "\t\tpref[i] = pref[i-1]+a[i]\n",
    "for i in range(q):\n",
    "    l, r = map(int, input().split())\n",
    "    \n",
    "    if r == l:\n",
    "        print(a[r - 1])\n",
    "    else:\n",
    "        print(pref[r - 1] - pref[l-1] + a[l-1])"
   ]
  },
  {
   "cell_type": "markdown",
   "id": "aedae035",
   "metadata": {},
   "source": [
    "## pref"
   ]
  },
  {
   "cell_type": "markdown",
   "id": "6f0f66e2",
   "metadata": {},
   "source": [
    "В новом учебном году на занятия в компьютерные классы Дворца Творчества Юных пришли учащиеся, которые были разбиты на N групп. В i-й группе оказалось Xi человек. Тут же перед директором встала серьезная проблема: как распределить группы по аудиториям. Во дворце имеется M ≥ N аудиторий, в j-й аудитории имеется Yj компьютеров. Для занятий необходимо, чтобы у каждого учащегося был компьютер и еще один компьютер был у преподавателя. Переносить компьютеры из одной аудитории в другую запрещается. Помогите директору!\n",
    "\n",
    "Напишите программу, которая найдет, какое максимальное количество групп удастся одновременно распределить по аудиториям, чтобы всем учащимся в каждой группе хватило компьютеров, и при этом остался бы еще хотя бы один для учителя.\n",
    "\n",
    "Формат ввода\n",
    "На первой строке входного файла расположены числа N и M (1 ≤ N ≤ M ≤ 1000). На второй строке расположено N чисел — X1, …, XN (1 ≤ Xi ≤ 1000 для всех 1 ≤ i ≤ N). На третьей строке расположено M чисел Y1, ..., YM (1 ≤ Yi ≤ 1000 для всех 1 ≤ i ≤ M).\n",
    "\n",
    "Формат вывода\n",
    "Выведите на первой строке число P - количество групп, которые удастся распределить по аудиториям. На второй строке выведите распределение групп по аудиториям – N чисел, i-е число должно соответствовать номеру аудитории, в которой должна заниматься i-я группа. (Нумерация как групп, так и аудиторий, начинается с 1). Если i-я группа осталась без аудитории, i-е число должно быть равно 0. Если допустимых распределений несколько, выведите любое из них."
   ]
  },
  {
   "cell_type": "markdown",
   "id": "e1bd8159",
   "metadata": {},
   "source": [
    "vvod 1\n",
    "1 1\n",
    "1\n",
    "2\n",
    "vivod 1\n",
    "1\n",
    "1"
   ]
  },
  {
   "cell_type": "code",
   "execution_count": 90,
   "id": "51c83890",
   "metadata": {},
   "outputs": [
    {
     "name": "stdout",
     "output_type": "stream",
     "text": [
      "1 1\n",
      "1\n",
      "1\n"
     ]
    }
   ],
   "source": [
    "N,M = map(int, input().split())\n",
    "\n",
    "#y = {}\n",
    "X = list(map(int, input().split()[:N]))\n",
    "Y = list(map(int, input().split()[:M]))"
   ]
  },
  {
   "cell_type": "code",
   "execution_count": 21,
   "id": "47e4a1e1",
   "metadata": {},
   "outputs": [
    {
     "data": {
      "text/plain": [
       "[2, 1]"
      ]
     },
     "execution_count": 21,
     "metadata": {},
     "output_type": "execute_result"
    }
   ],
   "source": [
    "X"
   ]
  },
  {
   "cell_type": "code",
   "execution_count": 22,
   "id": "4aa7bc62",
   "metadata": {},
   "outputs": [
    {
     "data": {
      "text/plain": [
       "range(0, 2)"
      ]
     },
     "execution_count": 22,
     "metadata": {},
     "output_type": "execute_result"
    }
   ],
   "source": [
    "range(N)"
   ]
  },
  {
   "cell_type": "code",
   "execution_count": 91,
   "id": "a62ff713",
   "metadata": {},
   "outputs": [],
   "source": [
    "x = {}\n",
    "y = {}\n",
    "x = {i : X[i] for i in range(N) }  \n",
    "y = {i : Y[i] for i in range(M) }  \n"
   ]
  },
  {
   "cell_type": "code",
   "execution_count": 92,
   "id": "b1f7dcc7",
   "metadata": {},
   "outputs": [
    {
     "name": "stdout",
     "output_type": "stream",
     "text": [
      "{0: 1} {0: 1}\n"
     ]
    }
   ],
   "source": [
    "print(x,y)"
   ]
  },
  {
   "cell_type": "code",
   "execution_count": 93,
   "id": "7e956641",
   "metadata": {},
   "outputs": [],
   "source": [
    "count = 0"
   ]
  },
  {
   "cell_type": "code",
   "execution_count": 94,
   "id": "211fe33a",
   "metadata": {},
   "outputs": [],
   "source": [
    "a = dict.fromkeys(range(N) , 0)"
   ]
  },
  {
   "cell_type": "code",
   "execution_count": 95,
   "id": "f55641c4",
   "metadata": {},
   "outputs": [
    {
     "data": {
      "text/plain": [
       "{0: 0}"
      ]
     },
     "execution_count": 95,
     "metadata": {},
     "output_type": "execute_result"
    }
   ],
   "source": [
    "a"
   ]
  },
  {
   "cell_type": "code",
   "execution_count": 96,
   "id": "160b312b",
   "metadata": {},
   "outputs": [
    {
     "name": "stdout",
     "output_type": "stream",
     "text": [
      "0 1\n"
     ]
    }
   ],
   "source": [
    "\n",
    "for key,value in x.items():\n",
    "    \n",
    "    for key_y,value_y in y.items():\n",
    "        if value+1 == value_y:\n",
    "            count+=1\n",
    "            a[key_y] = value"
   ]
  },
  {
   "cell_type": "code",
   "execution_count": 97,
   "id": "18e7d82c",
   "metadata": {},
   "outputs": [
    {
     "name": "stdout",
     "output_type": "stream",
     "text": [
      "0\n",
      "0\n"
     ]
    }
   ],
   "source": [
    "print(sum(value != 0 for value in a.values()))\n",
    "print(*a.values())"
   ]
  },
  {
   "cell_type": "code",
   "execution_count": null,
   "id": "5706a0d2",
   "metadata": {},
   "outputs": [],
   "source": [
    "def best_team_sum(players):\n",
    "    bestsum = 0\n",
    "    nowsum = 0\n",
    "    last = 0\n",
    "    for first in range(len(players)):\n",
    "        while last< len(players) and (last == first or players[first] + players[first + 1] >= players[last]):\n",
    "            nowsum += players[last]\n",
    "            last += 1\n",
    "        bestsum = max(bestsum, nowsum)\n",
    "        nowsum -= players[first]\n",
    "    return bestsum"
   ]
  },
  {
   "cell_type": "code",
   "execution_count": 101,
   "id": "709bebcb",
   "metadata": {},
   "outputs": [
    {
     "ename": "TypeError",
     "evalue": "list indices must be integers or slices, not range",
     "output_type": "error",
     "traceback": [
      "\u001b[1;31m---------------------------------------------------------------------------\u001b[0m",
      "\u001b[1;31mTypeError\u001b[0m                                 Traceback (most recent call last)",
      "\u001b[1;32m<ipython-input-101-b678167cd319>\u001b[0m in \u001b[0;36m<module>\u001b[1;34m\u001b[0m\n\u001b[1;32m----> 1\u001b[1;33m \u001b[0mx\u001b[0m \u001b[1;33m=\u001b[0m \u001b[1;33m{\u001b[0m\u001b[0mdict\u001b[0m\u001b[1;33m.\u001b[0m\u001b[0mfromkeys\u001b[0m\u001b[1;33m(\u001b[0m\u001b[0mrange\u001b[0m\u001b[1;33m(\u001b[0m\u001b[0mN\u001b[0m\u001b[1;33m)\u001b[0m \u001b[1;33m,\u001b[0m\u001b[0mX\u001b[0m\u001b[1;33m[\u001b[0m\u001b[0mrange\u001b[0m\u001b[1;33m(\u001b[0m\u001b[0mN\u001b[0m\u001b[1;33m)\u001b[0m\u001b[1;33m]\u001b[0m \u001b[1;33m)\u001b[0m\u001b[1;33m}\u001b[0m\u001b[1;33m\u001b[0m\u001b[1;33m\u001b[0m\u001b[0m\n\u001b[0m",
      "\u001b[1;31mTypeError\u001b[0m: list indices must be integers or slices, not range"
     ]
    }
   ],
   "source": [
    "x = {dict.fromkeys(range(N)  )}"
   ]
  },
  {
   "cell_type": "code",
   "execution_count": 279,
   "id": "c1c3dcf5",
   "metadata": {},
   "outputs": [
    {
     "name": "stdout",
     "output_type": "stream",
     "text": [
      "3 3\n",
      "1 1 1\n",
      "2 2 1\n",
      "keys 0\n",
      "y_sort[key] 2\n",
      "0\n",
      "x_sort[i] 1\n",
      "1\n",
      "x_sort[i] 1\n",
      "2\n",
      "x_sort[i] 1\n",
      "keys 1\n",
      "y_sort[key] 2\n",
      "keys 2\n",
      "y_sort[key] 1\n",
      "3\n",
      "1 1 1\n"
     ]
    }
   ],
   "source": [
    "N,M = map(int, input().split())\n",
    "\n",
    "\n",
    "x_n = list(map(int, input().split()[:N]))\n",
    "y_m = list(map(int, input().split()[:M]))\n",
    "  \n",
    "y = {i : y_m[i] for i in range(M) }  \n",
    "y_sort = {k: v for k, v in sorted(y.items(),reverse=True, key=lambda item: item[1])}\n",
    "x_sort = sorted(x_n,reverse=True)\n",
    "s = [0]*N\n",
    "count = 0\n",
    "j = 0\n",
    "i = 0\n",
    "for key in y_sort.keys():\n",
    "    print('keys',key)\n",
    "    print('y_sort[key]',y_sort[key])\n",
    "    while i < N:\n",
    "        print(i)\n",
    "        print('x_sort[i]',x_sort[i])\n",
    "        if x_sort[i] + 1 <= y_sort[key]:\n",
    "            count +=1\n",
    "            \n",
    "            s[i] = key+1\n",
    "            \n",
    "        \n",
    "        i+=1\n",
    "\n",
    "            \n",
    "print(count)\n",
    "print( *s)"
   ]
  },
  {
   "cell_type": "code",
   "execution_count": 274,
   "id": "5f585d9e",
   "metadata": {},
   "outputs": [
    {
     "data": {
      "text/plain": [
       "{1: 5, 0: 3, 2: 2}"
      ]
     },
     "execution_count": 274,
     "metadata": {},
     "output_type": "execute_result"
    }
   ],
   "source": [
    "y_sort"
   ]
  },
  {
   "cell_type": "code",
   "execution_count": 164,
   "id": "83a3005b",
   "metadata": {},
   "outputs": [
    {
     "name": "stdout",
     "output_type": "stream",
     "text": [
      "[0, 0, 0, 0, 0, 0, 0, 0, 0, 17]\n"
     ]
    }
   ],
   "source": [
    "print( sorted(a.values()))"
   ]
  },
  {
   "cell_type": "code",
   "execution_count": 144,
   "id": "904c5eaf",
   "metadata": {},
   "outputs": [
    {
     "ename": "SyntaxError",
     "evalue": "invalid syntax (<ipython-input-144-15afb1bb847f>, line 1)",
     "output_type": "error",
     "traceback": [
      "\u001b[1;36m  File \u001b[1;32m\"<ipython-input-144-15afb1bb847f>\"\u001b[1;36m, line \u001b[1;32m1\u001b[0m\n\u001b[1;33m    print( *[ key,value in a.items()  if (value != 0) key+1  else 0 ])\u001b[0m\n\u001b[1;37m                                                      ^\u001b[0m\n\u001b[1;31mSyntaxError\u001b[0m\u001b[1;31m:\u001b[0m invalid syntax\n"
     ]
    }
   ],
   "source": [
    "print( *[ key,value in a.items()  if (value != 0) key+1  else 0 ])"
   ]
  },
  {
   "cell_type": "code",
   "execution_count": 165,
   "id": "8a48e80b",
   "metadata": {},
   "outputs": [
    {
     "data": {
      "text/plain": [
       "3036"
      ]
     },
     "execution_count": 165,
     "metadata": {},
     "output_type": "execute_result"
    }
   ],
   "source": [
    "sum(x_n)"
   ]
  },
  {
   "cell_type": "code",
   "execution_count": 167,
   "id": "c93877a4",
   "metadata": {},
   "outputs": [
    {
     "data": {
      "text/plain": [
       "4113"
      ]
     },
     "execution_count": 167,
     "metadata": {},
     "output_type": "execute_result"
    }
   ],
   "source": [
    "sum(y_m)"
   ]
  },
  {
   "cell_type": "code",
   "execution_count": 218,
   "id": "ceb02606",
   "metadata": {},
   "outputs": [],
   "source": [
    "y_sort = sorted([50 ,14 ,5 ,418, 495, 19, 64, 462, 39, 77, 74, 23, 12, 22, 222, 791, 324, 370, 455, 177],reverse=True)"
   ]
  },
  {
   "cell_type": "code",
   "execution_count": 219,
   "id": "89c648fd",
   "metadata": {},
   "outputs": [],
   "source": [
    "x_sort = sorted([471 ,630 ,24 ,120 ,61 ,608 ,323, 32, 641, 126],reverse=True)"
   ]
  },
  {
   "cell_type": "code",
   "execution_count": 220,
   "id": "b4b22bb4",
   "metadata": {},
   "outputs": [
    {
     "name": "stdout",
     "output_type": "stream",
     "text": [
      "[641, 630, 608, 471, 323, 126, 120, 61, 32, 24] \n",
      " [791, 495, 462, 455, 418, 370, 324, 222, 177, 77, 74, 64, 50, 39, 23, 22, 19, 14, 12, 5]\n"
     ]
    }
   ],
   "source": [
    "print( x_sort,'\\n', y_sort)"
   ]
  },
  {
   "cell_type": "code",
   "execution_count": null,
   "id": "98727739",
   "metadata": {},
   "outputs": [],
   "source": [
    "{k: v for k, v in sorted(y.items(), key=lambda item: item[1])}"
   ]
  },
  {
   "cell_type": "code",
   "execution_count": 281,
   "id": "eb7520b9",
   "metadata": {},
   "outputs": [],
   "source": [
    "def read_num():\n",
    "    x = list(map(int, input().split()))\n",
    "    for i in range(len(x)):\n",
    "        x[i] = (x[i], i + 1)\n",
    "    x.sort()\n",
    "    return x"
   ]
  },
  {
   "cell_type": "code",
   "execution_count": 284,
   "id": "00032684",
   "metadata": {},
   "outputs": [
    {
     "name": "stdout",
     "output_type": "stream",
     "text": [
      "1 1\n",
      "1\n",
      "1\n",
      "0\n",
      "0\n"
     ]
    }
   ],
   "source": [
    "n, m = map(int, input().split())\n",
    "x = read_num()\n",
    "y = read_num()\n",
    "y_num = 0\n",
    "a = [0] * (n + 1)\n",
    "count = 0\n",
    "for i, x_num in x:\n",
    "    while y_num < len(y) and y[y_num][0] < i + 1:\n",
    "        y_num += 1\n",
    "    if y_num == len(y):\n",
    "        break\n",
    "    a[x_num] = y[y_num][1]\n",
    "    y_num += 1\n",
    "    count += 1\n",
    "print(count)\n",
    "print(*a[1:])"
   ]
  },
  {
   "cell_type": "markdown",
   "id": "48b8f708",
   "metadata": {},
   "source": [
    "Задача D. Правильная, круглая, скобочная\n",
    "Если из правильного арифметического выражения вычеркнуть всё, кроме круглых скобок, то получится правильная скобочная последовательность. Проверьте, является ли введённая строка правильной скобочной последовательностью.\n",
    "\n",
    "Формат ввода\n",
    "Вводится непустая строка, состоящая из открывающих и закрывающих круглых скобок. Длина строки не превосходит 100000\n",
    "\n",
    "Формат вывода\n",
    "Выведите YES если введённая строка является правильной скобочной последовательностью и NO иначе"
   ]
  },
  {
   "cell_type": "code",
   "execution_count": 153,
   "id": "bce874d6",
   "metadata": {},
   "outputs": [
    {
     "name": "stdout",
     "output_type": "stream",
     "text": [
      ")())\n"
     ]
    }
   ],
   "source": [
    "str1 = input()"
   ]
  },
  {
   "cell_type": "code",
   "execution_count": 147,
   "id": "07444e8c",
   "metadata": {},
   "outputs": [
    {
     "data": {
      "text/plain": [
       "'(()))()'"
      ]
     },
     "execution_count": 147,
     "metadata": {},
     "output_type": "execute_result"
    }
   ],
   "source": [
    "str1"
   ]
  },
  {
   "cell_type": "code",
   "execution_count": 154,
   "id": "4705f924",
   "metadata": {},
   "outputs": [],
   "source": [
    "count_o = []\n",
    "count_z = []\n",
    "j = 0"
   ]
  },
  {
   "cell_type": "code",
   "execution_count": 155,
   "id": "7224d8f7",
   "metadata": {},
   "outputs": [
    {
     "name": "stdout",
     "output_type": "stream",
     "text": [
      "NO\n"
     ]
    }
   ],
   "source": [
    "for i in range(len(str1)):\n",
    "    if str1[i] == ')':\n",
    "        count_z.append(i)\n",
    "    else:\n",
    "        count_o.append(i)\n",
    "if len(count_o) != len(count_z):\n",
    "    print(\"NO\")\n",
    "\n",
    "else:\n",
    "    while j < len(count_o):\n",
    "\n",
    "        if count_o[j] > count_z[j]:\n",
    "            print('NO')\n",
    "            break\n",
    "        j+=1\n",
    "\n",
    "if j == len(count_o):\n",
    "    print('YES')\n",
    "    "
   ]
  },
  {
   "cell_type": "code",
   "execution_count": 129,
   "id": "2e33cc1f",
   "metadata": {},
   "outputs": [
    {
     "name": "stdout",
     "output_type": "stream",
     "text": [
      "count_o [0, 1, 4]\n",
      "count_z [2, 3, 5]\n",
      "start 0\n"
     ]
    }
   ],
   "source": [
    "print('count_o', count_o)\n",
    "print('count_z', count_z)\n",
    "print('start', start)"
   ]
  },
  {
   "cell_type": "code",
   "execution_count": 32,
   "id": "ecc74071",
   "metadata": {},
   "outputs": [
    {
     "ename": "IndexError",
     "evalue": "string index out of range",
     "output_type": "error",
     "traceback": [
      "\u001b[1;31m---------------------------------------------------------------------------\u001b[0m",
      "\u001b[1;31mIndexError\u001b[0m                                Traceback (most recent call last)",
      "\u001b[1;32m<ipython-input-32-2e0d895d6196>\u001b[0m in \u001b[0;36m<module>\u001b[1;34m\u001b[0m\n\u001b[0;32m      4\u001b[0m     \u001b[1;32mif\u001b[0m \u001b[0mstr1\u001b[0m\u001b[1;33m[\u001b[0m\u001b[0mi\u001b[0m\u001b[1;33m]\u001b[0m \u001b[1;33m==\u001b[0m \u001b[1;34m')'\u001b[0m\u001b[1;33m:\u001b[0m\u001b[1;33m\u001b[0m\u001b[1;33m\u001b[0m\u001b[0m\n\u001b[0;32m      5\u001b[0m         \u001b[0mcount_1\u001b[0m \u001b[1;33m-=\u001b[0m \u001b[1;36m1\u001b[0m\u001b[1;33m\u001b[0m\u001b[1;33m\u001b[0m\u001b[0m\n\u001b[1;32m----> 6\u001b[1;33m         \u001b[1;32mwhile\u001b[0m \u001b[0mstr1\u001b[0m\u001b[1;33m[\u001b[0m\u001b[0mi\u001b[0m\u001b[1;33m]\u001b[0m \u001b[1;33m==\u001b[0m \u001b[1;34m')'\u001b[0m \u001b[1;32mand\u001b[0m \u001b[0mi\u001b[0m \u001b[1;33m<\u001b[0m \u001b[0mlen\u001b[0m\u001b[1;33m(\u001b[0m\u001b[0mstr1\u001b[0m\u001b[1;33m)\u001b[0m\u001b[1;33m:\u001b[0m\u001b[1;33m\u001b[0m\u001b[1;33m\u001b[0m\u001b[0m\n\u001b[0m\u001b[0;32m      7\u001b[0m             \u001b[0mcount_1\u001b[0m \u001b[1;33m-=\u001b[0m \u001b[1;36m1\u001b[0m\u001b[1;33m\u001b[0m\u001b[1;33m\u001b[0m\u001b[0m\n\u001b[0;32m      8\u001b[0m             \u001b[0mi\u001b[0m\u001b[1;33m+=\u001b[0m\u001b[1;36m1\u001b[0m\u001b[1;33m\u001b[0m\u001b[1;33m\u001b[0m\u001b[0m\n",
      "\u001b[1;31mIndexError\u001b[0m: string index out of range"
     ]
    }
   ],
   "source": [
    "while str1[i] != ')' and i < len(str1):\n",
    "    count_1 += 1\n",
    "    i+=1\n",
    "    if str1[i] == ')':\n",
    "        count_1 -= 1\n",
    "        while str1[i] == ')' and i < len(str1):\n",
    "            count_1 -= 1\n",
    "            i+=1\n",
    "print(count_1)"
   ]
  },
  {
   "cell_type": "code",
   "execution_count": 34,
   "id": "20640539",
   "metadata": {},
   "outputs": [
    {
     "data": {
      "text/plain": [
       "-1"
      ]
     },
     "execution_count": 34,
     "metadata": {},
     "output_type": "execute_result"
    }
   ],
   "source": [
    "count_1"
   ]
  },
  {
   "cell_type": "code",
   "execution_count": 10,
   "id": "6a1c3854",
   "metadata": {},
   "outputs": [
    {
     "name": "stdout",
     "output_type": "stream",
     "text": [
      "(\n",
      "(\n",
      ")\n",
      ")\n",
      "(\n",
      ")\n",
      "YES\n"
     ]
    }
   ],
   "source": [
    "count_1 = 0\n",
    "count_2 = 0\n",
    "for i in str1:\n",
    "    \n",
    "    if i == '(':\n",
    "        count_1 += 1\n",
    "    else:\n",
    "        count_2 += 1\n",
    "if count_1 == count_2:\n",
    "    print(\"YES\")\n",
    "else:\n",
    "    print(\"NO\")"
   ]
  },
  {
   "cell_type": "markdown",
   "id": "7b1ff0cd",
   "metadata": {},
   "source": [
    "контр пример : \")(\""
   ]
  },
  {
   "cell_type": "code",
   "execution_count": 161,
   "id": "b2b23b42",
   "metadata": {},
   "outputs": [
    {
     "name": "stdout",
     "output_type": "stream",
     "text": [
      ")\n",
      "NO\n"
     ]
    }
   ],
   "source": [
    "str1 = input()\n",
    "\n",
    "count_o = []\n",
    "count_z = []\n",
    "j = 0\n",
    "for i in range(len(str1)):\n",
    "    if str1[i] == ')':\n",
    "        count_z.append(i)\n",
    "    else:\n",
    "        count_o.append(i)\n",
    "if len(count_o) != len(count_z):\n",
    "    print(\"NO\")\n",
    "\n",
    "else:\n",
    "    while j < len(count_o):\n",
    "\n",
    "        if count_o[j] > count_z[j]:\n",
    "            print('NO')\n",
    "            break\n",
    "        j+=1\n",
    "\n",
    "if j == len(count_o) and j == len(count_z):\n",
    "    print('YES')"
   ]
  },
  {
   "cell_type": "markdown",
   "id": "60670ad9",
   "metadata": {},
   "source": [
    "Задача E. Сумма трёх"
   ]
  },
  {
   "cell_type": "markdown",
   "id": "50d466d9",
   "metadata": {},
   "source": [
    "Даны три массива целых чисел A,B,C и целое число S.\n",
    "Найдите такие i,j,k, что Ai+Bj+Ck=S.\n",
    "\n",
    "Формат ввода\n",
    "На первой строке число \n",
    "S (1≤S≤109). Следующие три строки содержат описание массивов \n",
    "A,B,C в одинаковом формате: первое число задает длину \n",
    "n соответствующего массива (1≤n≤15000), затем заданы n целых чисел от 1 до109— сам массив.\n",
    "Формат вывода\n",
    "Если таких i,j,k не существует, выведите единственное число \n",
    "−1. Иначе выведите на одной строке три числа — i,j,k. Элементы массивов нумеруются с нуля. Если ответов несколько, выведите лексикографически минимальный."
   ]
  },
  {
   "cell_type": "code",
   "execution_count": 241,
   "id": "56127756",
   "metadata": {},
   "outputs": [
    {
     "name": "stdout",
     "output_type": "stream",
     "text": [
      "3\n"
     ]
    }
   ],
   "source": [
    "S = int(input())\n",
    "3\n",
    "2 1 2\n",
    "2 3 1\n",
    "2 3 1"
   ]
  },
  {
   "cell_type": "code",
   "execution_count": 256,
   "id": "4e02ea7f",
   "metadata": {},
   "outputs": [
    {
     "name": "stdout",
     "output_type": "stream",
     "text": [
      "2 1 2\n",
      "2 3 1\n",
      "2 3 1\n"
     ]
    }
   ],
   "source": [
    "A = list(map(int, input().split()))\n",
    "B = list(map(int, input().split()))\n",
    "C = list(map(int, input().split()))\n"
   ]
  },
  {
   "cell_type": "code",
   "execution_count": 253,
   "id": "9cdb1d4e",
   "metadata": {},
   "outputs": [
    {
     "data": {
      "text/plain": [
       "3"
      ]
     },
     "execution_count": 253,
     "metadata": {},
     "output_type": "execute_result"
    }
   ],
   "source": [
    "c[1]"
   ]
  },
  {
   "cell_type": "code",
   "execution_count": 257,
   "id": "eaeabbe8",
   "metadata": {},
   "outputs": [
    {
     "name": "stdout",
     "output_type": "stream",
     "text": [
      "1\n",
      "A[i] 1\n",
      "llllllll\n",
      "B[j] 3\n",
      "sum 4\n",
      "more 2\n",
      "x 1\n",
      "0 1 1\n"
     ]
    }
   ],
   "source": [
    "j = 1\n",
    "a = -1\n",
    "for i in range(1,len(A)):\n",
    "    print(i)\n",
    "    print('A[i]',A[i])\n",
    "    \n",
    "    while j < B[0]+1 and i < A[0]+1 and A[i] < S:\n",
    "        print('llllllll')\n",
    "        print('B[j]',B[j])\n",
    "        k = [0] \n",
    "        if B[j] > S:\n",
    "            j+=1\n",
    "        print('sum', A[i] + B[j] ) \n",
    "        if A[i] + B[j] > S:\n",
    "            j+=1\n",
    "            print('more',j)\n",
    "        x = S - (A[i] + B[j])\n",
    "        print('x',x)\n",
    "        k = C.index(x)\n",
    "        if k != 0:\n",
    "            a = [i-1,j-1,k-1]\n",
    "            #print('OTVET',i-1,j-1,k)\n",
    "            break\n",
    "        #print('C[i]',[idx for znac,idx in enumerate(C[1:C[0]]) if znac==x][0])\n",
    "        #print('OTVET',i-1,j-1,k)\n",
    "        \n",
    "        print('llllllll')\n",
    "        j+=1\n",
    "    if a != -1:\n",
    "        break\n",
    "print(*a)"
   ]
  },
  {
   "cell_type": "code",
   "execution_count": 254,
   "id": "01ab3f23",
   "metadata": {},
   "outputs": [
    {
     "data": {
      "text/plain": [
       "[]"
      ]
     },
     "execution_count": 254,
     "metadata": {},
     "output_type": "execute_result"
    }
   ],
   "source": [
    "C"
   ]
  },
  {
   "cell_type": "code",
   "execution_count": null,
   "id": "27a7d3bc",
   "metadata": {},
   "outputs": [],
   "source": [
    "j = 1\n",
    "a = -1\n",
    "for i in range(1,len(A)):    \n",
    "    while j < B[0]+1 and i < A[0]+1 and A[i] < S:\n",
    "        print('llllllll')\n",
    "        print('B[j]',B[j])\n",
    "        k = 0 \n",
    "        if B[j] > S:\n",
    "            j+=1\n",
    "        print('sum', A[i] + B[j] ) \n",
    "        if A[i] + B[j] > S:\n",
    "            j+=1\n",
    "            print('more',j)\n",
    "        x = S - (A[i] + B[j])\n",
    "        print('x',x)\n",
    "        k = C.index(x)\n",
    "        if k != 0:\n",
    "            a = [i-1,j-1,k-1]\n",
    "            #print('OTVET',i-1,j-1,k)\n",
    "            break\n",
    "        #print('C[i]',[idx for znac,idx in enumerate(C[1:C[0]]) if znac==x][0])\n",
    "        #print('OTVET',i-1,j-1,k)\n",
    "        \n",
    "        print('llllllll')\n",
    "        j+=1\n",
    "    if a != -1:\n",
    "        break\n",
    "print(*a)"
   ]
  },
  {
   "cell_type": "code",
   "execution_count": 246,
   "id": "10f8b1a5",
   "metadata": {},
   "outputs": [
    {
     "ename": "ValueError",
     "evalue": "1 is not in list",
     "output_type": "error",
     "traceback": [
      "\u001b[1;31m---------------------------------------------------------------------------\u001b[0m",
      "\u001b[1;31mValueError\u001b[0m                                Traceback (most recent call last)",
      "\u001b[1;32m<ipython-input-246-a80f9e9bd22f>\u001b[0m in \u001b[0;36m<module>\u001b[1;34m\u001b[0m\n\u001b[1;32m----> 1\u001b[1;33m \u001b[0mC\u001b[0m\u001b[1;33m[\u001b[0m\u001b[1;36m1\u001b[0m\u001b[1;33m:\u001b[0m\u001b[0mC\u001b[0m\u001b[1;33m[\u001b[0m\u001b[1;36m0\u001b[0m\u001b[1;33m]\u001b[0m\u001b[1;33m]\u001b[0m\u001b[1;33m.\u001b[0m\u001b[0mindex\u001b[0m\u001b[1;33m(\u001b[0m\u001b[1;36m1\u001b[0m\u001b[1;33m)\u001b[0m\u001b[1;33m\u001b[0m\u001b[1;33m\u001b[0m\u001b[0m\n\u001b[0m",
      "\u001b[1;31mValueError\u001b[0m: 1 is not in list"
     ]
    }
   ],
   "source": [
    "C[1:C[0]].index(1)"
   ]
  },
  {
   "cell_type": "code",
   "execution_count": 352,
   "id": "bd2ea18d",
   "metadata": {},
   "outputs": [
    {
     "name": "stdout",
     "output_type": "stream",
     "text": [
      "0 1 2\n"
     ]
    }
   ],
   "source": [
    "j = 0\n",
    "a = [-1]\n",
    "\n",
    "for i in range(1,A[0]+1):\n",
    "    k=-1\n",
    "    for j in range(1,B[0]+1):\n",
    "        if j < B[0]+1 and A[i] < S and B[j] < S and A[i] + B[j] < S:\n",
    "            \n",
    "            x = S - (A[i] + B[j])\n",
    "            \n",
    "            if int(x) in C:\n",
    "                k = C.index(x)\n",
    "            if k != -1:\n",
    "                a = [i-1,j-1,k]\n",
    "                print(*a)\n",
    "                break \n",
    "            j+=1\n",
    "            \n",
    "    if a[0] != -1:\n",
    "        break\n",
    "        \n",
    "if j == B[0]+1 and a[0] == -1:\n",
    "    print(*a)"
   ]
  },
  {
   "cell_type": "code",
   "execution_count": 351,
   "id": "426adb96",
   "metadata": {},
   "outputs": [
    {
     "name": "stdout",
     "output_type": "stream",
     "text": [
      "1\n",
      "1\n",
      "B[j] 5\n",
      "2\n",
      "B[j] 2\n",
      "x 2\n",
      "answer 0 1 2\n"
     ]
    }
   ],
   "source": [
    "\n",
    "j = 0\n",
    "a = [-1]\n",
    "\n",
    "for i in range(1,A[0]+1):\n",
    "    print(i)\n",
    "    k=-1\n",
    "    for j in range(1,B[0]+1):\n",
    "        \n",
    "        print(j)\n",
    "        print('B[j]',B[j])\n",
    "        if j < B[0]+1 and A[i] < S and B[j] < S and A[i] + B[j] < S:\n",
    "            \n",
    "            x = S - (A[i] + B[j])\n",
    "            print('x',x)\n",
    "            if int(x) in C:\n",
    "                \n",
    "                k = C.index(x)\n",
    "                \n",
    "            if k != -1:\n",
    "                a = [i-1,j-1,k]\n",
    "                print('answer',*a)\n",
    "                break \n",
    "\n",
    "            j+=1\n",
    "            print(j)\n",
    "    if a[0] != -1:\n",
    "        break\n",
    "if j == B[0]+1 and a[0] == -1:\n",
    "    print(*a)\n",
    "    \n",
    "        "
   ]
  },
  {
   "cell_type": "code",
   "execution_count": null,
   "id": "5e8ab433",
   "metadata": {},
   "outputs": [],
   "source": [
    "3\n",
    "2 1 2\n",
    "2 3 1\n",
    "2 3 1\n"
   ]
  },
  {
   "cell_type": "code",
   "execution_count": 414,
   "id": "b4aba64a",
   "metadata": {},
   "outputs": [
    {
     "name": "stdout",
     "output_type": "stream",
     "text": [
      "3\n",
      "2 1 2\n",
      "3 2 3 1\n",
      "2 2 1\n"
     ]
    },
    {
     "data": {
      "text/plain": [
       "2"
      ]
     },
     "execution_count": 414,
     "metadata": {},
     "output_type": "execute_result"
    }
   ],
   "source": [
    "S = int(input())\n",
    "A = list(map(int, input().split()))\n",
    "B = list(map(int, input().split()))\n",
    "C = list(map(int, input().split()))\n",
    "C.pop(0)"
   ]
  },
  {
   "cell_type": "code",
   "execution_count": 415,
   "id": "5b4e53e1",
   "metadata": {},
   "outputs": [
    {
     "name": "stdout",
     "output_type": "stream",
     "text": [
      "A: 3\n",
      "B: 4\n",
      "i 1\n",
      "j 1\n",
      "j 2\n",
      "j 3\n",
      "x 1\n",
      "i 2\n",
      "0 2 1\n"
     ]
    }
   ],
   "source": [
    "\n",
    "j = 1\n",
    "a = [-1]\n",
    "i = 1\n",
    "print('A:',len(A))\n",
    "print('B:',len(B))\n",
    "while i < A[0] + 1:\n",
    "    print('i',i)\n",
    "    while j < B[0]+1 and a[0] == -1:\n",
    "        print('j',j)\n",
    "        k = -1\n",
    "        if A[i] + B[j] < S:\n",
    "            x = S - (A[i] + B[j])\n",
    "            print('x',x)\n",
    "            if x in C:\n",
    "                k = C.index(x)\n",
    "                a = [i-1,j-1,k]\n",
    "                break\n",
    "        j+= 1\n",
    "        \n",
    "    i+=1\n",
    "print(*a)   "
   ]
  },
  {
   "cell_type": "code",
   "execution_count": null,
   "id": "c67d7ed2",
   "metadata": {},
   "outputs": [],
   "source": []
  },
  {
   "cell_type": "code",
   "execution_count": 417,
   "id": "2791fea7",
   "metadata": {},
   "outputs": [
    {
     "name": "stdout",
     "output_type": "stream",
     "text": [
      "7\n",
      "3 5 2 1\n",
      "2 5 3\n",
      "1 1\n",
      "-1\n"
     ]
    }
   ],
   "source": [
    "S = int(input())\n",
    "A = list(map(int, input().split()))\n",
    "B = list(map(int, input().split()))\n",
    "C = list(map(int, input().split()))\n",
    "C.pop(0)\n",
    "\n",
    "j = 1\n",
    "a = [-1]\n",
    "i = 1\n",
    "\n",
    "while i < A[0] + 1:\n",
    "    \n",
    "    while j < B[0]+1 and a[0] == -1:\n",
    "        \n",
    "        k = -1\n",
    "        if A[i] + B[j] < S:\n",
    "            x = S - (A[i] + B[j])\n",
    "            \n",
    "            if x in C:\n",
    "                k = C.index(x)\n",
    "                a = [i-1,j-1,k]\n",
    "                break\n",
    "        j+= 1\n",
    "        \n",
    "    i+=1\n",
    "print(*a) "
   ]
  },
  {
   "cell_type": "code",
   "execution_count": 464,
   "id": "a27ca868",
   "metadata": {},
   "outputs": [
    {
     "name": "stdout",
     "output_type": "stream",
     "text": [
      "3\n"
     ]
    }
   ],
   "source": [
    "S = int(input())\n",
    "def read_num_sort(S):\n",
    "    x = list(map(int, input().split()))\n",
    "    n = x[0]\n",
    "    x.pop(0)\n",
    "    print(n)\n",
    "    a = []\n",
    "    for i in range(n):\n",
    "        print(i)\n",
    "        if x[i] < S:\n",
    "            a.append((x[i], i ))\n",
    "    a.sort()\n",
    "    return a"
   ]
  },
  {
   "cell_type": "code",
   "execution_count": 453,
   "id": "b69b4730",
   "metadata": {},
   "outputs": [],
   "source": [
    "n, m = map(int, input().split())\n",
    "x = read_num()\n",
    "y = read_num()\n",
    "y_num = 0\n",
    "a = [0] * (n + 1)\n",
    "count = 0\n",
    "for i, x_num in x:\n",
    "    while y_num < len(y) and y[y_num][0] < i + 1:\n",
    "        y_num += 1\n",
    "    if y_num == len(y):\n",
    "        break\n",
    "    a[x_num] = y[y_num][1]\n",
    "    y_num += 1\n",
    "    count += 1\n",
    "print(count)\n",
    "print(*a[1:])"
   ]
  },
  {
   "cell_type": "code",
   "execution_count": 465,
   "id": "6c65cc51",
   "metadata": {},
   "outputs": [
    {
     "name": "stdout",
     "output_type": "stream",
     "text": [
      "2 1 2 \n",
      "2\n",
      "0\n",
      "1\n",
      "2 3 1\n",
      "2\n",
      "0\n",
      "1\n",
      "2 3 1\n",
      "2\n",
      "0\n",
      "1\n"
     ]
    }
   ],
   "source": [
    "A = read_num_sort(S)  \n",
    "B = read_num_sort(S) \n",
    "C = read_num_sort(S)"
   ]
  },
  {
   "cell_type": "code",
   "execution_count": 466,
   "id": "a1f008be",
   "metadata": {},
   "outputs": [
    {
     "name": "stdout",
     "output_type": "stream",
     "text": [
      "[(1, 0), (2, 1)] \n",
      " [(1, 1)] \n",
      " [(1, 1)]\n"
     ]
    }
   ],
   "source": [
    "print(A,'\\n',B,'\\n',C)"
   ]
  },
  {
   "cell_type": "code",
   "execution_count": 468,
   "id": "de2c6f69",
   "metadata": {},
   "outputs": [
    {
     "name": "stdout",
     "output_type": "stream",
     "text": [
      "0\n",
      "1\n"
     ]
    }
   ],
   "source": [
    "i = 0\n",
    "j = 0\n",
    "while i < len(A):\n",
    "    if A[i]+ B[j] < S:\n",
    "        x = S - (A[i]+ B[j])\n",
    "        if x in C[]:\n",
    "            \n",
    "    i+=1\n",
    "    "
   ]
  },
  {
   "cell_type": "code",
   "execution_count": 475,
   "id": "967dba82",
   "metadata": {},
   "outputs": [
    {
     "name": "stdout",
     "output_type": "stream",
     "text": [
      "10\n",
      "1 5\n",
      "1 4\n",
      "1 3\n",
      "-1\n"
     ]
    }
   ],
   "source": [
    "S = int(input())\n",
    "A = list(map(int, input().split()))\n",
    "B = list(map(int, input().split()))\n",
    "C = list(map(int, input().split()))\n",
    "C.pop(0)\n",
    "\n",
    "a = [-1]\n",
    "\n",
    "for i in range(1,A[0]+1):\n",
    "    k=-1\n",
    "    j = 1\n",
    "    while j < len(B):\n",
    "        if j < B[0]+1 and A[i] + B[j] < S:\n",
    "            \n",
    "            x = S - (A[i] + B[j])\n",
    "            \n",
    "            if int(x) in C:\n",
    "                k = C.index(x)\n",
    "                a = [i-1,j-1,k]\n",
    "                break \n",
    "        j+=1\n",
    "            \n",
    "    if a[0] != -1:\n",
    "        break\n",
    "        \n",
    "\n",
    "print(*a)"
   ]
  },
  {
   "cell_type": "code",
   "execution_count": 527,
   "id": "55be9cfa",
   "metadata": {},
   "outputs": [
    {
     "name": "stdout",
     "output_type": "stream",
     "text": [
      "3 3 4 4\n"
     ]
    }
   ],
   "source": [
    "C = list(map(int, input().split()))"
   ]
  },
  {
   "cell_type": "code",
   "execution_count": 528,
   "id": "e1baff66",
   "metadata": {},
   "outputs": [
    {
     "data": {
      "text/plain": [
       "{4: 2, 3: 1}"
      ]
     },
     "execution_count": 528,
     "metadata": {},
     "output_type": "execute_result"
    }
   ],
   "source": [
    "b = {C[i]:i for i in range(len(C)-1,0, -1)}\n",
    "b"
   ]
  },
  {
   "cell_type": "code",
   "execution_count": 529,
   "id": "e13ca50b",
   "metadata": {},
   "outputs": [
    {
     "name": "stdout",
     "output_type": "stream",
     "text": [
      "9\n",
      "1 1\n",
      "2 4 2\n",
      "3 3 4 4\n",
      "{4: 2, 3: 1}\n"
     ]
    }
   ],
   "source": [
    "S = int(input())\n",
    "A = list(map(int, input().split()))\n",
    "B = list(map(int, input().split()))\n",
    "с = list(map(int, input().split()))\n",
    "C = {с[i]:i for i in range(len(с)-1,0, -1)}\n",
    "print(C)"
   ]
  },
  {
   "cell_type": "code",
   "execution_count": 531,
   "id": "b4726872",
   "metadata": {},
   "outputs": [
    {
     "name": "stdout",
     "output_type": "stream",
     "text": [
      "0 0 1\n"
     ]
    }
   ],
   "source": [
    "\n",
    "a = [-1]\n",
    "\n",
    "for i in range(1,A[0]+1):\n",
    "    k=-1\n",
    "    j = 1\n",
    "    while j < len(B):\n",
    "        if j < B[0]+1 and A[i] + B[j] < S:\n",
    "            \n",
    "            x = S - (A[i] + B[j])\n",
    "            \n",
    "            if int(x) in C:\n",
    "                k = C[x]\n",
    "                a = [i-1,j-1,k-1]\n",
    "                break \n",
    "        j+=1\n",
    "            \n",
    "    if a[0] != -1:\n",
    "        break\n",
    "        \n",
    "\n",
    "print(*a)"
   ]
  },
  {
   "cell_type": "code",
   "execution_count": null,
   "id": "7c1a1605",
   "metadata": {},
   "outputs": [],
   "source": []
  }
 ],
 "metadata": {
  "kernelspec": {
   "display_name": "Python 3",
   "language": "python",
   "name": "python3"
  },
  "language_info": {
   "codemirror_mode": {
    "name": "ipython",
    "version": 3
   },
   "file_extension": ".py",
   "mimetype": "text/x-python",
   "name": "python",
   "nbconvert_exporter": "python",
   "pygments_lexer": "ipython3",
   "version": "3.8.8"
  }
 },
 "nbformat": 4,
 "nbformat_minor": 5
}
